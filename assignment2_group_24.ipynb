{
  "nbformat": 4,
  "nbformat_minor": 0,
  "metadata": {
    "colab": {
      "provenance": [],
      "collapsed_sections": [],
      "include_colab_link": true
    },
    "kernelspec": {
      "name": "python3",
      "display_name": "Python 3"
    },
    "language_info": {
      "name": "python"
    }
  },
  "cells": [
    {
      "cell_type": "markdown",
      "metadata": {
        "id": "view-in-github",
        "colab_type": "text"
      },
      "source": [
        "<a href=\"https://colab.research.google.com/github/acollin19/comp551/blob/adam/assignment2_group_24.ipynb\" target=\"_parent\"><img src=\"https://colab.research.google.com/assets/colab-badge.svg\" alt=\"Open In Colab\"/></a>"
      ]
    },
    {
      "cell_type": "markdown",
      "source": [
        "# Assignment 2\n",
        "\n",
        "## Process:\n",
        "\n",
        "### Task 1: Data Processing  \n",
        "\n",
        "\n",
        "1. IMDB Reviews\n",
        "2. 20 news groups: a multi-class labelled textual dataset\n",
        "\n",
        "\n",
        "### Task 2: Implement Logistic and Multiclass classifiers\n",
        "\n",
        "1. Logistic Regression\n",
        "2. Multiclass Regression\n",
        "3. Comparisons using ROC curve\n",
        "\n",
        "\n",
        "### Task 3: Running Experiments\n",
        "\n",
        "\n",
        "\n",
        "1.    Most positive/negative Z-scores\n",
        "2.   Implement:  \n",
        "    * Binary classification on the IMDB Reviews\n",
        "\n",
        "  *   Multi-class classification on the 20 news group dataset\n",
        "\n",
        "3. Binary classification AUROC on IMDB data\n",
        "  *   Logistic Regression \n",
        "  *   KNN\n",
        "\n",
        "4. Multiclass classification accuracy\n",
        "\n",
        "5. Compare Accuracy of Models (Plot)\n",
        "\n",
        "\n",
        "\n",
        "\n",
        "\n"
      ],
      "metadata": {
        "id": "3MPLXGJNqqK6"
      }
    },
    {
      "cell_type": "code",
      "execution_count": null,
      "metadata": {
        "id": "zk8gZ35HpnLe"
      },
      "outputs": [],
      "source": [
        "import pandas as pd\n",
        "import numpy as np\n",
        "from sklearn.datasets import load_svmlight_file\n",
        "from scipy.sparse import csr_matrix\n",
        "\n",
        "from sklearn.datasets import fetch_20newsgroups\n",
        "from sklearn.feature_extraction.text import CountVectorizer, TfidfTransformer\n",
        "\n",
        "# Multiclass Regression and ROC curve comparisons\n",
        "from sklearn import model_selection\n",
        "from matplotlib import pyplot as plt\n",
        "from sklearn.metrics import roc_curve, roc_auc_score\n",
        "from sklearn.linear_model import LogisticRegression as sk_LogisticRegression\n",
        "from sklearn.tree import DecisionTreeClassifier\n",
        "from sklearn.neighbors import KNeighborsClassifier\n",
        "from nltk import word_tokenize, download\n",
        "from nltk.corpus import stopwords\n"
      ]
    },
    {
      "cell_type": "code",
      "source": [
        "!curl -O https://ai.stanford.edu/~amaas/data/sentiment/aclImdb_v1.tar.gz\n",
        "!tar -xf aclImdb_v1.tar.gz"
      ],
      "metadata": {
        "colab": {
          "base_uri": "https://localhost:8080/"
        },
        "id": "CHwlrYyNIEVK",
        "outputId": "fb4095a1-76bb-43cb-cc61-e021dc057f78"
      },
      "execution_count": null,
      "outputs": [
        {
          "output_type": "stream",
          "name": "stdout",
          "text": [
            "  % Total    % Received % Xferd  Average Speed   Time    Time     Time  Current\n",
            "                                 Dload  Upload   Total   Spent    Left  Speed\n",
            "100 80.2M  100 80.2M    0     0  47.2M      0  0:00:01  0:00:01 --:--:-- 47.2M\n"
          ]
        }
      ]
    },
    {
      "cell_type": "code",
      "source": [
        "# IMDB dataset preprocession\n",
        "IMDB_X_train, IMDB_y_train= load_svmlight_file('aclImdb/train/labeledBow.feat')\n",
        "IMDB_X_test, IMDB_y_test = load_svmlight_file('aclImdb/test/labeledBow.feat') \n",
        "\n",
        "# IMDB_y_train[IMDB_y_train < 5] = -1.0\n",
        "# IMDB_y_train[IMDB_y_train >= 5] = 1.0\n",
        "\n",
        "# vectors = load_svmlight_file('aclImdb/train/labeledBow.feat')\n",
        "\n",
        "'''\n",
        "# Needs cleaning \n",
        "- choose the top D ∈ [100, 1000] features by their absolute z-score  using simple regression\n",
        "''' \n",
        "print(IMDB_X_train)"
      ],
      "metadata": {
        "id": "RNMsl4tlfmJD",
        "outputId": "cb168ac0-cd8f-41d9-99ab-03ea07142a1f",
        "colab": {
          "base_uri": "https://localhost:8080/"
        }
      },
      "execution_count": null,
      "outputs": [
        {
          "output_type": "stream",
          "name": "stdout",
          "text": [
            "  (0, 0)\t9.0\n",
            "  (0, 1)\t1.0\n",
            "  (0, 2)\t4.0\n",
            "  (0, 3)\t4.0\n",
            "  (0, 4)\t6.0\n",
            "  (0, 5)\t4.0\n",
            "  (0, 6)\t2.0\n",
            "  (0, 7)\t2.0\n",
            "  (0, 8)\t4.0\n",
            "  (0, 10)\t4.0\n",
            "  (0, 12)\t2.0\n",
            "  (0, 26)\t1.0\n",
            "  (0, 27)\t1.0\n",
            "  (0, 28)\t1.0\n",
            "  (0, 29)\t2.0\n",
            "  (0, 32)\t1.0\n",
            "  (0, 41)\t1.0\n",
            "  (0, 45)\t1.0\n",
            "  (0, 47)\t1.0\n",
            "  (0, 50)\t1.0\n",
            "  (0, 54)\t2.0\n",
            "  (0, 57)\t1.0\n",
            "  (0, 59)\t1.0\n",
            "  (0, 63)\t2.0\n",
            "  (0, 64)\t1.0\n",
            "  :\t:\n",
            "  (24999, 420)\t1.0\n",
            "  (24999, 421)\t1.0\n",
            "  (24999, 426)\t1.0\n",
            "  (24999, 427)\t1.0\n",
            "  (24999, 583)\t1.0\n",
            "  (24999, 585)\t1.0\n",
            "  (24999, 642)\t1.0\n",
            "  (24999, 679)\t2.0\n",
            "  (24999, 680)\t1.0\n",
            "  (24999, 1065)\t1.0\n",
            "  (24999, 1093)\t1.0\n",
            "  (24999, 1224)\t1.0\n",
            "  (24999, 1407)\t1.0\n",
            "  (24999, 1773)\t1.0\n",
            "  (24999, 3947)\t1.0\n",
            "  (24999, 4292)\t1.0\n",
            "  (24999, 4569)\t1.0\n",
            "  (24999, 4949)\t1.0\n",
            "  (24999, 5072)\t1.0\n",
            "  (24999, 5792)\t1.0\n",
            "  (24999, 5947)\t1.0\n",
            "  (24999, 9702)\t1.0\n",
            "  (24999, 12190)\t1.0\n",
            "  (24999, 12803)\t1.0\n",
            "  (24999, 15612)\t1.0\n"
          ]
        }
      ]
    },
    {
      "cell_type": "code",
      "source": [
        "# 1st element in tuple represents the file its in, 2nd element represents the index of word it represents in vocab, float represents frequency\n",
        "# want to remove the words that appear in less than 1% of all documents # only appear in 250 documents\n",
        "# want to remove the words that appear in more than 50% of all documents # appear in 12500 documents\n",
        "import scipy.sparse as sp\n",
        "sign = sum(IMDB_X_train.sign()) # 1 if the word appears in the text 0 if not\n",
        "good = (sign < 12500) - (sign < 250)\n",
        "indices = sp.find(good)\n",
        "\n",
        "IMDB_X_train = IMDB_X_train[:,indices[1]]\n",
        "IMDB_X_train.todense()\n",
        "print(IMDB_X_train)"
      ],
      "metadata": {
        "id": "CvVZpw-SLx6f",
        "outputId": "a13d886a-676e-4820-e3bb-dc2177a68d33",
        "colab": {
          "base_uri": "https://localhost:8080/"
        }
      },
      "execution_count": null,
      "outputs": [
        {
          "output_type": "stream",
          "name": "stderr",
          "text": [
            "/usr/local/lib/python3.7/dist-packages/scipy/sparse/compressed.py:291: SparseEfficiencyWarning: Comparing a sparse matrix with a scalar greater than zero using < is inefficient, try using >= instead.\n",
            "  warn(bad_scalar_msg, SparseEfficiencyWarning)\n"
          ]
        },
        {
          "output_type": "stream",
          "name": "stdout",
          "text": [
            "  (0, 2)\t1.0\n",
            "  (0, 5)\t1.0\n",
            "  (0, 14)\t1.0\n",
            "  (0, 18)\t1.0\n",
            "  (0, 20)\t1.0\n",
            "  (0, 23)\t1.0\n",
            "  (0, 27)\t2.0\n",
            "  (0, 30)\t1.0\n",
            "  (0, 32)\t1.0\n",
            "  (0, 36)\t2.0\n",
            "  (0, 37)\t1.0\n",
            "  (0, 39)\t1.0\n",
            "  (0, 41)\t2.0\n",
            "  (0, 43)\t1.0\n",
            "  (0, 45)\t1.0\n",
            "  (0, 51)\t1.0\n",
            "  (0, 73)\t1.0\n",
            "  (0, 79)\t1.0\n",
            "  (0, 89)\t1.0\n",
            "  (0, 95)\t1.0\n",
            "  (0, 98)\t1.0\n",
            "  (0, 109)\t1.0\n",
            "  (0, 113)\t1.0\n",
            "  (0, 115)\t1.0\n",
            "  (0, 123)\t1.0\n",
            "  :\t:\n",
            "  (24999, 176)\t1.0\n",
            "  (24999, 178)\t1.0\n",
            "  (24999, 206)\t1.0\n",
            "  (24999, 228)\t1.0\n",
            "  (24999, 240)\t1.0\n",
            "  (24999, 272)\t1.0\n",
            "  (24999, 277)\t1.0\n",
            "  (24999, 285)\t1.0\n",
            "  (24999, 310)\t1.0\n",
            "  (24999, 317)\t1.0\n",
            "  (24999, 320)\t1.0\n",
            "  (24999, 364)\t1.0\n",
            "  (24999, 393)\t1.0\n",
            "  (24999, 394)\t1.0\n",
            "  (24999, 399)\t1.0\n",
            "  (24999, 400)\t1.0\n",
            "  (24999, 556)\t1.0\n",
            "  (24999, 558)\t1.0\n",
            "  (24999, 615)\t1.0\n",
            "  (24999, 652)\t2.0\n",
            "  (24999, 653)\t1.0\n",
            "  (24999, 1038)\t1.0\n",
            "  (24999, 1066)\t1.0\n",
            "  (24999, 1195)\t1.0\n",
            "  (24999, 1369)\t1.0\n"
          ]
        }
      ]
    },
    {
      "cell_type": "markdown",
      "source": [
        "## Z-Score Function"
      ],
      "metadata": {
        "id": "3k6XRFDaHUqm"
      }
    },
    {
      "cell_type": "code",
      "source": [
        "from sklearn.utils.extmath import sparse\n",
        "# Z - Score\n",
        "def zscore(X,y):\n",
        "\n",
        "  N = X.shape[0]\n",
        "  std = (IMDB_y_train- y.mean()) / y.std()\n",
        "  z = np. abs(sp.csr_matrix.dot (sp.csr_matrix.transpose(X), std))\n",
        "\n",
        "  return z\n",
        "\n",
        "\n",
        "df = pd.DataFrame(IMDB_X_train.toarray())\n",
        "df.insert(loc=0, column=\"A\", value=IMDB_y_train)\n",
        "IMDB_X_train = sp.csr_matrix(df.values)\n",
        "IMDB_X_train.todense()\n",
        "IMDB_arr = IMDB_X_train.toarray()\n",
        "\n",
        "zscores = zscore(IMDB_X_train,IMDB_y_train)\n",
        "\n",
        "zindex = np.argsort(zscores)[::-1][:400]\n",
        "\n",
        "# trim feature set\n",
        "IMDB_X_train = IMDB_X_train[:,zindex]\n",
        "IMDB_X_test = IMDB_X_test[:,zindex]\n",
        "\n",
        "# trim word list\n",
        "vocab = pd.read_csv('aclImdb/imdb.vocab', names=['Words'])\n",
        "\n",
        "vocab = vocab['Words'].tolist()\n",
        "\n",
        "vocab = [vocab[i] for i in zindex]\n",
        "\n",
        "print(vocab)\n",
        "print(zscores)\n",
        "print(zscores.shape[0])#1746"
      ],
      "metadata": {
        "colab": {
          "base_uri": "https://localhost:8080/"
        },
        "id": "jKj3Uv9UHUKI",
        "outputId": "f497b600-9c40-4484-dbec-138a8a39856c"
      },
      "execution_count": null,
      "outputs": [
        {
          "output_type": "stream",
          "name": "stdout",
          "text": [
            "['the', 'you', 'she', 'a', 'time', 'at', 'with', '!', 'in', 'was', 'interesting', 'for', 'one', 'its', 'and', 'as', \"don't\", 'that', 'but', 'this', 'even', 'really', 'how', 'great', 'what', 'these', 'made', 'from', 'who', 'film', 'seen', 'well', 'so', 'to', 'me', 'enjoy', 'we', 'lost', 'had', 'no', 'series', 'main', 'need', 'when', 'better', 'it', 'home', 'be', 'classic', 'about', 'read', 'big', 'human', 'man', 'sure', 'old', 'only', 'during', 'i', 'let', \"doesn't\", 'another', 'called', 'is', 'watch', 'life', 'long', 'or', 'story', 'he', 'think', 'any', 'pretty', 'over', \"i've\", 'into', 'their', 'friend', 'both', 'down', 'us', 'have', 'movies', 'recommend', 'some', 'up', 'sex', 'on', 'little', 'writer', 'his', 'absolutely', 'see', 'there', 'where', 'why', 'after', 'thought', 'totally', 'good', 'them', 'show', 'someone', 'fact', 'then', 'movie', 'making', 'like', 'not', 'budget', 'bit', 'days', 'could', 'part', 'other', 'makes', 'again', 'nice', 'our', 'looking', 'woman', 'king', 'michael', 'fun', 'by', 'of', 'here', 'kind', 'actually', 'tv', 'others', 'day', 'years', 'horrible', 'which', 'now', 'dull', 'last', 'year', 'comes', 'wonder', 'music', 'very', 'say', 'oscar', 'short', 'two', 'space', 'least', 'also', 'within', 'turns', 'through', 'beautiful', 'they', 'everyone', 'scenes', 'all', 'director', 'same', 'her', 'few', 'dr', 'out', 'black', 'death', 'book', 'way', 'look', 'start', 'actor', 'has', 'each', 'thing', 'extremely', 'laugh', 'between', 'minutes', \"wasn't\", \"can't\", 'based', 'though', 'got', 'beginning', 'being', 'room', 'next', 'simply', 'may', 'wife', 'richard', 'effects', 'since', 'directors', 'feel', 'worst', 'been', 'sometimes', 'la', 'dog', 'want', 'says', 'such', 'definitely', 'put', 'anything', 'written', 'problem', 'performance', 'must', 'attempts', 'episode', 'murder', 'times', 'your', 'would', 'boring', 'know', 'turned', 'running', 'chance', 'de', 'still', 'feeling', 'certain', 'together', 'alone', 'scene', 'drama', 'college', 'slasher', 'myself', 'fantastic', 'role', 'more', 'especially', 'performances', 'jokes', \"didn't\", 'enjoyable', 'go', 'felt', 'took', 'original', \"wouldn't\", 'showing', \"i'm\", 'jane', 'can', 'sound', 'modern', 'hands', 'half', 'hardly', 'worked', 'nothing', 'certainly', 'couple', 'full', 'evil', 'thank', \"haven't\", 'use', 'does', 'children', 'favorite', 'anyway', 'experience', 'killing', 'genre', 'acting', 'person', 'different', 'overall', 'than', 'personal', 'playing', 'sort', 'personally', 'every', 'involved', 'exactly', 'if', 'ask', 'going', 'taking', 'dead', 'roles', 'while', 'girls', 'effect', 'loved', 'rate', 'tell', 'house', 'attempt', 'body', 'remember', 'kill', 'escape', 'despite', 'hours', 'plot', 'fan', 'having', 'sexy', 'family', 'view', 'found', 'count', 'fine', 'mean', 'strange', 'scott', 'computer', 's', 'play', 'style', 'everything', 'hate', 'poor', 'town', 'terrific', 'strong', 'yes', 'considered', 'seriously', 'money', 'mind', 'apparently', 'solid', 'else', 'near', 'wonderful', 'cannot', 'too', 'starts', 'romance', 'goes', 'army', 'maybe', 'sense', 'dad', 'middle', 'parts', 'horror', 'career', 'feature', 'single', 'wants', 'keep', 'bunch', 'police', 'silly', 'amusing', 'before', 'child', 'looks', 'boy', 'spoilers', 'happens', 'writers', 'ten', 'charm', 'note', 'rented', 'watched', 'recommended', 'gives', 'okay', 'new', 'itself', 'waste', 'telling', 'thriller', 'aspect', 'team', 'direction', 'fight', 'realistic', 'line', 'small', 'save', 'points', 'plays', 'brought', 'pleasure', 'actress', 'baby', 'did', 'attention', 'throughout', 'hand', 'rest', 'visual', 'constantly', 'mr', 'john', 'write', 'slow']\n",
            "[8.66601970e+04 2.31270840e+03 4.81251525e+03 ... 3.55614585e+01\n",
            " 6.85840813e+00 6.90126402e+01]\n",
            "1745\n"
          ]
        }
      ]
    },
    {
      "cell_type": "markdown",
      "source": [
        "# Task 1 : Data processing\n",
        "\n"
      ],
      "metadata": {
        "id": "sQE1MfRpbM2s"
      }
    },
    {
      "cell_type": "markdown",
      "source": [
        "## Task 1.2 : IMDB\n",
        "\n",
        " - X contain features based on the words in the movie reviews\n",
        " - y contain labels for whether the review sentiment is positive 1 or negative -1"
      ],
      "metadata": {
        "id": "kMcXOF5bbfbj"
      }
    },
    {
      "cell_type": "code",
      "source": [
        "# IMDB train df\n",
        " \n",
        "# IMDB_X_train, IMDB_y_train = load_svmlight_file('aclImdb/train/labeledBow.feat')\n",
        "# IMDB_X_test, IMDB_y_test = load_svmlight_file('aclImdb/test/labeledBow.feat') \n",
        "\n",
        "# IMDB_y_train[IMDB_y_train < 5] = -1.0\n",
        "# IMDB_y_train[IMDB_y_train >= 5] = 1.0\n",
        "\n",
        "# QUESTION TO ANSWER: Do they make sense for calling a movie good and bad, respectively?\n"
      ],
      "metadata": {
        "id": "buYXwTcjbpWA"
      },
      "execution_count": null,
      "outputs": []
    },
    {
      "cell_type": "markdown",
      "source": [
        "## Task 1.2 : Twenty Train\n",
        "\n",
        "Text preprocessing, tokenizing and filtering of stopwords are all included in the CountVectorizer function\n"
      ],
      "metadata": {
        "id": "mpsPgK1HpYIL"
      }
    },
    {
      "cell_type": "code",
      "source": [
        "# Loading 20 news group dataset\n",
        "categories=['rec.sport.hockey','sci.electronics','talk.politics.guns','sci.space']\n",
        "twenty_train = fetch_20newsgroups(subset='train', categories=categories, remove=(['headers', 'footers', 'quotes']), shuffle=True, random_state=42)\n",
        "\n",
        "download('punkt') #tokenizer, run once\n",
        "download('stopwords') #stopwords dictionary, run once\n",
        "\n",
        "# Tokenize, remove stopwords\n",
        "stop_words = stopwords.words('english')"
      ],
      "metadata": {
        "id": "avXRl9Pq1YdN",
        "colab": {
          "base_uri": "https://localhost:8080/"
        },
        "outputId": "1747bd02-8227-4511-8c5b-63ab1868937a"
      },
      "execution_count": null,
      "outputs": [
        {
          "output_type": "stream",
          "name": "stderr",
          "text": [
            "[nltk_data] Downloading package punkt to /root/nltk_data...\n",
            "[nltk_data]   Package punkt is already up-to-date!\n",
            "[nltk_data] Downloading package stopwords to /root/nltk_data...\n",
            "[nltk_data]   Package stopwords is already up-to-date!\n"
          ]
        }
      ]
    },
    {
      "cell_type": "code",
      "source": [
        "def preprocess(text):\n",
        "    text = text.lower()\n",
        "    doc = word_tokenize(text)\n",
        "    # Remove stopwords\n",
        "    doc = [word for word in doc if word not in stop_words]\n",
        "    # Restricts string to alphabetic characters only\n",
        "    doc = [word for word in doc if word.isalpha()] \n",
        "    return doc\n",
        "\n",
        "corpus = [' '.join(preprocess(text)) for text in twenty_train.data]"
      ],
      "metadata": {
        "id": "X6Bs2UamPijd"
      },
      "execution_count": null,
      "outputs": []
    },
    {
      "cell_type": "code",
      "source": [
        "# Turn the text content into feature vectors\n",
        "count_vect = CountVectorizer() \n",
        "X_train_counts = count_vect.fit_transform(corpus) # builds a dict of features and transforms docs to feature vectors\n",
        "\n",
        "# Occurences to frequences : TF_IDF\n",
        "tfidf_transformer = TfidfTransformer()\n",
        "X_train_tfidf = tfidf_transformer.fit_transform(X_train_counts)\n",
        "\n",
        "X_train_all = X_train_tfidf.toarray()\n",
        "X_train_all.shape"
      ],
      "metadata": {
        "id": "aQpmgOaTorEJ",
        "outputId": "cc3101b3-5308-4b83-f373-33f08b0f9348",
        "colab": {
          "base_uri": "https://localhost:8080/"
        }
      },
      "execution_count": null,
      "outputs": [
        {
          "output_type": "execute_result",
          "data": {
            "text/plain": [
              "(2330, 23593)"
            ]
          },
          "metadata": {},
          "execution_count": 50
        }
      ]
    },
    {
      "cell_type": "code",
      "source": [
        "y_cat = twenty_train.target\n",
        "# convert array of class indices to one-hot encoded array\n",
        "y_train = np.zeros((y_cat.size, y_cat.max() + 1))\n",
        "y_train[np.arange(y_cat.size), y_cat] = 1\n",
        "\n",
        "y_train.shape"
      ],
      "metadata": {
        "id": "gXdJZ1JyRg2m",
        "outputId": "4eaa99d1-ff1d-4a4f-9c10-c990faa9f5fa",
        "colab": {
          "base_uri": "https://localhost:8080/"
        }
      },
      "execution_count": null,
      "outputs": [
        {
          "output_type": "execute_result",
          "data": {
            "text/plain": [
              "(2330, 4)"
            ]
          },
          "metadata": {},
          "execution_count": 51
        }
      ]
    },
    {
      "cell_type": "code",
      "source": [
        "# Test data\n",
        "\n",
        "twenty_train_test = fetch_20newsgroups(subset='test', categories=categories, remove=(['headers', 'footers', 'quotes']), shuffle=True, random_state=42)\n",
        "\n",
        "X_new_counts = count_vect.transform(twenty_train_test.data)\n",
        "X_test_all = tfidf_transformer.transform(X_new_counts)\n",
        "X_test_all.shape"
      ],
      "metadata": {
        "id": "NXZ40IjITL8y",
        "outputId": "4ab04456-e9a6-4733-e42c-dbf95c99c105",
        "colab": {
          "base_uri": "https://localhost:8080/"
        }
      },
      "execution_count": null,
      "outputs": [
        {
          "output_type": "execute_result",
          "data": {
            "text/plain": [
              "(1550, 23593)"
            ]
          },
          "metadata": {},
          "execution_count": 52
        }
      ]
    },
    {
      "cell_type": "code",
      "source": [
        "y_cat = twenty_train_test.target\n",
        "# convert array of class indices to one-hot encoded array\n",
        "y_test = np.zeros((y_cat.size, y_cat.max() + 1))\n",
        "y_test[np.arange(y_cat.size), y_cat] = 1\n",
        "y_test.shape"
      ],
      "metadata": {
        "id": "i121B9KzT2xi",
        "outputId": "270fc71a-894d-4722-d60c-eab2f251620a",
        "colab": {
          "base_uri": "https://localhost:8080/"
        }
      },
      "execution_count": null,
      "outputs": [
        {
          "output_type": "execute_result",
          "data": {
            "text/plain": [
              "(1550, 4)"
            ]
          },
          "metadata": {},
          "execution_count": 53
        }
      ]
    },
    {
      "cell_type": "code",
      "source": [
        "# Mutual information # Takes about 2min\n",
        "from sklearn.metrics import mutual_info_score\n",
        "\n",
        "y_train = y_train.astype(int)\n",
        "X_counts = X_train_counts.toarray()\n",
        "\n",
        "MI_score = np.zeros((X_counts.shape[1], y_train.shape[1]))\n",
        "\n",
        "for i in range(X_train_all.shape[1]):\n",
        "  for j in range(y_train.shape[1]):\n",
        "    MI_score[i][j] = mutual_info_score(X_counts[:,i], y_train[:,j])"
      ],
      "metadata": {
        "id": "xVup5406Umki"
      },
      "execution_count": null,
      "outputs": []
    },
    {
      "cell_type": "code",
      "source": [
        "best_class_indices = np.zeros(( y_train.shape[1], 100), dtype=int)\n",
        "for i in range(y_train.shape[1]):\n",
        "  best_class_indices[i] = np.argpartition(MI_score[:,i],-100)[-100:]"
      ],
      "metadata": {
        "id": "xJP1uPSkUBAY"
      },
      "execution_count": null,
      "outputs": []
    },
    {
      "cell_type": "code",
      "source": [
        "best_indices = np.unique(best_class_indices.flatten())\n",
        "len(best_indices)"
      ],
      "metadata": {
        "colab": {
          "base_uri": "https://localhost:8080/"
        },
        "id": "A6L__OhgOp4p",
        "outputId": "5f2db232-b0d8-470d-98e6-3e87d64da9a6"
      },
      "execution_count": null,
      "outputs": [
        {
          "output_type": "execute_result",
          "data": {
            "text/plain": [
              "329"
            ]
          },
          "metadata": {},
          "execution_count": 56
        }
      ]
    },
    {
      "cell_type": "code",
      "source": [
        "key_features = count_vect.get_feature_names_out()[best_indices]\n",
        "print(key_features)"
      ],
      "metadata": {
        "colab": {
          "base_uri": "https://localhost:8080/"
        },
        "id": "kkX4ltmrNc3G",
        "outputId": "803d953c-f727-4727-e711-52c80320be17"
      },
      "execution_count": null,
      "outputs": [
        {
          "output_type": "stream",
          "name": "stdout",
          "text": [
            "['action' 'activities' 'advance' 'aerospace' 'agents' 'allen' 'altitude'\n",
            " 'amendment' 'ames' 'amp' 'amplifier' 'amps' 'analog' 'anyone' 'apollo'\n",
            " 'armed' 'arms' 'assault' 'astronomy' 'atf' 'atmosphere' 'audio' 'ban'\n",
            " 'batf' 'battery' 'bd' 'bear' 'beat' 'believe' 'billion' 'booster'\n",
            " 'boston' 'bruins' 'budget' 'buffalo' 'bure' 'calgary' 'carry' 'case'\n",
            " 'champs' 'chi' 'chicago' 'child' 'children' 'chip' 'chips' 'circuit'\n",
            " 'circuits' 'citizens' 'civil' 'clinton' 'coach' 'comet' 'commercial'\n",
            " 'compound' 'computer' 'concealed' 'connected' 'constitution' 'control'\n",
            " 'cooling' 'cost' 'country' 'court' 'crime' 'crimes' 'criminal'\n",
            " 'criminals' 'cup' 'current' 'data' 'davidians' 'death' 'deaths' 'defend'\n",
            " 'defense' 'delta' 'det' 'detect' 'detector' 'detroit' 'developed'\n",
            " 'development' 'device' 'devices' 'devils' 'digital' 'division' 'drug'\n",
            " 'drugs' 'dryden' 'dynamics' 'earth' 'edmonton' 'electrical' 'electronics'\n",
            " 'elements' 'engines' 'espn' 'evidence' 'evil' 'exploration' 'fans' 'fbi'\n",
            " 'federal' 'finals' 'fire' 'firearm' 'firearms' 'first' 'flight' 'flyers'\n",
            " 'frequencies' 'frequency' 'fuel' 'funding' 'game' 'games' 'gilmour' 'go'\n",
            " 'goal' 'goalie' 'goals' 'government' 'gravity' 'gretzky' 'ground' 'gun'\n",
            " 'guns' 'habs' 'handgun' 'handguns' 'hartford' 'hawks' 'help' 'hi'\n",
            " 'hockey' 'homicide' 'homicides' 'hunting' 'ice' 'images' 'innocent'\n",
            " 'input' 'international' 'islanders' 'jagr' 'jersey' 'jmd' 'jose' 'jpl'\n",
            " 'jupiter' 'killed' 'kings' 'km' 'koresh' 'landing' 'last' 'launch'\n",
            " 'launched' 'launches' 'law' 'laws' 'leafs' 'league' 'lemieux' 'lindros'\n",
            " 'lives' 'lunar' 'majority' 'manned' 'maple' 'mars' 'mary' 'mhz'\n",
            " 'military' 'militia' 'minnesota' 'mission' 'missions' 'montreal' 'moon'\n",
            " 'motorola' 'murder' 'nasa' 'national' 'nhl' 'norris' 'nra' 'nyi'\n",
            " 'observatory' 'officers' 'ohm' 'oilers' 'operational' 'orbit' 'orbital'\n",
            " 'orbiter' 'orbiting' 'orbits' 'output' 'overtime' 'ownership' 'patrick'\n",
            " 'payload' 'payloads' 'pc' 'penguins' 'pens' 'people' 'period' 'permit'\n",
            " 'phone' 'pin' 'pistol' 'pittsburgh' 'planetary' 'play' 'played' 'player'\n",
            " 'players' 'playing' 'playoff' 'playoffs' 'plays' 'pluto' 'points'\n",
            " 'police' 'population' 'potvin' 'power' 'press' 'program' 'project'\n",
            " 'property' 'propulsion' 'protect' 'pts' 'public' 'puck' 'quebec' 'raid'\n",
            " 'rangers' 'record' 'research' 'resistor' 'rf' 'rifles' 'right' 'rights'\n",
            " 'rkba' 'rocket' 'rockets' 'roger' 'said' 'sanderson' 'satellite'\n",
            " 'satellites' 'saturn' 'science' 'scientific' 'score' 'scored' 'scoring'\n",
            " 'season' 'senate' 'shack' 'shafer' 'sharks' 'shotgun' 'shuttle' 'signal'\n",
            " 'signals' 'sky' 'smythe' 'solar' 'space' 'spacecraft' 'sports' 'ssto'\n",
            " 'standings' 'stanley' 'state' 'states' 'station' 'suicide' 'sun' 'supply'\n",
            " 'surface' 'system' 'systems' 'team' 'teams' 'tear' 'technical'\n",
            " 'technology' 'telescope' 'thanks' 'think' 'threat' 'titan' 'tor'\n",
            " 'toronto' 'transformer' 'us' 'use' 'used' 'using' 'uunet' 'vancouver'\n",
            " 'vehicle' 'venus' 'violent' 'volt' 'voltage' 'volts' 'waco' 'washington'\n",
            " 'weapon' 'weapons' 'win' 'wings' 'winnipeg' 'wire' 'wiring' 'work'\n",
            " 'world' 'would' 'year']\n"
          ]
        }
      ]
    },
    {
      "cell_type": "code",
      "source": [
        "X_train = X_train_all[:,best_indices]\n",
        "X_train.shape"
      ],
      "metadata": {
        "colab": {
          "base_uri": "https://localhost:8080/"
        },
        "id": "qeu5ohpZYa2u",
        "outputId": "5d75b8a5-58fe-4fe5-8f84-cf3217c48174"
      },
      "execution_count": null,
      "outputs": [
        {
          "output_type": "execute_result",
          "data": {
            "text/plain": [
              "(2330, 329)"
            ]
          },
          "metadata": {},
          "execution_count": 58
        }
      ]
    },
    {
      "cell_type": "code",
      "source": [
        "X_test = X_test_all.toarray()[:,best_indices]\n",
        "X_test.shape"
      ],
      "metadata": {
        "colab": {
          "base_uri": "https://localhost:8080/"
        },
        "id": "FLvnNG96ZYmp",
        "outputId": "128b3c0e-3986-47b0-eb08-8cb861763b0f"
      },
      "execution_count": null,
      "outputs": [
        {
          "output_type": "execute_result",
          "data": {
            "text/plain": [
              "(1550, 329)"
            ]
          },
          "metadata": {},
          "execution_count": 59
        }
      ]
    },
    {
      "cell_type": "markdown",
      "source": [
        "# Task 2 : Implementing Classes"
      ],
      "metadata": {
        "id": "hBsr2kCsa4xg"
      }
    },
    {
      "cell_type": "markdown",
      "source": [
        "## Task 2.1 : Logistic Regression Class"
      ],
      "metadata": {
        "id": "rUqXu5jLlL0O"
      }
    },
    {
      "cell_type": "code",
      "source": [
        "# Logistic function\n",
        "z = np.linspace(-5,5,100)\n",
        "logistic = lambda z: 1./ (1 + np.exp(-z))\n",
        "\n",
        "# From class Logistic Regression collab\n",
        "class LogisticRegression:\n",
        "    \n",
        "    def __init__(self, add_bias=True, learning_rate=.1, epsilon=1e-4, max_iters=1e5, verbose=False):\n",
        "        self.add_bias = add_bias\n",
        "        self.learning_rate = learning_rate\n",
        "        self.epsilon = epsilon                        #to get the tolerance for the norm of gradients \n",
        "        self.max_iters = max_iters                    #maximum number of iteration of gradient descent\n",
        "        self.verbose = verbose\n",
        "\n",
        "    def gradient(self, x, y):\n",
        "        N,D = x.shape\n",
        "        yh = logistic(np.dot(x, self.w))    # predictions  size N\n",
        "        grad = np.dot(x.T, yh - y)/N        # divide by N because cost is mean over N points\n",
        "        return grad\n",
        "        \n",
        "    def fit(self, x, y):\n",
        "        if x.ndim == 1:\n",
        "            x = x[:, None]\n",
        "        if self.add_bias:\n",
        "            N = x.shape[0]\n",
        "            x = np.column_stack([x,np.ones(N)])\n",
        "        N,D = x.shape\n",
        "        self.w = np.zeros(D)\n",
        "        g = np.inf \n",
        "        t = 0\n",
        "        # the code snippet below is for gradient descent\n",
        "        while np.linalg.norm(g) > self.epsilon and t < self.max_iters:\n",
        "            g = self.gradient(x, y)\n",
        "            self.w = self.w - self.learning_rate * g \n",
        "            t += 1\n",
        "        \n",
        "        if self.verbose:\n",
        "            print(f'terminated after {t} iterations, with norm of the gradient equal to {np.linalg.norm(g)}')\n",
        "            print(f'the weight found: {self.w}')\n",
        "        return self\n",
        "    \n",
        "    def predict(self, x):\n",
        "        if x.ndim == 1:\n",
        "            x = x[:, None]\n",
        "        Nt = x.shape[0]\n",
        "        if self.add_bias:\n",
        "            x = np.column_stack([x,np.ones(Nt)])\n",
        "        yh = logistic(np.dot(x,self.w))            #predict output\n",
        "        return yh\n",
        "    \n",
        "    def evaluate(self, y, y_pred):\n",
        "      accuracy = np.sum(np.argmax(y_pred,axis=0) == np.argmax(y,axis=0)) / y.shape[0]\n",
        "      return accuracy\n",
        "\n",
        "# LogisticRegression.gradient = gradient  "
      ],
      "metadata": {
        "id": "yviSnmE3mQPo"
      },
      "execution_count": null,
      "outputs": []
    },
    {
      "cell_type": "code",
      "source": [
        "# Applying Logistic Regression on the IMDB data\n",
        "\n",
        "model = LogisticRegression(verbose=True, add_bias=False)\n",
        "fit = model.fit(IMDB_X_train,IMDB_y_train).predict(IMDB_X_train)\n",
        "\n",
        "#prediction threshold\n",
        "y_train_pred = model.predict(new_IMDB_X_train)\n",
        "y_test_pred = model.predict(new_IMDB_X_test)\n",
        "print(y_train_pred)\n",
        "print(y_test_pred)\n",
        "\n",
        "#Accuracy\n",
        "y_train_accuracy = model.evaluate(IMDB_y_train, y_train_pred)\n",
        "y_test_accuracy = model.evaluate(IMDB_y_test, y_test_pred)\n",
        "print(y_train_accuracy)\n",
        "print(y_test_accuracy)\n",
        "\n",
        "# plt.plot(X_train, y_train, '.', label='dataset')\n",
        "# plt.plot(X_train, prediction, 'g', alpha=.5, label='predictions')\n",
        "# plt.xlabel('x')\n",
        "# plt.ylabel(r'$y$')\n",
        "# plt.legend()\n",
        "# # plt.show()\n",
        "# plt.savefig('IMDB_prediction.png', bbox_inches=\"tight\", dpi=300)"
      ],
      "metadata": {
        "id": "LBTCwz2DcDwQ",
        "colab": {
          "base_uri": "https://localhost:8080/",
          "height": 430
        },
        "outputId": "825c8305-9c5e-4e1e-9f23-6039962a4314"
      },
      "execution_count": null,
      "outputs": [
        {
          "output_type": "error",
          "ename": "TypeError",
          "evalue": "ignored",
          "traceback": [
            "\u001b[0;31m---------------------------------------------------------------------------\u001b[0m",
            "\u001b[0;31mAttributeError\u001b[0m                            Traceback (most recent call last)",
            "\u001b[0;32m/usr/local/lib/python3.7/dist-packages/scipy/sparse/base.py\u001b[0m in \u001b[0;36m__getattr__\u001b[0;34m(self, attr)\u001b[0m\n\u001b[1;32m    686\u001b[0m         \u001b[0;32melse\u001b[0m\u001b[0;34m:\u001b[0m\u001b[0;34m\u001b[0m\u001b[0;34m\u001b[0m\u001b[0m\n\u001b[0;32m--> 687\u001b[0;31m             \u001b[0;32mraise\u001b[0m \u001b[0mAttributeError\u001b[0m\u001b[0;34m(\u001b[0m\u001b[0mattr\u001b[0m \u001b[0;34m+\u001b[0m \u001b[0;34m\" not found\"\u001b[0m\u001b[0;34m)\u001b[0m\u001b[0;34m\u001b[0m\u001b[0;34m\u001b[0m\u001b[0m\n\u001b[0m\u001b[1;32m    688\u001b[0m \u001b[0;34m\u001b[0m\u001b[0m\n",
            "\u001b[0;31mAttributeError\u001b[0m: exp not found",
            "\nThe above exception was the direct cause of the following exception:\n",
            "\u001b[0;31mTypeError\u001b[0m                                 Traceback (most recent call last)",
            "\u001b[0;32m<ipython-input-40-e8534439f47a>\u001b[0m in \u001b[0;36m<module>\u001b[0;34m\u001b[0m\n\u001b[1;32m      3\u001b[0m \u001b[0;34m\u001b[0m\u001b[0m\n\u001b[1;32m      4\u001b[0m \u001b[0mmodel\u001b[0m \u001b[0;34m=\u001b[0m \u001b[0mLogisticRegression\u001b[0m\u001b[0;34m(\u001b[0m\u001b[0mverbose\u001b[0m\u001b[0;34m=\u001b[0m\u001b[0;32mTrue\u001b[0m\u001b[0;34m,\u001b[0m \u001b[0madd_bias\u001b[0m\u001b[0;34m=\u001b[0m\u001b[0;32mFalse\u001b[0m\u001b[0;34m)\u001b[0m\u001b[0;34m\u001b[0m\u001b[0;34m\u001b[0m\u001b[0m\n\u001b[0;32m----> 5\u001b[0;31m \u001b[0myh\u001b[0m \u001b[0;34m=\u001b[0m \u001b[0mmodel\u001b[0m\u001b[0;34m.\u001b[0m\u001b[0mfit\u001b[0m\u001b[0;34m(\u001b[0m\u001b[0mIMDB_X_train\u001b[0m\u001b[0;34m,\u001b[0m\u001b[0mIMDB_y_train\u001b[0m\u001b[0;34m)\u001b[0m\u001b[0;34m.\u001b[0m\u001b[0mpredict\u001b[0m\u001b[0;34m(\u001b[0m\u001b[0mIMDB_X_train\u001b[0m\u001b[0;34m)\u001b[0m\u001b[0;34m\u001b[0m\u001b[0;34m\u001b[0m\u001b[0m\n\u001b[0m\u001b[1;32m      6\u001b[0m \u001b[0;34m\u001b[0m\u001b[0m\n\u001b[1;32m      7\u001b[0m \u001b[0;31m# lin_coefficients= pd.DataFrame(fit.w[:(len(fit.w)-1)]).transpose()\u001b[0m\u001b[0;34m\u001b[0m\u001b[0;34m\u001b[0m\u001b[0;34m\u001b[0m\u001b[0m\n",
            "\u001b[0;32m<ipython-input-39-78956cd5c659>\u001b[0m in \u001b[0;36mfit\u001b[0;34m(self, x, y)\u001b[0m\n\u001b[1;32m     31\u001b[0m         \u001b[0;31m# the code snippet below is for gradient descent\u001b[0m\u001b[0;34m\u001b[0m\u001b[0;34m\u001b[0m\u001b[0;34m\u001b[0m\u001b[0m\n\u001b[1;32m     32\u001b[0m         \u001b[0;32mwhile\u001b[0m \u001b[0mnp\u001b[0m\u001b[0;34m.\u001b[0m\u001b[0mlinalg\u001b[0m\u001b[0;34m.\u001b[0m\u001b[0mnorm\u001b[0m\u001b[0;34m(\u001b[0m\u001b[0mg\u001b[0m\u001b[0;34m)\u001b[0m \u001b[0;34m>\u001b[0m \u001b[0mself\u001b[0m\u001b[0;34m.\u001b[0m\u001b[0mepsilon\u001b[0m \u001b[0;32mand\u001b[0m \u001b[0mt\u001b[0m \u001b[0;34m<\u001b[0m \u001b[0mself\u001b[0m\u001b[0;34m.\u001b[0m\u001b[0mmax_iters\u001b[0m\u001b[0;34m:\u001b[0m\u001b[0;34m\u001b[0m\u001b[0;34m\u001b[0m\u001b[0m\n\u001b[0;32m---> 33\u001b[0;31m             \u001b[0mg\u001b[0m \u001b[0;34m=\u001b[0m \u001b[0mself\u001b[0m\u001b[0;34m.\u001b[0m\u001b[0mgradient\u001b[0m\u001b[0;34m(\u001b[0m\u001b[0mx\u001b[0m\u001b[0;34m,\u001b[0m \u001b[0my\u001b[0m\u001b[0;34m)\u001b[0m\u001b[0;34m\u001b[0m\u001b[0;34m\u001b[0m\u001b[0m\n\u001b[0m\u001b[1;32m     34\u001b[0m             \u001b[0mself\u001b[0m\u001b[0;34m.\u001b[0m\u001b[0mw\u001b[0m \u001b[0;34m=\u001b[0m \u001b[0mself\u001b[0m\u001b[0;34m.\u001b[0m\u001b[0mw\u001b[0m \u001b[0;34m-\u001b[0m \u001b[0mself\u001b[0m\u001b[0;34m.\u001b[0m\u001b[0mlearning_rate\u001b[0m \u001b[0;34m*\u001b[0m \u001b[0mg\u001b[0m\u001b[0;34m\u001b[0m\u001b[0;34m\u001b[0m\u001b[0m\n\u001b[1;32m     35\u001b[0m             \u001b[0mt\u001b[0m \u001b[0;34m+=\u001b[0m \u001b[0;36m1\u001b[0m\u001b[0;34m\u001b[0m\u001b[0;34m\u001b[0m\u001b[0m\n",
            "\u001b[0;32m<ipython-input-39-78956cd5c659>\u001b[0m in \u001b[0;36mgradient\u001b[0;34m(self, x, y)\u001b[0m\n\u001b[1;32m     15\u001b[0m     \u001b[0;32mdef\u001b[0m \u001b[0mgradient\u001b[0m\u001b[0;34m(\u001b[0m\u001b[0mself\u001b[0m\u001b[0;34m,\u001b[0m \u001b[0mx\u001b[0m\u001b[0;34m,\u001b[0m \u001b[0my\u001b[0m\u001b[0;34m)\u001b[0m\u001b[0;34m:\u001b[0m\u001b[0;34m\u001b[0m\u001b[0;34m\u001b[0m\u001b[0m\n\u001b[1;32m     16\u001b[0m         \u001b[0mN\u001b[0m\u001b[0;34m,\u001b[0m\u001b[0mD\u001b[0m \u001b[0;34m=\u001b[0m \u001b[0mx\u001b[0m\u001b[0;34m.\u001b[0m\u001b[0mshape\u001b[0m\u001b[0;34m\u001b[0m\u001b[0;34m\u001b[0m\u001b[0m\n\u001b[0;32m---> 17\u001b[0;31m         \u001b[0myh\u001b[0m \u001b[0;34m=\u001b[0m \u001b[0mlogistic\u001b[0m\u001b[0;34m(\u001b[0m\u001b[0mnp\u001b[0m\u001b[0;34m.\u001b[0m\u001b[0mdot\u001b[0m\u001b[0;34m(\u001b[0m\u001b[0mx\u001b[0m\u001b[0;34m,\u001b[0m \u001b[0mself\u001b[0m\u001b[0;34m.\u001b[0m\u001b[0mw\u001b[0m\u001b[0;34m)\u001b[0m\u001b[0;34m)\u001b[0m    \u001b[0;31m# predictions  size N\u001b[0m\u001b[0;34m\u001b[0m\u001b[0;34m\u001b[0m\u001b[0m\n\u001b[0m\u001b[1;32m     18\u001b[0m         \u001b[0mgrad\u001b[0m \u001b[0;34m=\u001b[0m \u001b[0mnp\u001b[0m\u001b[0;34m.\u001b[0m\u001b[0mdot\u001b[0m\u001b[0;34m(\u001b[0m\u001b[0mx\u001b[0m\u001b[0;34m.\u001b[0m\u001b[0mT\u001b[0m\u001b[0;34m,\u001b[0m \u001b[0myh\u001b[0m \u001b[0;34m-\u001b[0m \u001b[0my\u001b[0m\u001b[0;34m)\u001b[0m\u001b[0;34m/\u001b[0m\u001b[0mN\u001b[0m        \u001b[0;31m# divide by N because cost is mean over N points\u001b[0m\u001b[0;34m\u001b[0m\u001b[0;34m\u001b[0m\u001b[0m\n\u001b[1;32m     19\u001b[0m         \u001b[0;32mreturn\u001b[0m \u001b[0mgrad\u001b[0m\u001b[0;34m\u001b[0m\u001b[0;34m\u001b[0m\u001b[0m\n",
            "\u001b[0;32m<ipython-input-39-78956cd5c659>\u001b[0m in \u001b[0;36m<lambda>\u001b[0;34m(z)\u001b[0m\n\u001b[1;32m      1\u001b[0m \u001b[0;31m# Logistic function\u001b[0m\u001b[0;34m\u001b[0m\u001b[0;34m\u001b[0m\u001b[0;34m\u001b[0m\u001b[0m\n\u001b[1;32m      2\u001b[0m \u001b[0mz\u001b[0m \u001b[0;34m=\u001b[0m \u001b[0mnp\u001b[0m\u001b[0;34m.\u001b[0m\u001b[0mlinspace\u001b[0m\u001b[0;34m(\u001b[0m\u001b[0;34m-\u001b[0m\u001b[0;36m5\u001b[0m\u001b[0;34m,\u001b[0m\u001b[0;36m5\u001b[0m\u001b[0;34m,\u001b[0m\u001b[0;36m100\u001b[0m\u001b[0;34m)\u001b[0m\u001b[0;34m\u001b[0m\u001b[0;34m\u001b[0m\u001b[0m\n\u001b[0;32m----> 3\u001b[0;31m \u001b[0mlogistic\u001b[0m \u001b[0;34m=\u001b[0m \u001b[0;32mlambda\u001b[0m \u001b[0mz\u001b[0m\u001b[0;34m:\u001b[0m \u001b[0;36m1.\u001b[0m\u001b[0;34m/\u001b[0m \u001b[0;34m(\u001b[0m\u001b[0;36m1\u001b[0m \u001b[0;34m+\u001b[0m \u001b[0mnp\u001b[0m\u001b[0;34m.\u001b[0m\u001b[0mexp\u001b[0m\u001b[0;34m(\u001b[0m\u001b[0;34m-\u001b[0m\u001b[0mz\u001b[0m\u001b[0;34m)\u001b[0m\u001b[0;34m)\u001b[0m\u001b[0;34m\u001b[0m\u001b[0;34m\u001b[0m\u001b[0m\n\u001b[0m\u001b[1;32m      4\u001b[0m \u001b[0;34m\u001b[0m\u001b[0m\n\u001b[1;32m      5\u001b[0m \u001b[0;31m# From class Logistic Regression collab\u001b[0m\u001b[0;34m\u001b[0m\u001b[0;34m\u001b[0m\u001b[0;34m\u001b[0m\u001b[0m\n",
            "\u001b[0;31mTypeError\u001b[0m: loop of ufunc does not support argument 0 of type csr_matrix which has no callable exp method"
          ]
        }
      ]
    },
    {
      "cell_type": "code",
      "source": [
        "'''\n",
        "Check Gradient using small perturbation, \n",
        "monitor the cross-entropy as a function of iteration, \n",
        "and report your finding on both datasets\n",
        "'''\n",
        "# Initialize the gradient method of the LogisticRegression class with gradient function\n",
        "# LogisticRegression.gradient = gradient             "
      ],
      "metadata": {
        "id": "fcXaQvDWhBQJ"
      },
      "execution_count": null,
      "outputs": []
    },
    {
      "cell_type": "code",
      "source": [
        "# Extra - Applying KNN on IMDB\n",
        "knn = KNeighborsClassifier()\n",
        "knn.fit(IMDB_X_train[:,:89523], IMDB_y_train)\n",
        "\n",
        "pred = knn.predict(IMDB_X_test)[0]\n",
        "\n",
        "print(\"Test Prediction for 0 : \", pred)"
      ],
      "metadata": {
        "colab": {
          "base_uri": "https://localhost:8080/"
        },
        "id": "6yn6xQgIdCME",
        "outputId": "5a087b31-38bc-4740-ef41-a216f4287a51"
      },
      "execution_count": null,
      "outputs": [
        {
          "output_type": "stream",
          "name": "stdout",
          "text": [
            "Test Prediction for 0 :  4.0\n"
          ]
        }
      ]
    },
    {
      "cell_type": "markdown",
      "source": [
        "## Task 2.2 : Multiclass Regression Class"
      ],
      "metadata": {
        "id": "7gEvPV8emgda"
      }
    },
    {
      "cell_type": "code",
      "source": [
        "# From class Multiclass Regression collab\n",
        "class Multinomial_logistic:\n",
        "    def __init__(self, nFeatures, nClasses):\n",
        "        self.W = np.random.rand(nFeatures, nClasses)\n",
        "\n",
        "    def predict(self, X):\n",
        "        y_pred = np.exp(np.matmul(X, self.W))\n",
        "        return y_pred / y_pred.sum(axis=1).reshape(X.shape[0], 1)\n",
        "\n",
        "    def grad(self, X, y):\n",
        "        return np.matmul(X.transpose(), self.predict(X) - y)\n",
        "\n",
        "    def ce(self, X, y):\n",
        "        return -np.sum(y * np.log(self.predict(X)))\n",
        "\n",
        "    # modify it to add stopping criteria (what can you think of?)\n",
        "    def fit(self, X, y, X_valid=None, y_valid=None, lr=0.005, niter=100):\n",
        "        losses_train = np.zeros(niter)\n",
        "        losses_valid = np.zeros(niter)\n",
        "        for i in range(niter):\n",
        "            self.W = self.W - lr * self.grad(X, y)\n",
        "            loss_train = self.ce(X, y)\n",
        "            losses_train[i] = loss_train\n",
        "            if X_valid is not None and y_valid is not None:\n",
        "                loss_valid = self.ce(X_valid, y_valid)\n",
        "                losses_valid[i] = loss_valid\n",
        "                #print(f\"iter {i}: {loss_train:.3f}; {loss_valid:.3f}\")\n",
        "            #else:\n",
        "                #print(f\"iter {i}: {loss_train:.3f}\")\n",
        "        return losses_train, losses_valid\n",
        "\n",
        "    def check_grad(self, X, y):\n",
        "        N, C = y.shape\n",
        "        D = X.shape[1]\n",
        "\n",
        "        diff = np.zeros((D, C))\n",
        "\n",
        "        W = self.W.copy()\n",
        "\n",
        "        for i in range(D):\n",
        "            for j in range(C):\n",
        "                epsilon = np.zeros((D, C))\n",
        "                epsilon[i, j] = np.random.rand() * 1e-4\n",
        "\n",
        "                self.W = self.W + epsilon\n",
        "                J1 = self.ce(X, y)\n",
        "                self.W = W\n",
        "\n",
        "                self.W = self.W - epsilon\n",
        "                J2 = self.ce(X, y)\n",
        "                self.W = W\n",
        "\n",
        "                numeric_grad = (J1 - J2) / (2 * epsilon[i, j])\n",
        "                derived_grad = self.grad(X, y)[i, j]\n",
        "\n",
        "                diff[i, j] = np.square(derived_grad - numeric_grad).sum() / \\\n",
        "                             np.square(derived_grad + numeric_grad).sum()\n",
        "\n",
        "        # print(diff)\n",
        "        return diff.sum()\n",
        "\n",
        "    def evaluate(self, y, y_pred):\n",
        "      return np.sum(np.argmax(y_pred, axis=1) == np.argmax(y, axis=1)) / y.shape[0]"
      ],
      "metadata": {
        "id": "zol2Q2ZEmfNI"
      },
      "execution_count": null,
      "outputs": []
    },
    {
      "cell_type": "markdown",
      "source": [
        "## Task 2.3 : Loss per Iteration and Gradient Check"
      ],
      "metadata": {
        "id": "MFzufEtYOavJ"
      }
    },
    {
      "cell_type": "code",
      "source": [
        "# Multiclass for newsgroup\n",
        "# No validation set\n",
        "\n",
        "mlr = Multinomial_logistic(X_train.shape[1], y_train.shape[1])\n",
        "losses, _ = mlr.fit(X_train, y_train)\n",
        "plt.plot(losses)\n",
        "plt.xlabel(\"Iteration\")\n",
        "plt.ylabel(\"Cross-entropy\")\n",
        "plt.title(\"Doesn't seem to have converged yet:\")\n",
        "plt.show()"
      ],
      "metadata": {
        "id": "uYiAsb9ijz6m",
        "colab": {
          "base_uri": "https://localhost:8080/",
          "height": 295
        },
        "outputId": "e4144426-adc3-434b-e3ef-820422bab64d"
      },
      "execution_count": null,
      "outputs": [
        {
          "output_type": "display_data",
          "data": {
            "text/plain": [
              "<Figure size 432x288 with 1 Axes>"
            ],
            "image/png": "[encoded data removed]"
          },
          "metadata": {
            "needs_background": "light"
          }
        }
      ]
    },
    {
      "cell_type": "code",
      "source": [
        "print(\"Gradient check: \", mlr.check_grad(X_train, y_train))"
      ],
      "metadata": {
        "colab": {
          "base_uri": "https://localhost:8080/"
        },
        "id": "M7mOsKCTPUyW",
        "outputId": "2fddd6b5-2f80-4d6e-e3a7-79281337ba7c"
      },
      "execution_count": null,
      "outputs": [
        {
          "output_type": "stream",
          "name": "stdout",
          "text": [
            "Gradient check:  3.631920307316512e-12\n"
          ]
        }
      ]
    },
    {
      "cell_type": "markdown",
      "source": [
        "# Task 3 : Running Experiments"
      ],
      "metadata": {
        "id": "ROWGHspagVyk"
      }
    },
    {
      "cell_type": "markdown",
      "source": [
        "## Task 3.1 : Z-Scores\n",
        "Report top 10 features with most positive/negative z-scores on the IMDB data using simple linear regression on the movie rating scores."
      ],
      "metadata": {
        "id": "qYBoSlP8gZKP"
      }
    },
    {
      "cell_type": "markdown",
      "source": [
        "## Task 3.2.1: Binary Classification for IMDb"
      ],
      "metadata": {
        "id": "tmEUPQuRgl6Y"
      }
    },
    {
      "cell_type": "markdown",
      "source": [
        "## Task 3.2.2 : Classification Accuracy for Multi-class Prediction"
      ],
      "metadata": {
        "id": "yN7vFE2EgvTG"
      }
    },
    {
      "cell_type": "code",
      "source": [
        "print(\"Training accuracy: \", mlr.evaluate(mlr.predict(X_train), y_train))\n",
        "print(\"Testing accuracy: \", mlr.evaluate(mlr.predict(X_test), y_test))"
      ],
      "metadata": {
        "colab": {
          "base_uri": "https://localhost:8080/"
        },
        "id": "rgEr_CRvDq7r",
        "outputId": "9ad5a366-3008-4be7-926b-eb18bf38e068"
      },
      "execution_count": null,
      "outputs": [
        {
          "output_type": "stream",
          "name": "stdout",
          "text": [
            "Training accuracy:  0.8163090128755365\n",
            "Testing accuracy:  0.792258064516129\n"
          ]
        }
      ]
    },
    {
      "cell_type": "markdown",
      "source": [
        "## Task 3.3 : AUROC of IMDb"
      ],
      "metadata": {
        "id": "hWISEtzbULCr"
      }
    },
    {
      "cell_type": "code",
      "source": [
        "models = [KNeighborsClassifier(),\n",
        "          DecisionTreeClassifier(),\n",
        "          sk_LogisticRegression()]\n",
        "\n",
        "perf = {}\n",
        "\n",
        "# our implementation is slow you may try sklearn version\n",
        "logitreg = LogisticRegression(max_iters=1e3)\n",
        "fit = logitreg.fit(X_train, y_train)\n",
        "y_test_prob = fit.predict(X_test)\n",
        "fpr, tpr, _ = roc_curve(y_test, y_test_prob)\n",
        "auroc = roc_auc_score(y_test, y_test_prob)\n",
        "perf[\"LogisticRegression (ours)\"] = {'fpr':fpr, 'tpr':tpr, 'auroc':auroc}\n",
        "\n",
        "for model in models:\n",
        "    fit = model.fit(X_train, y_train)\n",
        "    y_test_prob = fit.predict_proba(X_test)[:,1]\n",
        "    fpr, tpr, _ = roc_curve(y_test, y_test_prob)\n",
        "    auroc = roc_auc_score(y_test, y_test_prob)\n",
        "    if type(model).__name__ == \"LogisticRegression\":\n",
        "        perf[\"LogisticRegression (sklearn)\"] = {'fpr':fpr,'tpr':tpr,'auroc':auroc}\n",
        "    else:\n",
        "        perf[type(model).__name__] = {'fpr':fpr,'tpr':tpr,'auroc':auroc}\n",
        "\n",
        "\n",
        "plt.clf()\n",
        "i = 0\n",
        "for model_name, model_perf in perf.items():\n",
        "    plt.plot(model_perf['fpr'], model_perf['tpr'],label=model_name)\n",
        "    plt.text(0.4, i+0.1, model_name + ': AUC = '+ str(round(model_perf['auroc'],2)))\n",
        "    i += 0.1\n",
        "\n",
        "plt.plot([0, 1], [0, 1], color=\"navy\", lw=2, linestyle=\"--\")\n",
        "plt.xlim([0.0, 1.0])\n",
        "plt.ylim([0.0, 1.05])\n",
        "\n",
        "plt.xlabel(\"False Positive Rate\")\n",
        "plt.ylabel(\"True Positive Rate\")\n",
        "plt.title('ROC in predicting Titanic survivor')\n",
        "plt.legend(bbox_to_anchor=(1.04, 0.5), loc=\"upper left\")\n",
        "# plt.show()\n",
        "plt.savefig(\"roc_curve.png\", bbox_inches='tight', dpi=300)\n",
        "# plt.close()"
      ],
      "metadata": {
        "id": "mdb0OA4VsNLU"
      },
      "execution_count": null,
      "outputs": []
    },
    {
      "cell_type": "markdown",
      "source": [
        "## Task 3.4 : KNN comparison for newsgroup"
      ],
      "metadata": {
        "id": "C8ONa_o9UWI0"
      }
    },
    {
      "cell_type": "code",
      "source": [
        "knn = KNeighborsClassifier()\n",
        "knn.fit(X_train, y_train)\n",
        "print(\"KNN training accuracy: \", knn.score(X_train, y_train))\n",
        "print(\"KNN testing accuracy: \", knn.score(X_test, y_test))"
      ],
      "metadata": {
        "colab": {
          "base_uri": "https://localhost:8080/"
        },
        "id": "5ruKpb9WPP6a",
        "outputId": "42f17ade-8aa4-4df6-f281-eb4315ecc7d9"
      },
      "execution_count": null,
      "outputs": [
        {
          "output_type": "stream",
          "name": "stdout",
          "text": [
            "KNN training accuracy:  0.7424892703862661\n",
            "KNN testing accuracy:  0.6380645161290323\n"
          ]
        }
      ]
    },
    {
      "cell_type": "markdown",
      "source": [
        "## Task 3.5 : Size comparison for news group"
      ],
      "metadata": {
        "id": "346ELc1xUpcW"
      }
    },
    {
      "cell_type": "code",
      "source": [
        "train_accs = []\n",
        "test_accs = []\n",
        "knn_train_accs = []\n",
        "knn_test_accs = []\n",
        "\n",
        "sizes = [0.2, 0.4, 0.6, 0.8, 1]\n",
        "\n",
        "for i in sizes:\n",
        "  X_train_new = X_train[:int(i * X_train.shape[0])]\n",
        "  y_train_new = y_train[:int(i * X_train.shape[0])]\n",
        "  mlr = Multinomial_logistic(X_train_new.shape[1], y_train_new.shape[1])\n",
        "  mlr.fit(X_train_new, y_train_new)\n",
        "  train_accs.append(mlr.evaluate(mlr.predict(X_train_new), y_train_new))\n",
        "  test_accs.append(mlr.evaluate(mlr.predict(X_test), y_test))\n",
        "\n",
        "  knn = KNeighborsClassifier()\n",
        "  knn.fit(X_train_new, y_train_new)\n",
        "  knn_train_accs.append(knn.score(X_train_new, y_train_new))\n",
        "  knn_test_accs.append(knn.score(X_test, y_test))"
      ],
      "metadata": {
        "id": "SjwDMmvTVgms"
      },
      "execution_count": null,
      "outputs": []
    },
    {
      "cell_type": "code",
      "source": [
        "plt.plot(sizes, train_accs, marker=\".\", label='training')\n",
        "plt.plot(sizes, test_accs, marker=\".\", label='testing')\n",
        "plt.plot(sizes, knn_train_accs, marker=\".\", label='KNN training')\n",
        "plt.plot(sizes, knn_test_accs, marker=\".\", label='KNN testing')\n",
        "plt.legend(loc='best')\n",
        "plt.xlabel('Proportion of dataset')\n",
        "plt.ylabel('Accuracy')\n",
        "plt.show()"
      ],
      "metadata": {
        "colab": {
          "base_uri": "https://localhost:8080/",
          "height": 279
        },
        "id": "XzMRAHTfWGI_",
        "outputId": "236d0d2b-ab84-436c-ba6c-d28faadb64a3"
      },
      "execution_count": null,
      "outputs": [
        {
          "output_type": "display_data",
          "data": {
            "text/plain": [
              "<Figure size 432x288 with 1 Axes>"
            ],
            "image/png": "[encoded data removed]"
          },
          "metadata": {
            "needs_background": "light"
          }
        }
      ]
    },
    {
      "cell_type": "code",
      "source": [
        "from seaborn import heatmap\n",
        "\n",
        "W_hat = mlr.W\n",
        "\n",
        "best_indices = []\n",
        "for i in range(4):\n",
        "  best_indices.append(np.argsort(np.transpose(W_hat)[i])[-5:])\n",
        "\n",
        "best_indices = np.array(best_indices).flatten()\n",
        "W_hat_transformed = W_hat[best_indices]\n",
        "W_hat_transformed = W_hat_transformed / W_hat_transformed.sum(axis=0)\n",
        "\n",
        "print(\"rec.sport.hockey key features:\", key_features[best_indices][:5])\n",
        "print(\"sci.electronics key features:\", key_features[best_indices][5:10])\n",
        "print(\"sci.space key features:\", key_features[best_indices][10:15])\n",
        "print(\"talk.politics.guns key features:\", key_features[best_indices][15:])\n",
        "\n",
        "fig = heatmap(W_hat_transformed, cmap='rocket')"
      ],
      "metadata": {
        "colab": {
          "base_uri": "https://localhost:8080/",
          "height": 334
        },
        "id": "jDxSmoYUaa4U",
        "outputId": "011bb756-2eea-4241-bfaa-8e8d087d1b01"
      },
      "execution_count": null,
      "outputs": [
        {
          "output_type": "stream",
          "name": "stdout",
          "text": [
            "rec.sport.hockey key features: ['play' 'season' 'hockey' 'team' 'game']\n",
            "sci.electronics key features: ['used' 'circuit' 'power' 'anyone' 'use']\n",
            "sci.space key features: ['earth' 'nasa' 'moon' 'orbit' 'space']\n",
            "talk.politics.guns key features: ['people' 'guns' 'fire' 'fbi' 'gun']\n"
          ]
        },
        {
          "output_type": "display_data",
          "data": {
            "text/plain": [
              "<Figure size 432x288 with 2 Axes>"
            ],
            "image/png": "[encoded data removed]"
          },
          "metadata": {
            "needs_background": "light"
          }
        }
      ]
    },
    {
      "cell_type": "markdown",
      "source": [
        "More experiments:"
      ],
      "metadata": {
        "id": "xpz1OVujRPz8"
      }
    },
    {
      "cell_type": "code",
      "source": [
        "# More iterations of multiclass\n",
        "\n",
        "mlr = Multinomial_logistic(X_train.shape[1], y_train.shape[1])\n",
        "losses, _ = mlr.fit(X_train, y_train, niter=10000)\n",
        "plt.plot(losses)\n",
        "plt.xlabel(\"Iteration\")\n",
        "plt.ylabel(\"Cross-entropy\")\n",
        "plt.show()"
      ],
      "metadata": {
        "colab": {
          "base_uri": "https://localhost:8080/",
          "height": 279
        },
        "id": "eDrb1rmARLq_",
        "outputId": "e9f776aa-7997-406b-82a9-b21daed2e22a"
      },
      "execution_count": null,
      "outputs": [
        {
          "output_type": "display_data",
          "data": {
            "text/plain": [
              "<Figure size 432x288 with 1 Axes>"
            ],
            "image/png": "[encoded data removed]"
          },
          "metadata": {
            "needs_background": "light"
          }
        }
      ]
    },
    {
      "cell_type": "code",
      "source": [
        "# Accuracy by number of iterations\n",
        "\n",
        "train_accs = []\n",
        "test_accs = []\n",
        "\n",
        "for i in [100, 1000, 10000]:\n",
        "  mlr = Multinomial_logistic(X_train.shape[1], y_train.shape[1])\n",
        "  losses, _ = mlr.fit(X_train, y_train, niter=i)\n",
        "  train_accs.append(mlr.evaluate(mlr.predict(X_train), y_train))\n",
        "  test_accs.append(mlr.evaluate(mlr.predict(X_test), y_test))\n",
        "\n",
        "plt.plot(np.log10([100, 1000, 10000]), train_accs, marker='.', label='training accuracy')\n",
        "plt.plot(np.log10([100, 1000, 10000]), test_accs, marker='.', label='testing accuracy')\n",
        "plt.xlabel('Iterations (10^x)')\n",
        "plt.ylabel('Accuracy')\n",
        "plt.legend(loc='best')\n",
        "plt.show()"
      ],
      "metadata": {
        "colab": {
          "base_uri": "https://localhost:8080/",
          "height": 279
        },
        "id": "4Gto48WBSPhP",
        "outputId": "6bb0d9ed-a23e-4fb8-9efa-cfc680c4d452"
      },
      "execution_count": null,
      "outputs": [
        {
          "output_type": "display_data",
          "data": {
            "text/plain": [
              "<Figure size 432x288 with 1 Axes>"
            ],
            "image/png": "[encoded data removed]"
          },
          "metadata": {
            "needs_background": "light"
          }
        }
      ]
    },
    {
      "cell_type": "code",
      "source": [
        "# Validation loss: Find optimal number of iterations\n",
        "from sklearn.model_selection import train_test_split\n",
        "\n",
        "mlr = Multinomial_logistic(X_train.shape[1], y_train.shape[1])\n",
        "X_train_new, X_valid, y_train_new, y_valid = train_test_split(X_train, y_train, test_size=0.5, random_state=42)\n",
        "train_loss, valid_loss = mlr.fit(X_train_new, y_train_new, X_valid, y_valid, niter=10000)\n",
        "best_niter = valid_loss.argmin()\n",
        "\n",
        "plt.plot(train_loss, label=\"training loss\")\n",
        "plt.plot(valid_loss, label=\"validation loss\")\n",
        "plt.axvline(x=best_niter, label=f\"min CE at iter {best_niter}\")\n",
        "plt.xlabel(\"Iterations\")\n",
        "plt.ylabel(\"Cross-entropy\")\n",
        "plt.legend(loc='best')\n",
        "plt.show()"
      ],
      "metadata": {
        "colab": {
          "base_uri": "https://localhost:8080/",
          "height": 279
        },
        "id": "WQKl5QNNRVeK",
        "outputId": "c5aac93a-8e3d-4e7f-9775-3be3f89763a1"
      },
      "execution_count": null,
      "outputs": [
        {
          "output_type": "display_data",
          "data": {
            "text/plain": [
              "<Figure size 432x288 with 1 Axes>"
            ],
            "image/png": "[encoded data removed]"
          },
          "metadata": {
            "needs_background": "light"
          }
        }
      ]
    },
    {
      "cell_type": "code",
      "source": [
        "# Retraining using best_niter\n",
        "mlr = Multinomial_logistic(X_train.shape[1], y_train.shape[1])\n",
        "_, _ = mlr.fit(X_train_new, y_train_new, niter=best_niter)\n",
        "\n",
        "print(\"Training accuracy: \", mlr.evaluate(mlr.predict(X_train_new), y_train_new))\n",
        "print(\"Validation accuracy: \", mlr.evaluate(mlr.predict(X_valid), y_valid))\n",
        "print(\"Testing accuracy: \", mlr.evaluate(mlr.predict(X_test), y_test))"
      ],
      "metadata": {
        "colab": {
          "base_uri": "https://localhost:8080/"
        },
        "id": "y4c-pcVJ_cR2",
        "outputId": "715d3740-d659-4ea3-b3ef-fbc824763588"
      },
      "execution_count": null,
      "outputs": [
        {
          "output_type": "stream",
          "name": "stdout",
          "text": [
            "Training accuracy:  0.8806866952789699\n",
            "Validation accuracy:  0.7965665236051502\n",
            "Testing accuracy:  0.792258064516129\n"
          ]
        }
      ]
    }
  ]
}