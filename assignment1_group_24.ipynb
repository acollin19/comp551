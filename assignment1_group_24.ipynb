{
  "nbformat": 4,
  "nbformat_minor": 0,
  "metadata": {
    "colab": {
      "provenance": [],
      "authorship_tag": "ABX9TyNfcjaOyu+4SIY18RfFeMXx",
      "include_colab_link": true
    },
    "kernelspec": {
      "name": "python3",
      "display_name": "Python 3"
    },
    "language_info": {
      "name": "python"
    }
  },
  "cells": [
    {
      "cell_type": "markdown",
      "metadata": {
        "id": "view-in-github",
        "colab_type": "text"
      },
      "source": [
        "<a href=\"https://colab.research.google.com/github/acollin19/comp551_A1/blob/Angele/assignment1_group_24.ipynb\" target=\"_parent\"><img src=\"https://colab.research.google.com/assets/colab-badge.svg\" alt=\"Open In Colab\"/></a>"
      ]
    },
    {
      "cell_type": "markdown",
      "source": [
        "# Assignment 1\n",
        "\n",
        "## Process:\n",
        "### Dataset 1: Hepatitis\n",
        "* Task 1 : Preprocessing\n",
        "    1. Preprocessing\n",
        "    2. Distributions\n",
        "* Task 2 : Implemenmting KNN and DT\n",
        "    1. KNN\n",
        "    2. DT\n",
        "* Task 3 : Running Experiments\n",
        "    1. Compare accuracy\n",
        "    2. Different K values\n",
        "    3. Max tree depth\n",
        "    4. Different distance/costs\n",
        "    5. Plots\n",
        "    6. Key features in DT\n",
        "    7. Key features in KNN\n",
        "\n",
        "### Dataset 2: Messidor features\n",
        "* Task 1 : Preprocessing\n",
        "    1. Preprocessing\n",
        "    2. Distributions\n",
        "* Task 2 : Implemenmting KNN and DT\n",
        "    1. KNN\n",
        "    2. DT\n",
        "* Task 3 : Running Experiments\n",
        "    1. Compare accuracy\n",
        "    2. Different K values\n",
        "    3. Max tree depth\n",
        "    4. Different distance/costs\n",
        "    5. Plots\n",
        "    6. Key features in DT\n",
        "    7. Key features in KNN\n"
      ],
      "metadata": {
        "id": "VcIJvqUbXS0v"
      }
    },
    {
      "cell_type": "code",
      "execution_count": 24,
      "metadata": {
        "id": "5RIgjHnmXGkq"
      },
      "outputs": [],
      "source": [
        "import pandas as pd\n",
        "import numpy as np\n",
        "import math\n",
        "from math import sqrt\n",
        "import scipy.spatial\n",
        "from collections import Counter\n",
        "import matplotlib.pyplot as plt\n",
        "import warnings\n",
        "warnings.filterwarnings('ignore')\n",
        "np.random.seed(1)"
      ]
    },
    {
      "cell_type": "code",
      "source": [
        "# Arff file to csv from https://github.com/mfahadzafar/Convert-Arff-to-CSV/blob/master/arffToCsv.py\n",
        "def getCSVFromArff(fileName):\n",
        "    with open(fileName + '.arff', 'r') as fin:\n",
        "        data = fin.read().splitlines(True)\n",
        "        i = 0\n",
        "    cols = []\n",
        "    for line in data:\n",
        "        line = line.lower()\n",
        "        if ('@data' in line):\n",
        "            i+= 1\n",
        "            break\n",
        "        else:\n",
        "            #print line\n",
        "            i+= 1\n",
        "            if (line.startswith('@attribute')):\n",
        "                if('{' in line):\n",
        "                    cols.append(line[11:line.index('{')-1])\n",
        "                else:\n",
        "                    cols.append(line[11:line.index(' ', 11)])\n",
        "    headers = \",\".join(cols)\n",
        "    with open(fileName + '.csv', 'w') as fout:\n",
        "        fout.write(headers)\n",
        "        fout.write('\\n')\n",
        "        fout.writelines(data[i:])\n",
        "\n",
        "getCSVFromArff(\"messidor_features\") #outputs a csv file into dir"
      ],
      "metadata": {
        "id": "gs3IskSSXR7c"
      },
      "execution_count": 25,
      "outputs": []
    },
    {
      "cell_type": "code",
      "source": [
        "# Loading/cleaning datasets\n",
        "hepatitis = pd.read_csv(\"hepatitis.data\", header=None)\n",
        "hepatitis = hepatitis[(hepatitis != '?').all(axis=1)]\n",
        "hepatitis = hepatitis.dropna().reset_index(drop=True)\n",
        "hepatitis = hepatitis.apply(pd.to_numeric)"
      ],
      "metadata": {
        "id": "ijGPLs2CXgwB"
      },
      "execution_count": 26,
      "outputs": []
    },
    {
      "cell_type": "markdown",
      "source": [
        "### Hepatitis Attribute Information:\n",
        "\n",
        "1. Class: DIE, LIVE \n",
        "2. AGE: 10, 20, 30, 40, 50, 60, 70, 80 \n",
        "3. SEX: male, female \n",
        "4. STEROID: no, yes \n",
        "5. ANTIVIRALS: no, yes \n",
        "6. FATIGUE: no, yes \n",
        "7. MALAISE: no, yes \n",
        "8. ANOREXIA: no, yes \n",
        "9. LIVER BIG: no, yes \n",
        "10. LIVER FIRM: no, yes \n",
        "11. SPLEEN PALPABLE: no, yes \n",
        "12. SPIDERS: no, yes \n",
        "13. ASCITES: no, yes \n",
        "14. VARICES: no, yes \n",
        "15. BILIRUBIN: 0.39, 0.80, 1.20, 2.00, 3.00, 4.00  \n",
        "16. ALK PHOSPHATE: 33, 80, 120, 160, 200, 250 \n",
        "17. SGOT: 13, 100, 200, 300, 400, 500, \n",
        "18. ALBUMIN: 2.1, 3.0, 3.8, 4.5, 5.0, 6.0 \n",
        "19. PROTIME: 10, 20, 30, 40, 50, 60, 70, 80, 90 \n",
        "20. HISTOLOGY: no, yes \n",
        "\n"
      ],
      "metadata": {
        "id": "SvFAeZuWXmnC"
      }
    },
    {
      "cell_type": "markdown",
      "source": [
        "## Task 1.2 : Distributions"
      ],
      "metadata": {
        "id": "6ANdzFscYe_q"
      }
    },
    {
      "cell_type": "code",
      "source": [
        "# Hepatitis Dataset\n",
        "X = hepatitis.iloc[:, hepatitis.columns != 0].values # x -> features (1-19)\n",
        "y = hepatitis.iloc[:, 0].values # y -> class label (0)"
      ],
      "metadata": {
        "id": "UKeR55aaYes2"
      },
      "execution_count": 27,
      "outputs": []
    },
    {
      "cell_type": "code",
      "source": [
        "# Split Training and Testing without sklearn\n",
        "split = 0.8\n",
        "(N,D), C = X.shape, np.max(y)+1\n",
        "inds = np.random.permutation(N)\n",
        "\n",
        "n_train = math.floor(split * X.shape[0])\n",
        "n_test = math.ceil(1-split * X.shape[0])\n",
        "X_train = X[:n_train]\n",
        "y_train = y[:n_train]\n",
        "X_test = X[n_train:]\n",
        "y_test = y[n_train:]\n",
        "# X_train, y_train = X[inds[:100]],y[inds[:100]]\n",
        "# X_test, y_test = X[inds[:100]], y[inds[:100]]\n",
        "\n",
        "print(\"Total Number of rows in train:\",X_train.shape[0])\n",
        "print(\"Total Number of rows in test:\",X_test.shape[0])"
      ],
      "metadata": {
        "colab": {
          "base_uri": "https://localhost:8080/"
        },
        "id": "9ThchqhOEnkG",
        "outputId": "53b16620-4392-4218-9074-e2eaa1fa782e"
      },
      "execution_count": 28,
      "outputs": [
        {
          "output_type": "stream",
          "name": "stdout",
          "text": [
            "Total Number of rows in train: 64\n",
            "Total Number of rows in test: 16\n"
          ]
        }
      ]
    },
    {
      "cell_type": "code",
      "source": [
        "# Plotting\n",
        "\n",
        "plt.scatter(X_train[:,0],X_train[:,1], c=y_train, marker='o', label='train')\n",
        "plt.scatter(X_test[:,0],X_test[:,1],c=y_test, marker='s', label='test')\n",
        "plt.legend()\n",
        "plt.ylabel('y')\n",
        "plt.xlabel('x')\n",
        "plt.show()"
      ],
      "metadata": {
        "id": "ij_31a6Cc7Qj",
        "outputId": "2c8fb05e-6b0f-4e48-f76c-c940aba2ef35",
        "colab": {
          "base_uri": "https://localhost:8080/",
          "height": 278
        }
      },
      "execution_count": 29,
      "outputs": [
        {
          "output_type": "display_data",
          "data": {
            "text/plain": [
              "<Figure size 432x288 with 1 Axes>"
            ],
            "image/png": "[encoded data removed]"
          },
          "metadata": {
            "needs_background": "light"
          }
        }
      ]
    },
    {
      "cell_type": "markdown",
      "source": [
        "## Task 2 : K-Nearest Neighbour\n",
        "\n",
        "Finding KNN models without using pre-existing libraries."
      ],
      "metadata": {
        "id": "49Pz3ndleF98"
      }
    },
    {
      "cell_type": "code",
      "source": [
        "euclidean = lambda x1, x2: np.sqrt(np.sum((x1 - x2)**2, axis=-1))\n",
        "manhattan = lambda x1, x2: np.sum(np.abs(x1 - x2), axis=-1)\n",
        "\n",
        "class KNN1:\n",
        "\n",
        "    def __init__(self, K=1, dist_fn=euclidean):\n",
        "        self.dist_fn = dist_fn\n",
        "        self.K = K\n",
        "        return\n",
        "    \n",
        "    def fit(self, x, y):\n",
        "        ''' Store the training data using this method as it is a lazy learner'''\n",
        "        self.x = x\n",
        "        self.y = y\n",
        "        self.C = np.max(y) + 1\n",
        "        return self\n",
        "    \n",
        "    def predict(self, x_test):\n",
        "        ''' Makes a prediction using the stored training data and the test data given as argument'''\n",
        "        num_test = x_test.shape[0]\n",
        "       \n",
        "        distances = self.dist_fn(self.x[None,:,:], x_test[:,None,:])\n",
        "        knns = np.zeros((num_test, self.K), dtype=int)\n",
        "        y_prob = np.zeros((num_test, self.C))\n",
        "        for i in range(num_test):\n",
        "            knns[i,:] = np.argsort(distances[i])[:self.K]\n",
        "            y_prob[i,:] = np.bincount(self.y[knns[i,:]], minlength=self.C) #counts the number of instances of each class in the K-closest training samples\n",
        "       \n",
        "        y_prob /= self.K\n",
        "        return y_prob, knns\n",
        "\n",
        "    # Evaluating prediction accuracy on true and target labels\n",
        "    def evaluate_acc(self, X_test, y_test, y_train,X_train ):\n",
        "        y_train_pred = self.predict(X_train)\n",
        "        y_test_pred = self.predict(X_test)\n",
        "        acc_test = np.sum(y_test_pred==y_test)/len(y_test)\n",
        "        acc_train = np.sum(y_train_pred==y_train)/len(y_train)\n",
        "\n",
        "        return (acc_test,acc_train)"
      ],
      "metadata": {
        "id": "fpgDxYQenS76"
      },
      "execution_count": 33,
      "outputs": []
    },
    {
      "cell_type": "code",
      "source": [
        "# Constructor class to initialize model parameters\n",
        "class KNN:\n",
        "    def __init__(self, k):\n",
        "        self.k = k\n",
        "\n",
        "    # Fit funcition takes input X and y\n",
        "    def fit(self, X, y):\n",
        "        self.X_train = X\n",
        "        self.y_train = y\n",
        "        \n",
        "    # Euclidean Distance function\n",
        "    def distance(self, X1, X2):\n",
        "        #distance = scipy.spatial.distance.euclidean(X1, X2)\n",
        "        distance = lambda x1, x2: np.sqrt(np.sum((x1 - x2)**2, axis=-1))\n",
        "\n",
        "    \n",
        "    # Predict function takes input X and outputs y\n",
        "    def predict(self, X_test):\n",
        "        output = []\n",
        "        for i in range(len(X_test)):\n",
        "            d = []\n",
        "            votes = []\n",
        "            for j in range(len(X_train)):\n",
        "                dist = scipy.spatial.distance.euclidean(X_train[j] , X_test[i])\n",
        "                d.append([dist, j])\n",
        "            d.sort()\n",
        "            d = d[0:self.k]\n",
        "            for d, j in d:\n",
        "                votes.append(y_train[j])\n",
        "            ans = Counter(votes).most_common(1)[0][0]\n",
        "            output.append(ans)\n",
        "            \n",
        "        return output\n",
        "    \n",
        "    # Evaluating prediction accuracy on true and target labels\n",
        "    def evaluate_acc(self, X_test, y_test, y_train,X_train ):\n",
        "        y_train_pred = self.predict(X_train)\n",
        "        y_test_pred = self.predict(X_test)\n",
        "        acc_test = np.sum(y_test_pred==y_test)/len(y_test)\n",
        "        acc_train = np.sum(y_train_pred==y_train)/len(y_train)\n",
        "\n",
        "        return (acc_test,acc_train)"
      ],
      "metadata": {
        "id": "3StZWRUeq5oL"
      },
      "execution_count": 31,
      "outputs": []
    },
    {
      "cell_type": "code",
      "source": [
        "classifier = KNN1(5)\n",
        "classifier.fit(X_train, y_train)\n",
        "\n",
        "# Evaluating prediction accuracy on training data\n",
        "test,train = classifier.evaluate_acc(X_test,y_test,y_train, X_train)\n",
        "\n",
        "print(f'Training Accuracy: {train}')\n",
        "print(f'Testing Accuracy: {test}')"
      ],
      "metadata": {
        "id": "TH_t0ckkr5Bo",
        "outputId": "bb6562cd-4287-4e6c-d25d-4a8d7c2e713d",
        "colab": {
          "base_uri": "https://localhost:8080/"
        }
      },
      "execution_count": 34,
      "outputs": [
        {
          "output_type": "stream",
          "name": "stdout",
          "text": [
            "Training Accuracy: 0.0\n",
            "Testing Accuracy: 0.0\n"
          ]
        }
      ]
    },
    {
      "cell_type": "code",
      "source": [
        "model = KNN1(5)\n",
        "y_prob, knns = model.fit(X_train, y_train).predict(X_test)\n",
        "print('knns shape:', knns.shape)\n",
        "print('y_prob shape:', y_prob.shape)\n",
        "\n",
        "#To get hard predictions by choosing the class with the maximum probability\n",
        "y_pred = np.argmax(y_prob, axis=-1)\n",
        "accuracy = np.sum(y_pred == y_test)/y_test.shape[0]\n",
        "print(f'accuracy is {accuracy*100:.1f}.')\n",
        "\n",
        "#boolean array to later slice the indexes of correct and incorrect predictions\n",
        "correct = y_test == y_pred\n",
        "incorrect = np.logical_not(correct)\n",
        "\n",
        "#visualization of the points\n",
        "plt.scatter(X_train[:,0], X_train[:,1], c=y_train, marker='o', alpha=.2, label='train')\n",
        "plt.scatter(X_test[correct,0], X_test[correct,1], marker='.', c=y_pred[correct], label='correct')\n",
        "plt.scatter(X_test[incorrect,0], X_test[incorrect,1], marker='x', c=y_test[incorrect], label='misclassified')\n",
        "\n",
        "#connect each node to k-nearest neighbours in the training set\n",
        "for i in range(X_test.shape[0]):\n",
        "    for k in range(model.K):\n",
        "        hor = X_test[i,0], X_train[knns[i,k],0]\n",
        "        ver = X_test[i,1], X_train[knns[i,k],1]\n",
        "        plt.plot(hor, ver, 'k-', alpha=.1)\n",
        "    \n",
        "plt.ylabel('y')\n",
        "plt.xlabel('x')\n",
        "plt.legend()\n",
        "#plt.savefig('iris_KNN'+str(5)+'.png',dpi=300,bbox_inches='tight')\n",
        "plt.show()"
      ],
      "metadata": {
        "id": "4dVmCv4-n0NM"
      },
      "execution_count": null,
      "outputs": []
    },
    {
      "cell_type": "markdown",
      "source": [
        "#Task 3 : Evaluation"
      ],
      "metadata": {
        "id": "1O5gn3-NpwSy"
      }
    },
    {
      "cell_type": "markdown",
      "source": [
        "## Task 3.2 : Choosing K in KNN"
      ],
      "metadata": {
        "id": "fu_v9nXWpa0Q"
      }
    },
    {
      "cell_type": "code",
      "source": [
        "# further split the training data into 50% training and 50% validation\n",
        "x_train_tr, y_train_tr = x_train[:50], y_train[:50]\n",
        "x_train_va, y_train_va = x_train[50:], y_train[50:]\n",
        "\n",
        "model_choices=[]\n",
        "valid_acc = []\n",
        "\n",
        "n_valid = y_train_va.shape[0]\n",
        "\n",
        "for k in range(1,11):\n",
        "    knn = KNN(K=k) # create a KNN object (OOP)\n",
        "    # y_train_va_prob,_ = knn.fit(x_train, y_train).predict(x_train_va) # wrong\n",
        "    y_train_va_prob,_ = knn.fit(x_train_tr, y_train_tr).predict(x_train_va) # bug fixed\n",
        "    y_train_va_pred = np.argmax(y_train_va_prob,axis=-1)\n",
        "    accuracy = np.sum(y_train_va_pred == y_train_va)/n_valid\n",
        "    model_choices.append(k)\n",
        "    valid_acc.append(accuracy)\n",
        "\n",
        "# use the best K to predict test data\n",
        "best_valid_K = model_choices[valid_acc.index(max(valid_acc))]\n",
        "knn = KNN(K=best_valid_K)\n",
        "y_test_prob,_ = knn.fit(x_train, y_train).predict(x_test)\n",
        "y_test_pred = np.argmax(y_test_prob, axis=-1)\n",
        "test_accuracy = np.sum(y_test_pred == y_test)/y_test.shape[0]\n",
        "print(f'best K = {best_valid_K}, test accuracy = {test_accuracy}')\n",
        "\n",
        "plt.plot(model_choices, valid_acc, marker='o', color='blue', label='validation')\n",
        "plt.plot(best_valid_K, test_accuracy, marker='*', color='red', label='testing')\n",
        "plt.xlabel(\"K\")\n",
        "plt.ylabel(\"Accuracy\")\n",
        "plt.legend(loc='best')\n",
        "plt.savefig('iris_KNN_chooseK.png',dpi=300,bbox_inches='tight')"
      ],
      "metadata": {
        "id": "S_rQU1Mnn0Ug"
      },
      "execution_count": null,
      "outputs": []
    },
    {
      "cell_type": "code",
      "source": [],
      "metadata": {
        "id": "cxKH3FhqP8k8"
      },
      "execution_count": null,
      "outputs": []
    },
    {
      "cell_type": "code",
      "source": [
        "classifier = KNN(5)\n",
        "classifier.fit(X_train, y_train)\n",
        "\n",
        "# Evaluating prediction accuracy on training data\n",
        "test,train = classifier.evaluate_acc(X_test,y_test,y_train, X_train)\n",
        "\n",
        "print(f'Training Accuracy: {train}')\n",
        "print(f'Testing Accuracy: {test}')\n"
      ],
      "metadata": {
        "id": "vEuV7O1LeFDZ"
      },
      "execution_count": null,
      "outputs": []
    },
    {
      "cell_type": "markdown",
      "source": [
        "## Task 2.2 : Decision Trees"
      ],
      "metadata": {
        "id": "Tjs968GeEGAF"
      }
    },
    {
      "cell_type": "code",
      "source": [],
      "metadata": {
        "id": "dUDLtC4VEFeh"
      },
      "execution_count": null,
      "outputs": []
    },
    {
      "cell_type": "markdown",
      "source": [
        "# Dataset 2 : Messidor Features"
      ],
      "metadata": {
        "id": "KLsesbe1YqBt"
      }
    },
    {
      "cell_type": "markdown",
      "source": [
        "## Task 1.1 Preprocessing"
      ],
      "metadata": {
        "id": "RTbuo0wFYwo1"
      }
    },
    {
      "cell_type": "code",
      "source": [
        "features = pd.read_csv('messidor_features.csv')\n",
        "features = features[(features != '?').all(axis=1)]\n",
        "features = features.dropna().reset_index(drop=True)\n",
        "features = features.apply(pd.to_numeric)\n",
        "features.head()"
      ],
      "metadata": {
        "id": "jUyRccvVXhWc"
      },
      "execution_count": null,
      "outputs": []
    },
    {
      "cell_type": "markdown",
      "source": [
        "### Features Attribute Information:\n",
        "\n",
        "0. The binary result of quality assessment. 0 = bad quality 1 = sufficient quality.\n",
        "1. The binary result of pre-screening, where 1 indicates severe retinal abnormality and 0 its lack.  \n",
        "* (2-7). The results of MA detection. Each feature value stand for the number of MAs found at the confidence levels alpha = 0.5,...,1, respectively.     \n",
        "* (8-15). contain the same information as 2-7) for exudates. However, as exudates are represented by a set of points rather than the number of pixels constructing the lesions, these features are normalized by dividing the number of lesions with the diameter of the ROI to compensate different image sizes.   \n",
        "16. The euclidean distance of the center of the macula and the center of the optic disc to provide important information regarding the patientâ€™s condition. This feature is also normalized with the diameter of the ROI.   \n",
        "17. The diameter of the optic disc.   \n",
        "18. The binary result of the AM/FM-based classification.   \n",
        "19. Class label. 1 = contains signs of DR (Accumulative label for the Messidor classes 1, 2, 3), 0 = no signs of DR. "
      ],
      "metadata": {
        "id": "flmocghQXqDM"
      }
    },
    {
      "cell_type": "markdown",
      "source": [
        "## Task 1.2 Distributions"
      ],
      "metadata": {
        "id": "tuspcH2zXuPI"
      }
    },
    {
      "cell_type": "code",
      "source": [
        "# Messidor features dataset\n",
        "X = features.iloc[:,:-1].values # x -> features (0-18)\n",
        "y = features.iloc[:,-1:].values # y -> class label (19)\n",
        "\n",
        "# Split Training and Testing without sklearn\n",
        "split = 0.8\n",
        "n_train = math.floor(split * X.shape[0])\n",
        "n_test = math.ceil(1-split * X.shape[0])\n",
        "X_train = X[:n_train]\n",
        "y_train = y[:n_train]\n",
        "X_test = X[n_train:]\n",
        "y_test = y[n_train:]\n",
        "print(\"Total Number of rows in train:\",X_train.shape[0])\n",
        "print(\"Total Number of rows in test:\",X_test.shape[0])"
      ],
      "metadata": {
        "id": "jK9BkysEXhiu"
      },
      "execution_count": null,
      "outputs": []
    },
    {
      "cell_type": "code",
      "source": [
        "# Messidor Features Plotting\n"
      ],
      "metadata": {
        "id": "NCgn19nOdgHd"
      },
      "execution_count": null,
      "outputs": []
    },
    {
      "cell_type": "code",
      "source": [],
      "metadata": {
        "id": "ErOjv6ZiTT7-"
      },
      "execution_count": null,
      "outputs": []
    },
    {
      "cell_type": "markdown",
      "source": [
        "## Task 2 : K-Nearest Neighbour"
      ],
      "metadata": {
        "id": "ICbD1OsCe_9G"
      }
    },
    {
      "cell_type": "code",
      "source": [
        "classifier = KNN(5)\n",
        "classifier.fit(X_train, y_train)\n",
        "\n",
        "# Evaluating prediction accuracy on training data\n",
        "test,train = classifier.evaluate_acc(X_test,y_test,y_train, X_train)\n",
        "\n",
        "print(f'Training Accuracy: {train}')\n",
        "print(f'Testing Accuracy: {test}')\n"
      ],
      "metadata": {
        "id": "_oiB3DNaXzJY"
      },
      "execution_count": null,
      "outputs": []
    },
    {
      "cell_type": "markdown",
      "source": [
        "## Task 2.2 : Decision Trees"
      ],
      "metadata": {
        "id": "GkiI_k8cD5Yt"
      }
    },
    {
      "cell_type": "code",
      "source": [],
      "metadata": {
        "id": "fNqyAMrDEAsw"
      },
      "execution_count": null,
      "outputs": []
    }
  ]
}