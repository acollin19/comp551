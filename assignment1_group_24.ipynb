{
  "nbformat": 4,
  "nbformat_minor": 0,
  "metadata": {
    "colab": {
      "provenance": [],
      "authorship_tag": "ABX9TyNiplDSxEl45U26gzPF3ImQ",
      "include_colab_link": true
    },
    "kernelspec": {
      "name": "python3",
      "display_name": "Python 3"
    },
    "language_info": {
      "name": "python"
    }
  },
  "cells": [
    {
      "cell_type": "markdown",
      "metadata": {
        "id": "view-in-github",
        "colab_type": "text"
      },
      "source": [
        "<a href=\"https://colab.research.google.com/github/acollin19/comp551_A1/blob/main/assignment1_group_24.ipynb\" target=\"_parent\"><img src=\"https://colab.research.google.com/assets/colab-badge.svg\" alt=\"Open In Colab\"/></a>"
      ]
    },
    {
      "cell_type": "markdown",
      "source": [
        "# Assignment 1\n",
        "\n",
        "## Process:\n",
        "### Dataset 1: Hepatitis\n",
        "* Task 1 : Preprocessing\n",
        "    1. Preprocessing\n",
        "    2. Distributions\n",
        "* Task 2 : Implemenmting KNN and DT\n",
        "    1. KNN\n",
        "    2. DT\n",
        "* Task 3 : Running Experiments\n",
        "    1. Compare accuracy\n",
        "    2. Different K values\n",
        "    3. Max tree depth\n",
        "    4. Different distance/costs\n",
        "    5. Plots\n",
        "    6. Key features in DT\n",
        "    7. Key features in KNN\n",
        "\n",
        "### Dataset 2: Messidor features\n",
        "* Task 1 : Preprocessing\n",
        "    1. Preprocessing\n",
        "    2. Distributions\n",
        "* Task 2 : Implemenmting KNN and DT\n",
        "    1. KNN\n",
        "    2. DT\n",
        "* Task 3 : Running Experiments\n",
        "    1. Compare accuracy\n",
        "    2. Different K values\n",
        "    3. Max tree depth\n",
        "    4. Different distance/costs\n",
        "    5. Plots\n",
        "    6. Key features in DT\n",
        "    7. Key features in KNN\n"
      ],
      "metadata": {
        "id": "VcIJvqUbXS0v"
      }
    },
    {
      "cell_type": "code",
      "execution_count": null,
      "metadata": {
        "id": "5RIgjHnmXGkq"
      },
      "outputs": [],
      "source": [
        "import pandas as pd\n",
        "import numpy as np\n",
        "from sklearn.neighbors import KNeighborsClassifier\n",
        "import matplotlib.pyplot as plt\n",
        "from sklearn.model_selection import train_test_split\n",
        "import warnings\n",
        "warnings.filterwarnings('ignore')\n",
        "np.random.seed(1)"
      ]
    },
    {
      "cell_type": "code",
      "source": [],
      "metadata": {
        "id": "gs3IskSSXR7c"
      },
      "execution_count": null,
      "outputs": []
    },
    {
      "cell_type": "code",
      "source": [
        "# Loading/cleaning datasets\n",
        "hepatitis = pd.read_csv(\"hepatitis.data\", header=None)\n",
        "hepatitis = hepatitis[(hepatitis != '?').all(axis=1)]\n",
        "hepatitis = hepatitis.dropna().reset_index(drop=True)\n",
        "hepatitis.head()"
      ],
      "metadata": {
        "colab": {
          "base_uri": "https://localhost:8080/",
          "height": 204
        },
        "id": "ijGPLs2CXgwB",
        "outputId": "33436c20-c683-423a-ad48-2051324bb25b"
      },
      "execution_count": null,
      "outputs": [
        {
          "output_type": "execute_result",
          "data": {
            "text/plain": [
              "   0   1   2  3   4  5  6  7  8  9  10 11 12 13    14  15   16   17  18  19\n",
              "0   2  34   1  2   2  2  2  2  2  2  2  2  2  2  0.90  95   28  4.0  75   1\n",
              "1   2  39   1  1   1  2  2  2  1  1  2  2  2  2  1.30  78   30  4.4  85   1\n",
              "2   2  32   1  2   1  1  2  2  2  1  2  1  2  2  1.00  59  249  3.7  54   1\n",
              "3   2  41   1  2   1  1  2  2  2  1  2  2  2  2  0.90  81   60  3.9  52   1\n",
              "4   2  30   1  2   2  1  2  2  2  1  2  2  2  2  2.20  57  144  4.9  78   1"
            ],
            "text/html": [
              "\n",
              "  <div id=\"df-cfd6c59a-744a-4479-a4fc-98ffa92784fe\">\n",
              "    <div class=\"colab-df-container\">\n",
              "      <div>\n",
              "<style scoped>\n",
              "    .dataframe tbody tr th:only-of-type {\n",
              "        vertical-align: middle;\n",
              "    }\n",
              "\n",
              "    .dataframe tbody tr th {\n",
              "        vertical-align: top;\n",
              "    }\n",
              "\n",
              "    .dataframe thead th {\n",
              "        text-align: right;\n",
              "    }\n",
              "</style>\n",
              "<table border=\"1\" class=\"dataframe\">\n",
              "  <thead>\n",
              "    <tr style=\"text-align: right;\">\n",
              "      <th></th>\n",
              "      <th>0</th>\n",
              "      <th>1</th>\n",
              "      <th>2</th>\n",
              "      <th>3</th>\n",
              "      <th>4</th>\n",
              "      <th>5</th>\n",
              "      <th>6</th>\n",
              "      <th>7</th>\n",
              "      <th>8</th>\n",
              "      <th>9</th>\n",
              "      <th>10</th>\n",
              "      <th>11</th>\n",
              "      <th>12</th>\n",
              "      <th>13</th>\n",
              "      <th>14</th>\n",
              "      <th>15</th>\n",
              "      <th>16</th>\n",
              "      <th>17</th>\n",
              "      <th>18</th>\n",
              "      <th>19</th>\n",
              "    </tr>\n",
              "  </thead>\n",
              "  <tbody>\n",
              "    <tr>\n",
              "      <th>0</th>\n",
              "      <td>2</td>\n",
              "      <td>34</td>\n",
              "      <td>1</td>\n",
              "      <td>2</td>\n",
              "      <td>2</td>\n",
              "      <td>2</td>\n",
              "      <td>2</td>\n",
              "      <td>2</td>\n",
              "      <td>2</td>\n",
              "      <td>2</td>\n",
              "      <td>2</td>\n",
              "      <td>2</td>\n",
              "      <td>2</td>\n",
              "      <td>2</td>\n",
              "      <td>0.90</td>\n",
              "      <td>95</td>\n",
              "      <td>28</td>\n",
              "      <td>4.0</td>\n",
              "      <td>75</td>\n",
              "      <td>1</td>\n",
              "    </tr>\n",
              "    <tr>\n",
              "      <th>1</th>\n",
              "      <td>2</td>\n",
              "      <td>39</td>\n",
              "      <td>1</td>\n",
              "      <td>1</td>\n",
              "      <td>1</td>\n",
              "      <td>2</td>\n",
              "      <td>2</td>\n",
              "      <td>2</td>\n",
              "      <td>1</td>\n",
              "      <td>1</td>\n",
              "      <td>2</td>\n",
              "      <td>2</td>\n",
              "      <td>2</td>\n",
              "      <td>2</td>\n",
              "      <td>1.30</td>\n",
              "      <td>78</td>\n",
              "      <td>30</td>\n",
              "      <td>4.4</td>\n",
              "      <td>85</td>\n",
              "      <td>1</td>\n",
              "    </tr>\n",
              "    <tr>\n",
              "      <th>2</th>\n",
              "      <td>2</td>\n",
              "      <td>32</td>\n",
              "      <td>1</td>\n",
              "      <td>2</td>\n",
              "      <td>1</td>\n",
              "      <td>1</td>\n",
              "      <td>2</td>\n",
              "      <td>2</td>\n",
              "      <td>2</td>\n",
              "      <td>1</td>\n",
              "      <td>2</td>\n",
              "      <td>1</td>\n",
              "      <td>2</td>\n",
              "      <td>2</td>\n",
              "      <td>1.00</td>\n",
              "      <td>59</td>\n",
              "      <td>249</td>\n",
              "      <td>3.7</td>\n",
              "      <td>54</td>\n",
              "      <td>1</td>\n",
              "    </tr>\n",
              "    <tr>\n",
              "      <th>3</th>\n",
              "      <td>2</td>\n",
              "      <td>41</td>\n",
              "      <td>1</td>\n",
              "      <td>2</td>\n",
              "      <td>1</td>\n",
              "      <td>1</td>\n",
              "      <td>2</td>\n",
              "      <td>2</td>\n",
              "      <td>2</td>\n",
              "      <td>1</td>\n",
              "      <td>2</td>\n",
              "      <td>2</td>\n",
              "      <td>2</td>\n",
              "      <td>2</td>\n",
              "      <td>0.90</td>\n",
              "      <td>81</td>\n",
              "      <td>60</td>\n",
              "      <td>3.9</td>\n",
              "      <td>52</td>\n",
              "      <td>1</td>\n",
              "    </tr>\n",
              "    <tr>\n",
              "      <th>4</th>\n",
              "      <td>2</td>\n",
              "      <td>30</td>\n",
              "      <td>1</td>\n",
              "      <td>2</td>\n",
              "      <td>2</td>\n",
              "      <td>1</td>\n",
              "      <td>2</td>\n",
              "      <td>2</td>\n",
              "      <td>2</td>\n",
              "      <td>1</td>\n",
              "      <td>2</td>\n",
              "      <td>2</td>\n",
              "      <td>2</td>\n",
              "      <td>2</td>\n",
              "      <td>2.20</td>\n",
              "      <td>57</td>\n",
              "      <td>144</td>\n",
              "      <td>4.9</td>\n",
              "      <td>78</td>\n",
              "      <td>1</td>\n",
              "    </tr>\n",
              "  </tbody>\n",
              "</table>\n",
              "</div>\n",
              "      <button class=\"colab-df-convert\" onclick=\"convertToInteractive('df-cfd6c59a-744a-4479-a4fc-98ffa92784fe')\"\n",
              "              title=\"Convert this dataframe to an interactive table.\"\n",
              "              style=\"display:none;\">\n",
              "        \n",
              "  <svg xmlns=\"http://www.w3.org/2000/svg\" height=\"24px\"viewBox=\"0 0 24 24\"\n",
              "       width=\"24px\">\n",
              "    <path d=\"M0 0h24v24H0V0z\" fill=\"none\"/>\n",
              "    <path d=\"M18.56 5.44l.94 2.06.94-2.06 2.06-.94-2.06-.94-.94-2.06-.94 2.06-2.06.94zm-11 1L8.5 8.5l.94-2.06 2.06-.94-2.06-.94L8.5 2.5l-.94 2.06-2.06.94zm10 10l.94 2.06.94-2.06 2.06-.94-2.06-.94-.94-2.06-.94 2.06-2.06.94z\"/><path d=\"M17.41 7.96l-1.37-1.37c-.4-.4-.92-.59-1.43-.59-.52 0-1.04.2-1.43.59L10.3 9.45l-7.72 7.72c-.78.78-.78 2.05 0 2.83L4 21.41c.39.39.9.59 1.41.59.51 0 1.02-.2 1.41-.59l7.78-7.78 2.81-2.81c.8-.78.8-2.07 0-2.86zM5.41 20L4 18.59l7.72-7.72 1.47 1.35L5.41 20z\"/>\n",
              "  </svg>\n",
              "      </button>\n",
              "      \n",
              "  <style>\n",
              "    .colab-df-container {\n",
              "      display:flex;\n",
              "      flex-wrap:wrap;\n",
              "      gap: 12px;\n",
              "    }\n",
              "\n",
              "    .colab-df-convert {\n",
              "      background-color: #E8F0FE;\n",
              "      border: none;\n",
              "      border-radius: 50%;\n",
              "      cursor: pointer;\n",
              "      display: none;\n",
              "      fill: #1967D2;\n",
              "      height: 32px;\n",
              "      padding: 0 0 0 0;\n",
              "      width: 32px;\n",
              "    }\n",
              "\n",
              "    .colab-df-convert:hover {\n",
              "      background-color: #E2EBFA;\n",
              "      box-shadow: 0px 1px 2px rgba(60, 64, 67, 0.3), 0px 1px 3px 1px rgba(60, 64, 67, 0.15);\n",
              "      fill: #174EA6;\n",
              "    }\n",
              "\n",
              "    [theme=dark] .colab-df-convert {\n",
              "      background-color: #3B4455;\n",
              "      fill: #D2E3FC;\n",
              "    }\n",
              "\n",
              "    [theme=dark] .colab-df-convert:hover {\n",
              "      background-color: #434B5C;\n",
              "      box-shadow: 0px 1px 3px 1px rgba(0, 0, 0, 0.15);\n",
              "      filter: drop-shadow(0px 1px 2px rgba(0, 0, 0, 0.3));\n",
              "      fill: #FFFFFF;\n",
              "    }\n",
              "  </style>\n",
              "\n",
              "      <script>\n",
              "        const buttonEl =\n",
              "          document.querySelector('#df-cfd6c59a-744a-4479-a4fc-98ffa92784fe button.colab-df-convert');\n",
              "        buttonEl.style.display =\n",
              "          google.colab.kernel.accessAllowed ? 'block' : 'none';\n",
              "\n",
              "        async function convertToInteractive(key) {\n",
              "          const element = document.querySelector('#df-cfd6c59a-744a-4479-a4fc-98ffa92784fe');\n",
              "          const dataTable =\n",
              "            await google.colab.kernel.invokeFunction('convertToInteractive',\n",
              "                                                     [key], {});\n",
              "          if (!dataTable) return;\n",
              "\n",
              "          const docLinkHtml = 'Like what you see? Visit the ' +\n",
              "            '<a target=\"_blank\" href=https://colab.research.google.com/notebooks/data_table.ipynb>data table notebook</a>'\n",
              "            + ' to learn more about interactive tables.';\n",
              "          element.innerHTML = '';\n",
              "          dataTable['output_type'] = 'display_data';\n",
              "          await google.colab.output.renderOutput(dataTable, element);\n",
              "          const docLink = document.createElement('div');\n",
              "          docLink.innerHTML = docLinkHtml;\n",
              "          element.appendChild(docLink);\n",
              "        }\n",
              "      </script>\n",
              "    </div>\n",
              "  </div>\n",
              "  "
            ]
          },
          "metadata": {},
          "execution_count": 6
        }
      ]
    },
    {
      "cell_type": "markdown",
      "source": [
        "### Hepatitis Attribute Information:\n",
        "\n",
        "1. Class: DIE, LIVE \n",
        "2. AGE: 10, 20, 30, 40, 50, 60, 70, 80 \n",
        "3. SEX: male, female \n",
        "4. STEROID: no, yes \n",
        "5. ANTIVIRALS: no, yes \n",
        "6. FATIGUE: no, yes \n",
        "7. MALAISE: no, yes \n",
        "8. ANOREXIA: no, yes \n",
        "9. LIVER BIG: no, yes \n",
        "10. LIVER FIRM: no, yes \n",
        "11. SPLEEN PALPABLE: no, yes \n",
        "12. SPIDERS: no, yes \n",
        "13. ASCITES: no, yes \n",
        "14. VARICES: no, yes \n",
        "15. BILIRUBIN: 0.39, 0.80, 1.20, 2.00, 3.00, 4.00  \n",
        "16. ALK PHOSPHATE: 33, 80, 120, 160, 200, 250 \n",
        "17. SGOT: 13, 100, 200, 300, 400, 500, \n",
        "18. ALBUMIN: 2.1, 3.0, 3.8, 4.5, 5.0, 6.0 \n",
        "19. PROTIME: 10, 20, 30, 40, 50, 60, 70, 80, 90 \n",
        "20. HISTOLOGY: no, yes \n",
        "\n"
      ],
      "metadata": {
        "id": "SvFAeZuWXmnC"
      }
    },
    {
      "cell_type": "markdown",
      "source": [
        "## Task 1.2 : Distributions"
      ],
      "metadata": {
        "id": "6ANdzFscYe_q"
      }
    },
    {
      "cell_type": "code",
      "source": [
        "# Hepatitis Dataset\n",
        "X = hepatitis.iloc[:, hepatitis.columns != 0].values # x -> features (1-19)\n",
        "y = hepatitis.iloc[:, 0].values # y -> class label (0)\n",
        "\n",
        "X_train, X_test, y_train, y_test = train_test_split(X, y, test_size = 0.3, random_state=2, shuffle=True)\n"
      ],
      "metadata": {
        "id": "UKeR55aaYes2"
      },
      "execution_count": 60,
      "outputs": []
    },
    {
      "cell_type": "code",
      "source": [
        "# Plotting\n",
        "plt.clf()\n",
        "positive_train = y_train == 1\n",
        "negative_train = y_train == 0\n",
        "\n",
        "positive_test = y_test == 1\n",
        "negative_test = y_test == 0\n",
        "\n",
        "plt.plot(X_train[positive_train,0],X_train[positive_train,1],\"or\",label=\"Positive training examples\")\n",
        "plt.plot(X_train[negative_train,0],X_train[negative_train,1],\"ob\",label=\"Negative training examples\")\n",
        "\n",
        "plt.plot(X_test[positive_test,0],X_test[positive_test,1],\"xr\",label=\"Positive testing examples\")\n",
        "plt.plot(X_test[negative_test,0],X_test[negative_test,1],\"xb\",label=\"Negative testing examples\")\n",
        "\n",
        "plt.xlabel(\"Attributes\")\n",
        "plt.ylabel(\"Class\")\n",
        "plt.legend(loc='best')\n",
        "plt.savefig(\"hepatitis_dist.png\", bbox_inches='tight', dpi=300)"
      ],
      "metadata": {
        "colab": {
          "base_uri": "https://localhost:8080/",
          "height": 279
        },
        "id": "ij_31a6Cc7Qj",
        "outputId": "c66c94f5-da34-4af2-a8f0-a05277a75c3c"
      },
      "execution_count": 63,
      "outputs": [
        {
          "output_type": "display_data",
          "data": {
            "text/plain": [
              "<Figure size 432x288 with 1 Axes>"
            ],
            "image/png": "[encoded data removed]"
          },
          "metadata": {
            "needs_background": "light"
          }
        }
      ]
    },
    {
      "cell_type": "markdown",
      "source": [
        "## Task 2 : K-Nearest Neighbour"
      ],
      "metadata": {
        "id": "49Pz3ndleF98"
      }
    },
    {
      "cell_type": "code",
      "source": [
        "knn = KNeighborsClassifier() # n_neighbors=5 (default)\n",
        "fit = knn.fit(X_train, y_train)\n",
        "\n",
        "# Evaluating prediction accuracy on training data\n",
        "y_train_pred = fit.predict(X_train)\n",
        "y_test_pred = fit.predict(X_test)\n",
        "\n",
        "acc_train = np.sum(y_train_pred==y_train)/len(y_train)\n",
        "acc_test = np.sum(y_test_pred==y_test)/len(y_test)\n",
        "\n",
        "print(f'Training Accuracy: {acc_train}')\n",
        "print(f'Testing Accuracy: {acc_test}')"
      ],
      "metadata": {
        "colab": {
          "base_uri": "https://localhost:8080/"
        },
        "id": "vEuV7O1LeFDZ",
        "outputId": "0f766d83-62fb-4758-877f-425c3b3f1f19"
      },
      "execution_count": null,
      "outputs": [
        {
          "output_type": "stream",
          "name": "stdout",
          "text": [
            "Training Accuracy: 0.8571428571428571\n",
            "Testing Accuracy: 0.7916666666666666\n"
          ]
        }
      ]
    },
    {
      "cell_type": "markdown",
      "source": [
        "# Dataset 2 : Messidor Features"
      ],
      "metadata": {
        "id": "KLsesbe1YqBt"
      }
    },
    {
      "cell_type": "markdown",
      "source": [
        "## Task 1.1 Preprocessing"
      ],
      "metadata": {
        "id": "RTbuo0wFYwo1"
      }
    },
    {
      "cell_type": "code",
      "source": [
        "features = pd.read_csv('messidor_features.csv')\n",
        "features = features[(features != '?').all(axis=1)]\n",
        "features = features.dropna().reset_index(drop=True)\n",
        "features.head()"
      ],
      "metadata": {
        "colab": {
          "base_uri": "https://localhost:8080/",
          "height": 268
        },
        "id": "jUyRccvVXhWc",
        "outputId": "801e4220-411c-48bf-bb71-54d029668429"
      },
      "execution_count": null,
      "outputs": [
        {
          "output_type": "execute_result",
          "data": {
            "text/plain": [
              "   0  1   2   3   4   5   6   7          8          9         10        11  \\\n",
              "0  1  1  22  22  22  19  18  14  49.895756  17.775994   5.270920  0.771761   \n",
              "1  1  1  24  24  22  18  16  13  57.709936  23.799994   3.325423  0.234185   \n",
              "2  1  1  62  60  59  54  47  33  55.831441  27.993933  12.687485  4.852282   \n",
              "3  1  1  55  53  53  50  43  31  40.467228  18.445954   9.118901  3.079428   \n",
              "4  1  1  44  44  44  41  39  27  18.026254   8.570709   0.410381  0.000000   \n",
              "\n",
              "         12        13        14        15        16        17  18  class  \n",
              "0  0.018632  0.006864  0.003923  0.003923  0.486903  0.100025   1      0  \n",
              "1  0.003903  0.003903  0.003903  0.003903  0.520908  0.144414   0      0  \n",
              "2  1.393889  0.373252  0.041817  0.007744  0.530904  0.128548   0      1  \n",
              "3  0.840261  0.272434  0.007653  0.001531  0.483284  0.114790   0      0  \n",
              "4  0.000000  0.000000  0.000000  0.000000  0.475935  0.123572   0      1  "
            ],
            "text/html": [
              "\n",
              "  <div id=\"df-bb954be2-7f2a-40eb-bb92-cce316dd0e80\">\n",
              "    <div class=\"colab-df-container\">\n",
              "      <div>\n",
              "<style scoped>\n",
              "    .dataframe tbody tr th:only-of-type {\n",
              "        vertical-align: middle;\n",
              "    }\n",
              "\n",
              "    .dataframe tbody tr th {\n",
              "        vertical-align: top;\n",
              "    }\n",
              "\n",
              "    .dataframe thead th {\n",
              "        text-align: right;\n",
              "    }\n",
              "</style>\n",
              "<table border=\"1\" class=\"dataframe\">\n",
              "  <thead>\n",
              "    <tr style=\"text-align: right;\">\n",
              "      <th></th>\n",
              "      <th>0</th>\n",
              "      <th>1</th>\n",
              "      <th>2</th>\n",
              "      <th>3</th>\n",
              "      <th>4</th>\n",
              "      <th>5</th>\n",
              "      <th>6</th>\n",
              "      <th>7</th>\n",
              "      <th>8</th>\n",
              "      <th>9</th>\n",
              "      <th>10</th>\n",
              "      <th>11</th>\n",
              "      <th>12</th>\n",
              "      <th>13</th>\n",
              "      <th>14</th>\n",
              "      <th>15</th>\n",
              "      <th>16</th>\n",
              "      <th>17</th>\n",
              "      <th>18</th>\n",
              "      <th>class</th>\n",
              "    </tr>\n",
              "  </thead>\n",
              "  <tbody>\n",
              "    <tr>\n",
              "      <th>0</th>\n",
              "      <td>1</td>\n",
              "      <td>1</td>\n",
              "      <td>22</td>\n",
              "      <td>22</td>\n",
              "      <td>22</td>\n",
              "      <td>19</td>\n",
              "      <td>18</td>\n",
              "      <td>14</td>\n",
              "      <td>49.895756</td>\n",
              "      <td>17.775994</td>\n",
              "      <td>5.270920</td>\n",
              "      <td>0.771761</td>\n",
              "      <td>0.018632</td>\n",
              "      <td>0.006864</td>\n",
              "      <td>0.003923</td>\n",
              "      <td>0.003923</td>\n",
              "      <td>0.486903</td>\n",
              "      <td>0.100025</td>\n",
              "      <td>1</td>\n",
              "      <td>0</td>\n",
              "    </tr>\n",
              "    <tr>\n",
              "      <th>1</th>\n",
              "      <td>1</td>\n",
              "      <td>1</td>\n",
              "      <td>24</td>\n",
              "      <td>24</td>\n",
              "      <td>22</td>\n",
              "      <td>18</td>\n",
              "      <td>16</td>\n",
              "      <td>13</td>\n",
              "      <td>57.709936</td>\n",
              "      <td>23.799994</td>\n",
              "      <td>3.325423</td>\n",
              "      <td>0.234185</td>\n",
              "      <td>0.003903</td>\n",
              "      <td>0.003903</td>\n",
              "      <td>0.003903</td>\n",
              "      <td>0.003903</td>\n",
              "      <td>0.520908</td>\n",
              "      <td>0.144414</td>\n",
              "      <td>0</td>\n",
              "      <td>0</td>\n",
              "    </tr>\n",
              "    <tr>\n",
              "      <th>2</th>\n",
              "      <td>1</td>\n",
              "      <td>1</td>\n",
              "      <td>62</td>\n",
              "      <td>60</td>\n",
              "      <td>59</td>\n",
              "      <td>54</td>\n",
              "      <td>47</td>\n",
              "      <td>33</td>\n",
              "      <td>55.831441</td>\n",
              "      <td>27.993933</td>\n",
              "      <td>12.687485</td>\n",
              "      <td>4.852282</td>\n",
              "      <td>1.393889</td>\n",
              "      <td>0.373252</td>\n",
              "      <td>0.041817</td>\n",
              "      <td>0.007744</td>\n",
              "      <td>0.530904</td>\n",
              "      <td>0.128548</td>\n",
              "      <td>0</td>\n",
              "      <td>1</td>\n",
              "    </tr>\n",
              "    <tr>\n",
              "      <th>3</th>\n",
              "      <td>1</td>\n",
              "      <td>1</td>\n",
              "      <td>55</td>\n",
              "      <td>53</td>\n",
              "      <td>53</td>\n",
              "      <td>50</td>\n",
              "      <td>43</td>\n",
              "      <td>31</td>\n",
              "      <td>40.467228</td>\n",
              "      <td>18.445954</td>\n",
              "      <td>9.118901</td>\n",
              "      <td>3.079428</td>\n",
              "      <td>0.840261</td>\n",
              "      <td>0.272434</td>\n",
              "      <td>0.007653</td>\n",
              "      <td>0.001531</td>\n",
              "      <td>0.483284</td>\n",
              "      <td>0.114790</td>\n",
              "      <td>0</td>\n",
              "      <td>0</td>\n",
              "    </tr>\n",
              "    <tr>\n",
              "      <th>4</th>\n",
              "      <td>1</td>\n",
              "      <td>1</td>\n",
              "      <td>44</td>\n",
              "      <td>44</td>\n",
              "      <td>44</td>\n",
              "      <td>41</td>\n",
              "      <td>39</td>\n",
              "      <td>27</td>\n",
              "      <td>18.026254</td>\n",
              "      <td>8.570709</td>\n",
              "      <td>0.410381</td>\n",
              "      <td>0.000000</td>\n",
              "      <td>0.000000</td>\n",
              "      <td>0.000000</td>\n",
              "      <td>0.000000</td>\n",
              "      <td>0.000000</td>\n",
              "      <td>0.475935</td>\n",
              "      <td>0.123572</td>\n",
              "      <td>0</td>\n",
              "      <td>1</td>\n",
              "    </tr>\n",
              "  </tbody>\n",
              "</table>\n",
              "</div>\n",
              "      <button class=\"colab-df-convert\" onclick=\"convertToInteractive('df-bb954be2-7f2a-40eb-bb92-cce316dd0e80')\"\n",
              "              title=\"Convert this dataframe to an interactive table.\"\n",
              "              style=\"display:none;\">\n",
              "        \n",
              "  <svg xmlns=\"http://www.w3.org/2000/svg\" height=\"24px\"viewBox=\"0 0 24 24\"\n",
              "       width=\"24px\">\n",
              "    <path d=\"M0 0h24v24H0V0z\" fill=\"none\"/>\n",
              "    <path d=\"M18.56 5.44l.94 2.06.94-2.06 2.06-.94-2.06-.94-.94-2.06-.94 2.06-2.06.94zm-11 1L8.5 8.5l.94-2.06 2.06-.94-2.06-.94L8.5 2.5l-.94 2.06-2.06.94zm10 10l.94 2.06.94-2.06 2.06-.94-2.06-.94-.94-2.06-.94 2.06-2.06.94z\"/><path d=\"M17.41 7.96l-1.37-1.37c-.4-.4-.92-.59-1.43-.59-.52 0-1.04.2-1.43.59L10.3 9.45l-7.72 7.72c-.78.78-.78 2.05 0 2.83L4 21.41c.39.39.9.59 1.41.59.51 0 1.02-.2 1.41-.59l7.78-7.78 2.81-2.81c.8-.78.8-2.07 0-2.86zM5.41 20L4 18.59l7.72-7.72 1.47 1.35L5.41 20z\"/>\n",
              "  </svg>\n",
              "      </button>\n",
              "      \n",
              "  <style>\n",
              "    .colab-df-container {\n",
              "      display:flex;\n",
              "      flex-wrap:wrap;\n",
              "      gap: 12px;\n",
              "    }\n",
              "\n",
              "    .colab-df-convert {\n",
              "      background-color: #E8F0FE;\n",
              "      border: none;\n",
              "      border-radius: 50%;\n",
              "      cursor: pointer;\n",
              "      display: none;\n",
              "      fill: #1967D2;\n",
              "      height: 32px;\n",
              "      padding: 0 0 0 0;\n",
              "      width: 32px;\n",
              "    }\n",
              "\n",
              "    .colab-df-convert:hover {\n",
              "      background-color: #E2EBFA;\n",
              "      box-shadow: 0px 1px 2px rgba(60, 64, 67, 0.3), 0px 1px 3px 1px rgba(60, 64, 67, 0.15);\n",
              "      fill: #174EA6;\n",
              "    }\n",
              "\n",
              "    [theme=dark] .colab-df-convert {\n",
              "      background-color: #3B4455;\n",
              "      fill: #D2E3FC;\n",
              "    }\n",
              "\n",
              "    [theme=dark] .colab-df-convert:hover {\n",
              "      background-color: #434B5C;\n",
              "      box-shadow: 0px 1px 3px 1px rgba(0, 0, 0, 0.15);\n",
              "      filter: drop-shadow(0px 1px 2px rgba(0, 0, 0, 0.3));\n",
              "      fill: #FFFFFF;\n",
              "    }\n",
              "  </style>\n",
              "\n",
              "      <script>\n",
              "        const buttonEl =\n",
              "          document.querySelector('#df-bb954be2-7f2a-40eb-bb92-cce316dd0e80 button.colab-df-convert');\n",
              "        buttonEl.style.display =\n",
              "          google.colab.kernel.accessAllowed ? 'block' : 'none';\n",
              "\n",
              "        async function convertToInteractive(key) {\n",
              "          const element = document.querySelector('#df-bb954be2-7f2a-40eb-bb92-cce316dd0e80');\n",
              "          const dataTable =\n",
              "            await google.colab.kernel.invokeFunction('convertToInteractive',\n",
              "                                                     [key], {});\n",
              "          if (!dataTable) return;\n",
              "\n",
              "          const docLinkHtml = 'Like what you see? Visit the ' +\n",
              "            '<a target=\"_blank\" href=https://colab.research.google.com/notebooks/data_table.ipynb>data table notebook</a>'\n",
              "            + ' to learn more about interactive tables.';\n",
              "          element.innerHTML = '';\n",
              "          dataTable['output_type'] = 'display_data';\n",
              "          await google.colab.output.renderOutput(dataTable, element);\n",
              "          const docLink = document.createElement('div');\n",
              "          docLink.innerHTML = docLinkHtml;\n",
              "          element.appendChild(docLink);\n",
              "        }\n",
              "      </script>\n",
              "    </div>\n",
              "  </div>\n",
              "  "
            ]
          },
          "metadata": {},
          "execution_count": 24
        }
      ]
    },
    {
      "cell_type": "markdown",
      "source": [
        "### Features Attribute Information:\n",
        "\n",
        "0. The binary result of quality assessment. 0 = bad quality 1 = sufficient quality.\n",
        "1. The binary result of pre-screening, where 1 indicates severe retinal abnormality and 0 its lack.  \n",
        "* (2-7). The results of MA detection. Each feature value stand for the number of MAs found at the confidence levels alpha = 0.5,...,1, respectively.     \n",
        "* (8-15). contain the same information as 2-7) for exudates. However, as exudates are represented by a set of points rather than the number of pixels constructing the lesions, these features are normalized by dividing the number of lesions with the diameter of the ROI to compensate different image sizes.   \n",
        "16. The euclidean distance of the center of the macula and the center of the optic disc to provide important information regarding the patientâ€™s condition. This feature is also normalized with the diameter of the ROI.   \n",
        "17. The diameter of the optic disc.   \n",
        "18. The binary result of the AM/FM-based classification.   \n",
        "19. Class label. 1 = contains signs of DR (Accumulative label for the Messidor classes 1, 2, 3), 0 = no signs of DR. "
      ],
      "metadata": {
        "id": "flmocghQXqDM"
      }
    },
    {
      "cell_type": "markdown",
      "source": [
        "## Task 1.2 Distributions"
      ],
      "metadata": {
        "id": "tuspcH2zXuPI"
      }
    },
    {
      "cell_type": "code",
      "source": [
        "# Messidor features dataset\n",
        "X = features.iloc[:,:-1].values # x -> features (0-18)\n",
        "y = features.iloc[:,-1:].values # y -> class label (19)\n",
        "\n",
        "\n",
        "X_train, X_test, y_train, y_test = train_test_split(X, y, test_size = 0.3, random_state=1, shuffle=True)\n"
      ],
      "metadata": {
        "id": "jK9BkysEXhiu"
      },
      "execution_count": 58,
      "outputs": []
    },
    {
      "cell_type": "code",
      "source": [
        "# Plotting\n",
        "plt.clf()\n",
        "positive_train = y_train == 1\n",
        "negative_train = y_train == 0\n",
        "\n",
        "positive_test = y_test == 1\n",
        "negative_test = y_test == 0\n",
        "\n",
        "plt.plot(X_train[positive_train,0], X_train[positive_train,1],\"or\",label=\"Positive training examples\")\n",
        "plt.plot(X_train[negative_train,0], X_train[negative_train,1],\"ob\",label=\"Negative training examples\")\n",
        "\n",
        "plt.plot(X_test[positive_test,0], X_test[positive_test,1],\"xr\",label=\"Positive testing examples\")\n",
        "plt.plot(X_test[negative_test,0], X_test[negative_test,1],\"xb\",label=\"Negative testing examples\")\n",
        "\n",
        "plt.xlabel(\"Attributes\")\n",
        "plt.ylabel(\"Class\")\n",
        "plt.legend(loc='best')\n",
        "plt.savefig(\"messidor_features_dist.png\", bbox_inches='tight', dpi=300)"
      ],
      "metadata": {
        "colab": {
          "base_uri": "https://localhost:8080/",
          "height": 334
        },
        "id": "NCgn19nOdgHd",
        "outputId": "d0fa08f4-724b-4a59-fa85-afb37ce2f8a0"
      },
      "execution_count": 59,
      "outputs": [
        {
          "output_type": "error",
          "ename": "IndexError",
          "evalue": "ignored",
          "traceback": [
            "\u001b[0;31m---------------------------------------------------------------------------\u001b[0m",
            "\u001b[0;31mIndexError\u001b[0m                                Traceback (most recent call last)",
            "\u001b[0;32m<ipython-input-59-4a08a428e41e>\u001b[0m in \u001b[0;36m<module>\u001b[0;34m\u001b[0m\n\u001b[1;32m      7\u001b[0m \u001b[0mnegative_test\u001b[0m \u001b[0;34m=\u001b[0m \u001b[0my_test\u001b[0m \u001b[0;34m==\u001b[0m \u001b[0;36m0\u001b[0m\u001b[0;34m\u001b[0m\u001b[0;34m\u001b[0m\u001b[0m\n\u001b[1;32m      8\u001b[0m \u001b[0;34m\u001b[0m\u001b[0m\n\u001b[0;32m----> 9\u001b[0;31m \u001b[0mplt\u001b[0m\u001b[0;34m.\u001b[0m\u001b[0mplot\u001b[0m\u001b[0;34m(\u001b[0m\u001b[0mX_train\u001b[0m\u001b[0;34m[\u001b[0m\u001b[0mpositive_train\u001b[0m\u001b[0;34m,\u001b[0m\u001b[0;36m0\u001b[0m\u001b[0;34m]\u001b[0m\u001b[0;34m,\u001b[0m \u001b[0mX_train\u001b[0m\u001b[0;34m[\u001b[0m\u001b[0mpositive_train\u001b[0m\u001b[0;34m,\u001b[0m\u001b[0;36m1\u001b[0m\u001b[0;34m]\u001b[0m\u001b[0;34m,\u001b[0m\u001b[0;34m\"or\"\u001b[0m\u001b[0;34m,\u001b[0m\u001b[0mlabel\u001b[0m\u001b[0;34m=\u001b[0m\u001b[0;34m\"Positive training examples\"\u001b[0m\u001b[0;34m)\u001b[0m\u001b[0;34m\u001b[0m\u001b[0;34m\u001b[0m\u001b[0m\n\u001b[0m\u001b[1;32m     10\u001b[0m \u001b[0mplt\u001b[0m\u001b[0;34m.\u001b[0m\u001b[0mplot\u001b[0m\u001b[0;34m(\u001b[0m\u001b[0mX_train\u001b[0m\u001b[0;34m[\u001b[0m\u001b[0mnegative_train\u001b[0m\u001b[0;34m,\u001b[0m\u001b[0;36m0\u001b[0m\u001b[0;34m]\u001b[0m\u001b[0;34m,\u001b[0m \u001b[0mX_train\u001b[0m\u001b[0;34m[\u001b[0m\u001b[0mnegative_train\u001b[0m\u001b[0;34m,\u001b[0m\u001b[0;36m1\u001b[0m\u001b[0;34m]\u001b[0m\u001b[0;34m,\u001b[0m\u001b[0;34m\"ob\"\u001b[0m\u001b[0;34m,\u001b[0m\u001b[0mlabel\u001b[0m\u001b[0;34m=\u001b[0m\u001b[0;34m\"Negative training examples\"\u001b[0m\u001b[0;34m)\u001b[0m\u001b[0;34m\u001b[0m\u001b[0;34m\u001b[0m\u001b[0m\n\u001b[1;32m     11\u001b[0m \u001b[0;34m\u001b[0m\u001b[0m\n",
            "\u001b[0;31mIndexError\u001b[0m: too many indices for array: array is 2-dimensional, but 3 were indexed"
          ]
        },
        {
          "output_type": "display_data",
          "data": {
            "text/plain": [
              "<Figure size 432x288 with 0 Axes>"
            ]
          },
          "metadata": {}
        }
      ]
    },
    {
      "cell_type": "markdown",
      "source": [
        "## Task 2 : K-Nearest Neighbour"
      ],
      "metadata": {
        "id": "ICbD1OsCe_9G"
      }
    },
    {
      "cell_type": "code",
      "source": [
        "knn = KNeighborsClassifier() # n_neighbors=5 (default)\n",
        "fit = knn.fit(X_train, y_train)\n",
        "\n",
        "# Evaluating prediction accuracy on training data\n",
        "y_train_pred = fit.predict(X_trai2n)\n",
        "y_test_pred = fit.predict(X_test)\n",
        "\n",
        "acc_train = np.sum(y_train_pred==y_train)/len(y_train)\n",
        "acc_test = np.sum(y_test_pred==y_test)/len(y_test)\n",
        "\n",
        "print(f'Training Accuracy: {acc_train}')\n",
        "print(f'Testing Accuracy: {acc_test}')"
      ],
      "metadata": {
        "colab": {
          "base_uri": "https://localhost:8080/"
        },
        "id": "_oiB3DNaXzJY",
        "outputId": "0017194c-4af3-4096-928b-4996c1a67e21"
      },
      "execution_count": null,
      "outputs": [
        {
          "output_type": "stream",
          "name": "stdout",
          "text": [
            "Training Accuracy: 403.12546583850934\n",
            "Testing Accuracy: 173.98843930635837\n"
          ]
        }
      ]
    }
  ]
}