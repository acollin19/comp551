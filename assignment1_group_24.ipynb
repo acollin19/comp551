{
  "cells": [
    {
      "cell_type": "markdown",
      "metadata": {
        "id": "view-in-github",
        "colab_type": "text"
      },
      "source": [
        "<a href=\"https://colab.research.google.com/github/acollin19/comp551_A1/blob/adam/assignment1_group_24.ipynb\" target=\"_parent\"><img src=\"https://colab.research.google.com/assets/colab-badge.svg\" alt=\"Open In Colab\"/></a>"
      ]
    },
    {
      "cell_type": "markdown",
      "metadata": {
        "id": "VcIJvqUbXS0v"
      },
      "source": [
        "# Assignment 1\n",
        "\n",
        "## Process:\n",
        "\n",
        "### Task 1: Preprocessing\n",
        "1. Hepatitis dataset\n",
        "2. Diabetic Retinopathy Debrecen dataset\n",
        "3. Basic statistics\n",
        "\n",
        "### Task 2: Implementing KNN and DT\n",
        "1. KNN\n",
        "2. DT\n",
        "\n",
        "### Task 3: Running Experiments\n",
        "1. Dataset 1: Hepatitis\n",
        "2. Dataset 2: Diabetic Retinopathy Debrecen\n",
        "\n",
        "* Compare accuracy\n",
        "* Different K values\n",
        "* Max tree depth\n",
        "* Different distance/costs\n",
        "* Plots\n",
        "* Key features in DT\n",
        "* Key features in KNN"
      ]
    },
    {
      "cell_type": "code",
      "execution_count": 1,
      "metadata": {
        "id": "5RIgjHnmXGkq"
      },
      "outputs": [],
      "source": [
        "import pandas as pd\n",
        "import numpy as np\n",
        "import math\n",
        "# from math import sqrt\n",
        "from sklearn.model_selection import train_test_split\n",
        "import scipy.spatial\n",
        "from scipy.io import arff\n",
        "from collections import Counter\n",
        "import matplotlib.pyplot as plt\n",
        "from matplotlib.colors import ListedColormap\n",
        "import warnings\n",
        "warnings.filterwarnings('ignore')\n",
        "np.random.seed(420)"
      ]
    },
    {
      "cell_type": "markdown",
      "metadata": {
        "id": "wdKenWk_xEQe"
      },
      "source": [
        "## Task 1: Preprocessing"
      ]
    },
    {
      "cell_type": "markdown",
      "metadata": {
        "id": "_8geQ27A1x2p"
      },
      "source": [
        "## Task 1.1: Hepatitis Dataset"
      ]
    },
    {
      "cell_type": "code",
      "execution_count": 2,
      "metadata": {
        "colab": {
          "base_uri": "https://localhost:8080/",
          "height": 270
        },
        "id": "ijGPLs2CXgwB",
        "outputId": "23794836-0157-489a-a565-d68bcae067d6"
      },
      "outputs": [
        {
          "output_type": "execute_result",
          "data": {
            "text/plain": [
              "   CLASS  AGE  SEX  STEROID  ANTIVIRAL  FATIGUE  MALAISE  ANOREXIA  LIVER_BIG  \\\n",
              "0      2   34    1        2          2        2        2         2          2   \n",
              "1      2   39    1        1          1        2        2         2          1   \n",
              "2      2   32    1        2          1        1        2         2          2   \n",
              "3      2   41    1        2          1        1        2         2          2   \n",
              "4      2   30    1        2          2        1        2         2          2   \n",
              "\n",
              "   LIVER_FIRM  SPLEEN_PALPABLE  SPIDERS  ASCITES  VARICES  BILIRUBIN  \\\n",
              "0           2                2        2        2        2        0.9   \n",
              "1           1                2        2        2        2        1.3   \n",
              "2           1                2        1        2        2        1.0   \n",
              "3           1                2        2        2        2        0.9   \n",
              "4           1                2        2        2        2        2.2   \n",
              "\n",
              "   ALK_PHOSPHATE  SGOT  ALBUMIN  PROTIME  HISTOLOGY  \n",
              "0             95    28      4.0       75          1  \n",
              "1             78    30      4.4       85          1  \n",
              "2             59   249      3.7       54          1  \n",
              "3             81    60      3.9       52          1  \n",
              "4             57   144      4.9       78          1  "
            ],
            "text/html": [
              "\n",
              "  <div id=\"df-32967357-d16e-42c1-87ee-d887f0892baa\">\n",
              "    <div class=\"colab-df-container\">\n",
              "      <div>\n",
              "<style scoped>\n",
              "    .dataframe tbody tr th:only-of-type {\n",
              "        vertical-align: middle;\n",
              "    }\n",
              "\n",
              "    .dataframe tbody tr th {\n",
              "        vertical-align: top;\n",
              "    }\n",
              "\n",
              "    .dataframe thead th {\n",
              "        text-align: right;\n",
              "    }\n",
              "</style>\n",
              "<table border=\"1\" class=\"dataframe\">\n",
              "  <thead>\n",
              "    <tr style=\"text-align: right;\">\n",
              "      <th></th>\n",
              "      <th>CLASS</th>\n",
              "      <th>AGE</th>\n",
              "      <th>SEX</th>\n",
              "      <th>STEROID</th>\n",
              "      <th>ANTIVIRAL</th>\n",
              "      <th>FATIGUE</th>\n",
              "      <th>MALAISE</th>\n",
              "      <th>ANOREXIA</th>\n",
              "      <th>LIVER_BIG</th>\n",
              "      <th>LIVER_FIRM</th>\n",
              "      <th>SPLEEN_PALPABLE</th>\n",
              "      <th>SPIDERS</th>\n",
              "      <th>ASCITES</th>\n",
              "      <th>VARICES</th>\n",
              "      <th>BILIRUBIN</th>\n",
              "      <th>ALK_PHOSPHATE</th>\n",
              "      <th>SGOT</th>\n",
              "      <th>ALBUMIN</th>\n",
              "      <th>PROTIME</th>\n",
              "      <th>HISTOLOGY</th>\n",
              "    </tr>\n",
              "  </thead>\n",
              "  <tbody>\n",
              "    <tr>\n",
              "      <th>0</th>\n",
              "      <td>2</td>\n",
              "      <td>34</td>\n",
              "      <td>1</td>\n",
              "      <td>2</td>\n",
              "      <td>2</td>\n",
              "      <td>2</td>\n",
              "      <td>2</td>\n",
              "      <td>2</td>\n",
              "      <td>2</td>\n",
              "      <td>2</td>\n",
              "      <td>2</td>\n",
              "      <td>2</td>\n",
              "      <td>2</td>\n",
              "      <td>2</td>\n",
              "      <td>0.9</td>\n",
              "      <td>95</td>\n",
              "      <td>28</td>\n",
              "      <td>4.0</td>\n",
              "      <td>75</td>\n",
              "      <td>1</td>\n",
              "    </tr>\n",
              "    <tr>\n",
              "      <th>1</th>\n",
              "      <td>2</td>\n",
              "      <td>39</td>\n",
              "      <td>1</td>\n",
              "      <td>1</td>\n",
              "      <td>1</td>\n",
              "      <td>2</td>\n",
              "      <td>2</td>\n",
              "      <td>2</td>\n",
              "      <td>1</td>\n",
              "      <td>1</td>\n",
              "      <td>2</td>\n",
              "      <td>2</td>\n",
              "      <td>2</td>\n",
              "      <td>2</td>\n",
              "      <td>1.3</td>\n",
              "      <td>78</td>\n",
              "      <td>30</td>\n",
              "      <td>4.4</td>\n",
              "      <td>85</td>\n",
              "      <td>1</td>\n",
              "    </tr>\n",
              "    <tr>\n",
              "      <th>2</th>\n",
              "      <td>2</td>\n",
              "      <td>32</td>\n",
              "      <td>1</td>\n",
              "      <td>2</td>\n",
              "      <td>1</td>\n",
              "      <td>1</td>\n",
              "      <td>2</td>\n",
              "      <td>2</td>\n",
              "      <td>2</td>\n",
              "      <td>1</td>\n",
              "      <td>2</td>\n",
              "      <td>1</td>\n",
              "      <td>2</td>\n",
              "      <td>2</td>\n",
              "      <td>1.0</td>\n",
              "      <td>59</td>\n",
              "      <td>249</td>\n",
              "      <td>3.7</td>\n",
              "      <td>54</td>\n",
              "      <td>1</td>\n",
              "    </tr>\n",
              "    <tr>\n",
              "      <th>3</th>\n",
              "      <td>2</td>\n",
              "      <td>41</td>\n",
              "      <td>1</td>\n",
              "      <td>2</td>\n",
              "      <td>1</td>\n",
              "      <td>1</td>\n",
              "      <td>2</td>\n",
              "      <td>2</td>\n",
              "      <td>2</td>\n",
              "      <td>1</td>\n",
              "      <td>2</td>\n",
              "      <td>2</td>\n",
              "      <td>2</td>\n",
              "      <td>2</td>\n",
              "      <td>0.9</td>\n",
              "      <td>81</td>\n",
              "      <td>60</td>\n",
              "      <td>3.9</td>\n",
              "      <td>52</td>\n",
              "      <td>1</td>\n",
              "    </tr>\n",
              "    <tr>\n",
              "      <th>4</th>\n",
              "      <td>2</td>\n",
              "      <td>30</td>\n",
              "      <td>1</td>\n",
              "      <td>2</td>\n",
              "      <td>2</td>\n",
              "      <td>1</td>\n",
              "      <td>2</td>\n",
              "      <td>2</td>\n",
              "      <td>2</td>\n",
              "      <td>1</td>\n",
              "      <td>2</td>\n",
              "      <td>2</td>\n",
              "      <td>2</td>\n",
              "      <td>2</td>\n",
              "      <td>2.2</td>\n",
              "      <td>57</td>\n",
              "      <td>144</td>\n",
              "      <td>4.9</td>\n",
              "      <td>78</td>\n",
              "      <td>1</td>\n",
              "    </tr>\n",
              "  </tbody>\n",
              "</table>\n",
              "</div>\n",
              "      <button class=\"colab-df-convert\" onclick=\"convertToInteractive('df-32967357-d16e-42c1-87ee-d887f0892baa')\"\n",
              "              title=\"Convert this dataframe to an interactive table.\"\n",
              "              style=\"display:none;\">\n",
              "        \n",
              "  <svg xmlns=\"http://www.w3.org/2000/svg\" height=\"24px\"viewBox=\"0 0 24 24\"\n",
              "       width=\"24px\">\n",
              "    <path d=\"M0 0h24v24H0V0z\" fill=\"none\"/>\n",
              "    <path d=\"M18.56 5.44l.94 2.06.94-2.06 2.06-.94-2.06-.94-.94-2.06-.94 2.06-2.06.94zm-11 1L8.5 8.5l.94-2.06 2.06-.94-2.06-.94L8.5 2.5l-.94 2.06-2.06.94zm10 10l.94 2.06.94-2.06 2.06-.94-2.06-.94-.94-2.06-.94 2.06-2.06.94z\"/><path d=\"M17.41 7.96l-1.37-1.37c-.4-.4-.92-.59-1.43-.59-.52 0-1.04.2-1.43.59L10.3 9.45l-7.72 7.72c-.78.78-.78 2.05 0 2.83L4 21.41c.39.39.9.59 1.41.59.51 0 1.02-.2 1.41-.59l7.78-7.78 2.81-2.81c.8-.78.8-2.07 0-2.86zM5.41 20L4 18.59l7.72-7.72 1.47 1.35L5.41 20z\"/>\n",
              "  </svg>\n",
              "      </button>\n",
              "      \n",
              "  <style>\n",
              "    .colab-df-container {\n",
              "      display:flex;\n",
              "      flex-wrap:wrap;\n",
              "      gap: 12px;\n",
              "    }\n",
              "\n",
              "    .colab-df-convert {\n",
              "      background-color: #E8F0FE;\n",
              "      border: none;\n",
              "      border-radius: 50%;\n",
              "      cursor: pointer;\n",
              "      display: none;\n",
              "      fill: #1967D2;\n",
              "      height: 32px;\n",
              "      padding: 0 0 0 0;\n",
              "      width: 32px;\n",
              "    }\n",
              "\n",
              "    .colab-df-convert:hover {\n",
              "      background-color: #E2EBFA;\n",
              "      box-shadow: 0px 1px 2px rgba(60, 64, 67, 0.3), 0px 1px 3px 1px rgba(60, 64, 67, 0.15);\n",
              "      fill: #174EA6;\n",
              "    }\n",
              "\n",
              "    [theme=dark] .colab-df-convert {\n",
              "      background-color: #3B4455;\n",
              "      fill: #D2E3FC;\n",
              "    }\n",
              "\n",
              "    [theme=dark] .colab-df-convert:hover {\n",
              "      background-color: #434B5C;\n",
              "      box-shadow: 0px 1px 3px 1px rgba(0, 0, 0, 0.15);\n",
              "      filter: drop-shadow(0px 1px 2px rgba(0, 0, 0, 0.3));\n",
              "      fill: #FFFFFF;\n",
              "    }\n",
              "  </style>\n",
              "\n",
              "      <script>\n",
              "        const buttonEl =\n",
              "          document.querySelector('#df-32967357-d16e-42c1-87ee-d887f0892baa button.colab-df-convert');\n",
              "        buttonEl.style.display =\n",
              "          google.colab.kernel.accessAllowed ? 'block' : 'none';\n",
              "\n",
              "        async function convertToInteractive(key) {\n",
              "          const element = document.querySelector('#df-32967357-d16e-42c1-87ee-d887f0892baa');\n",
              "          const dataTable =\n",
              "            await google.colab.kernel.invokeFunction('convertToInteractive',\n",
              "                                                     [key], {});\n",
              "          if (!dataTable) return;\n",
              "\n",
              "          const docLinkHtml = 'Like what you see? Visit the ' +\n",
              "            '<a target=\"_blank\" href=https://colab.research.google.com/notebooks/data_table.ipynb>data table notebook</a>'\n",
              "            + ' to learn more about interactive tables.';\n",
              "          element.innerHTML = '';\n",
              "          dataTable['output_type'] = 'display_data';\n",
              "          await google.colab.output.renderOutput(dataTable, element);\n",
              "          const docLink = document.createElement('div');\n",
              "          docLink.innerHTML = docLinkHtml;\n",
              "          element.appendChild(docLink);\n",
              "        }\n",
              "      </script>\n",
              "    </div>\n",
              "  </div>\n",
              "  "
            ]
          },
          "metadata": {},
          "execution_count": 2
        }
      ],
      "source": [
        "# Loading/cleaning datasets\n",
        "\n",
        "hepatitis = pd.read_csv(\"hepatitis.data\", header=None)\n",
        "hepatitis = hepatitis[(hepatitis != '?').all(axis=1)]\n",
        "hepatitis = hepatitis.dropna().reset_index(drop=True)\n",
        "hepatitis = hepatitis.apply(pd.to_numeric)\n",
        "hepatitis.columns = ['CLASS','AGE','SEX','STEROID','ANTIVIRAL','FATIGUE','MALAISE','ANOREXIA',\n",
        "            'LIVER_BIG','LIVER_FIRM','SPLEEN_PALPABLE','SPIDERS','ASCITES','VARICES',\n",
        "            'BILIRUBIN','ALK_PHOSPHATE','SGOT','ALBUMIN','PROTIME','HISTOLOGY']\n",
        "hepatitis.head()"
      ]
    },
    {
      "cell_type": "code",
      "execution_count": 3,
      "metadata": {
        "colab": {
          "base_uri": "https://localhost:8080/",
          "height": 138
        },
        "id": "UKeR55aaYes2",
        "outputId": "131134aa-00a2-45dc-cd01-007be70ab62f"
      },
      "outputs": [
        {
          "output_type": "display_data",
          "data": {
            "text/plain": [
              "array([[34. ,  1. ,  2. , ...,  4. , 75. ,  1. ],\n",
              "       [39. ,  1. ,  1. , ...,  4.4, 85. ,  1. ],\n",
              "       [32. ,  1. ,  2. , ...,  3.7, 54. ,  1. ],\n",
              "       ...,\n",
              "       [31. ,  1. ,  1. , ...,  4.2, 54. ,  2. ],\n",
              "       [53. ,  2. ,  1. , ...,  4.1, 48. ,  2. ],\n",
              "       [43. ,  1. ,  2. , ...,  3.1, 42. ,  2. ]])"
            ]
          },
          "metadata": {}
        }
      ],
      "source": [
        "# Hepatitis Dataset\n",
        "X_hepatitis = hepatitis.iloc[:, hepatitis.columns != 'CLASS'].values # x -> features (1-19)\n",
        "y_hepatitis = hepatitis.iloc[:, 0].values # y -> class label (0)\n",
        "display(X_hepatitis)"
      ]
    },
    {
      "cell_type": "markdown",
      "metadata": {
        "id": "uYvUXkoR2lOJ"
      },
      "source": [
        "## Task 1.2: Diabetic Retinopathy Debrecen Dataset"
      ]
    },
    {
      "cell_type": "code",
      "execution_count": 4,
      "metadata": {
        "colab": {
          "base_uri": "https://localhost:8080/",
          "height": 270
        },
        "id": "jUyRccvVXhWc",
        "outputId": "b0999d2a-3f14-42cb-9a65-19b496b6c470"
      },
      "outputs": [
        {
          "output_type": "execute_result",
          "data": {
            "text/plain": [
              "   QUALITY  PRESCREENING  MA_1  MA_2  MA_3  MA_4  MA_5  MA_6  EXUDATES_8  \\\n",
              "0      1.0           1.0  22.0  22.0  22.0  19.0  18.0  14.0   49.895756   \n",
              "1      1.0           1.0  24.0  24.0  22.0  18.0  16.0  13.0   57.709936   \n",
              "2      1.0           1.0  62.0  60.0  59.0  54.0  47.0  33.0   55.831441   \n",
              "3      1.0           1.0  55.0  53.0  53.0  50.0  43.0  31.0   40.467228   \n",
              "4      1.0           1.0  44.0  44.0  44.0  41.0  39.0  27.0   18.026254   \n",
              "\n",
              "   EXUDATES_9  EXUDATES_10  EXUDATES_11  EXUDATES_12  EXUDATES_13  \\\n",
              "0   17.775994     5.270920     0.771761     0.018632     0.006864   \n",
              "1   23.799994     3.325423     0.234185     0.003903     0.003903   \n",
              "2   27.993933    12.687485     4.852282     1.393889     0.373252   \n",
              "3   18.445954     9.118901     3.079428     0.840261     0.272434   \n",
              "4    8.570709     0.410381     0.000000     0.000000     0.000000   \n",
              "\n",
              "   EXUDATES_14  EXUDATES_15  EUCLIDEAN_DIST  OPTIC_DISC_DIAM  AM_FM  CLASS  \n",
              "0     0.003923     0.003923        0.486903         0.100025    1.0      0  \n",
              "1     0.003903     0.003903        0.520908         0.144414    0.0      0  \n",
              "2     0.041817     0.007744        0.530904         0.128548    0.0      1  \n",
              "3     0.007653     0.001531        0.483284         0.114790    0.0      0  \n",
              "4     0.000000     0.000000        0.475935         0.123572    0.0      1  "
            ],
            "text/html": [
              "\n",
              "  <div id=\"df-4ed7846b-a86f-4897-9d36-01eb0372e60c\">\n",
              "    <div class=\"colab-df-container\">\n",
              "      <div>\n",
              "<style scoped>\n",
              "    .dataframe tbody tr th:only-of-type {\n",
              "        vertical-align: middle;\n",
              "    }\n",
              "\n",
              "    .dataframe tbody tr th {\n",
              "        vertical-align: top;\n",
              "    }\n",
              "\n",
              "    .dataframe thead th {\n",
              "        text-align: right;\n",
              "    }\n",
              "</style>\n",
              "<table border=\"1\" class=\"dataframe\">\n",
              "  <thead>\n",
              "    <tr style=\"text-align: right;\">\n",
              "      <th></th>\n",
              "      <th>QUALITY</th>\n",
              "      <th>PRESCREENING</th>\n",
              "      <th>MA_1</th>\n",
              "      <th>MA_2</th>\n",
              "      <th>MA_3</th>\n",
              "      <th>MA_4</th>\n",
              "      <th>MA_5</th>\n",
              "      <th>MA_6</th>\n",
              "      <th>EXUDATES_8</th>\n",
              "      <th>EXUDATES_9</th>\n",
              "      <th>EXUDATES_10</th>\n",
              "      <th>EXUDATES_11</th>\n",
              "      <th>EXUDATES_12</th>\n",
              "      <th>EXUDATES_13</th>\n",
              "      <th>EXUDATES_14</th>\n",
              "      <th>EXUDATES_15</th>\n",
              "      <th>EUCLIDEAN_DIST</th>\n",
              "      <th>OPTIC_DISC_DIAM</th>\n",
              "      <th>AM_FM</th>\n",
              "      <th>CLASS</th>\n",
              "    </tr>\n",
              "  </thead>\n",
              "  <tbody>\n",
              "    <tr>\n",
              "      <th>0</th>\n",
              "      <td>1.0</td>\n",
              "      <td>1.0</td>\n",
              "      <td>22.0</td>\n",
              "      <td>22.0</td>\n",
              "      <td>22.0</td>\n",
              "      <td>19.0</td>\n",
              "      <td>18.0</td>\n",
              "      <td>14.0</td>\n",
              "      <td>49.895756</td>\n",
              "      <td>17.775994</td>\n",
              "      <td>5.270920</td>\n",
              "      <td>0.771761</td>\n",
              "      <td>0.018632</td>\n",
              "      <td>0.006864</td>\n",
              "      <td>0.003923</td>\n",
              "      <td>0.003923</td>\n",
              "      <td>0.486903</td>\n",
              "      <td>0.100025</td>\n",
              "      <td>1.0</td>\n",
              "      <td>0</td>\n",
              "    </tr>\n",
              "    <tr>\n",
              "      <th>1</th>\n",
              "      <td>1.0</td>\n",
              "      <td>1.0</td>\n",
              "      <td>24.0</td>\n",
              "      <td>24.0</td>\n",
              "      <td>22.0</td>\n",
              "      <td>18.0</td>\n",
              "      <td>16.0</td>\n",
              "      <td>13.0</td>\n",
              "      <td>57.709936</td>\n",
              "      <td>23.799994</td>\n",
              "      <td>3.325423</td>\n",
              "      <td>0.234185</td>\n",
              "      <td>0.003903</td>\n",
              "      <td>0.003903</td>\n",
              "      <td>0.003903</td>\n",
              "      <td>0.003903</td>\n",
              "      <td>0.520908</td>\n",
              "      <td>0.144414</td>\n",
              "      <td>0.0</td>\n",
              "      <td>0</td>\n",
              "    </tr>\n",
              "    <tr>\n",
              "      <th>2</th>\n",
              "      <td>1.0</td>\n",
              "      <td>1.0</td>\n",
              "      <td>62.0</td>\n",
              "      <td>60.0</td>\n",
              "      <td>59.0</td>\n",
              "      <td>54.0</td>\n",
              "      <td>47.0</td>\n",
              "      <td>33.0</td>\n",
              "      <td>55.831441</td>\n",
              "      <td>27.993933</td>\n",
              "      <td>12.687485</td>\n",
              "      <td>4.852282</td>\n",
              "      <td>1.393889</td>\n",
              "      <td>0.373252</td>\n",
              "      <td>0.041817</td>\n",
              "      <td>0.007744</td>\n",
              "      <td>0.530904</td>\n",
              "      <td>0.128548</td>\n",
              "      <td>0.0</td>\n",
              "      <td>1</td>\n",
              "    </tr>\n",
              "    <tr>\n",
              "      <th>3</th>\n",
              "      <td>1.0</td>\n",
              "      <td>1.0</td>\n",
              "      <td>55.0</td>\n",
              "      <td>53.0</td>\n",
              "      <td>53.0</td>\n",
              "      <td>50.0</td>\n",
              "      <td>43.0</td>\n",
              "      <td>31.0</td>\n",
              "      <td>40.467228</td>\n",
              "      <td>18.445954</td>\n",
              "      <td>9.118901</td>\n",
              "      <td>3.079428</td>\n",
              "      <td>0.840261</td>\n",
              "      <td>0.272434</td>\n",
              "      <td>0.007653</td>\n",
              "      <td>0.001531</td>\n",
              "      <td>0.483284</td>\n",
              "      <td>0.114790</td>\n",
              "      <td>0.0</td>\n",
              "      <td>0</td>\n",
              "    </tr>\n",
              "    <tr>\n",
              "      <th>4</th>\n",
              "      <td>1.0</td>\n",
              "      <td>1.0</td>\n",
              "      <td>44.0</td>\n",
              "      <td>44.0</td>\n",
              "      <td>44.0</td>\n",
              "      <td>41.0</td>\n",
              "      <td>39.0</td>\n",
              "      <td>27.0</td>\n",
              "      <td>18.026254</td>\n",
              "      <td>8.570709</td>\n",
              "      <td>0.410381</td>\n",
              "      <td>0.000000</td>\n",
              "      <td>0.000000</td>\n",
              "      <td>0.000000</td>\n",
              "      <td>0.000000</td>\n",
              "      <td>0.000000</td>\n",
              "      <td>0.475935</td>\n",
              "      <td>0.123572</td>\n",
              "      <td>0.0</td>\n",
              "      <td>1</td>\n",
              "    </tr>\n",
              "  </tbody>\n",
              "</table>\n",
              "</div>\n",
              "      <button class=\"colab-df-convert\" onclick=\"convertToInteractive('df-4ed7846b-a86f-4897-9d36-01eb0372e60c')\"\n",
              "              title=\"Convert this dataframe to an interactive table.\"\n",
              "              style=\"display:none;\">\n",
              "        \n",
              "  <svg xmlns=\"http://www.w3.org/2000/svg\" height=\"24px\"viewBox=\"0 0 24 24\"\n",
              "       width=\"24px\">\n",
              "    <path d=\"M0 0h24v24H0V0z\" fill=\"none\"/>\n",
              "    <path d=\"M18.56 5.44l.94 2.06.94-2.06 2.06-.94-2.06-.94-.94-2.06-.94 2.06-2.06.94zm-11 1L8.5 8.5l.94-2.06 2.06-.94-2.06-.94L8.5 2.5l-.94 2.06-2.06.94zm10 10l.94 2.06.94-2.06 2.06-.94-2.06-.94-.94-2.06-.94 2.06-2.06.94z\"/><path d=\"M17.41 7.96l-1.37-1.37c-.4-.4-.92-.59-1.43-.59-.52 0-1.04.2-1.43.59L10.3 9.45l-7.72 7.72c-.78.78-.78 2.05 0 2.83L4 21.41c.39.39.9.59 1.41.59.51 0 1.02-.2 1.41-.59l7.78-7.78 2.81-2.81c.8-.78.8-2.07 0-2.86zM5.41 20L4 18.59l7.72-7.72 1.47 1.35L5.41 20z\"/>\n",
              "  </svg>\n",
              "      </button>\n",
              "      \n",
              "  <style>\n",
              "    .colab-df-container {\n",
              "      display:flex;\n",
              "      flex-wrap:wrap;\n",
              "      gap: 12px;\n",
              "    }\n",
              "\n",
              "    .colab-df-convert {\n",
              "      background-color: #E8F0FE;\n",
              "      border: none;\n",
              "      border-radius: 50%;\n",
              "      cursor: pointer;\n",
              "      display: none;\n",
              "      fill: #1967D2;\n",
              "      height: 32px;\n",
              "      padding: 0 0 0 0;\n",
              "      width: 32px;\n",
              "    }\n",
              "\n",
              "    .colab-df-convert:hover {\n",
              "      background-color: #E2EBFA;\n",
              "      box-shadow: 0px 1px 2px rgba(60, 64, 67, 0.3), 0px 1px 3px 1px rgba(60, 64, 67, 0.15);\n",
              "      fill: #174EA6;\n",
              "    }\n",
              "\n",
              "    [theme=dark] .colab-df-convert {\n",
              "      background-color: #3B4455;\n",
              "      fill: #D2E3FC;\n",
              "    }\n",
              "\n",
              "    [theme=dark] .colab-df-convert:hover {\n",
              "      background-color: #434B5C;\n",
              "      box-shadow: 0px 1px 3px 1px rgba(0, 0, 0, 0.15);\n",
              "      filter: drop-shadow(0px 1px 2px rgba(0, 0, 0, 0.3));\n",
              "      fill: #FFFFFF;\n",
              "    }\n",
              "  </style>\n",
              "\n",
              "      <script>\n",
              "        const buttonEl =\n",
              "          document.querySelector('#df-4ed7846b-a86f-4897-9d36-01eb0372e60c button.colab-df-convert');\n",
              "        buttonEl.style.display =\n",
              "          google.colab.kernel.accessAllowed ? 'block' : 'none';\n",
              "\n",
              "        async function convertToInteractive(key) {\n",
              "          const element = document.querySelector('#df-4ed7846b-a86f-4897-9d36-01eb0372e60c');\n",
              "          const dataTable =\n",
              "            await google.colab.kernel.invokeFunction('convertToInteractive',\n",
              "                                                     [key], {});\n",
              "          if (!dataTable) return;\n",
              "\n",
              "          const docLinkHtml = 'Like what you see? Visit the ' +\n",
              "            '<a target=\"_blank\" href=https://colab.research.google.com/notebooks/data_table.ipynb>data table notebook</a>'\n",
              "            + ' to learn more about interactive tables.';\n",
              "          element.innerHTML = '';\n",
              "          dataTable['output_type'] = 'display_data';\n",
              "          await google.colab.output.renderOutput(dataTable, element);\n",
              "          const docLink = document.createElement('div');\n",
              "          docLink.innerHTML = docLinkHtml;\n",
              "          element.appendChild(docLink);\n",
              "        }\n",
              "      </script>\n",
              "    </div>\n",
              "  </div>\n",
              "  "
            ]
          },
          "metadata": {},
          "execution_count": 4
        }
      ],
      "source": [
        "data = arff.loadarff('messidor_features.arff')\n",
        "diabetic = pd.DataFrame(data[0])\n",
        "diabetic.to_csv(index=False)\n",
        "diabetic = diabetic[(diabetic != '?').all(axis=1)]\n",
        "diabetic = diabetic.dropna().reset_index(drop=True)\n",
        "diabetic = diabetic.apply(pd.to_numeric)\n",
        "diabetic.columns = [\"QUALITY\", \"PRESCREENING\", \"MA_1\", \"MA_2\", \"MA_3\", \"MA_4\", \"MA_5\", \"MA_6\",\n",
        "                    \"EXUDATES_8\", \"EXUDATES_9\", \"EXUDATES_10\", \"EXUDATES_11\", \"EXUDATES_12\", \"EXUDATES_13\", \"EXUDATES_14\", \"EXUDATES_15\",\n",
        "                    \"EUCLIDEAN_DIST\", \"OPTIC_DISC_DIAM\", \"AM_FM\", \"CLASS\"]\n",
        "diabetic.head()\n"
      ]
    },
    {
      "cell_type": "code",
      "execution_count": 5,
      "metadata": {
        "colab": {
          "base_uri": "https://localhost:8080/",
          "height": 243
        },
        "id": "jK9BkysEXhiu",
        "outputId": "57b55124-03ad-4f1b-e1a9-13885d8458e0"
      },
      "outputs": [
        {
          "output_type": "display_data",
          "data": {
            "text/plain": [
              "array([[ 1.      ,  1.      , 22.      , ...,  0.486903,  0.100025,\n",
              "         1.      ],\n",
              "       [ 1.      ,  1.      , 24.      , ...,  0.520908,  0.144414,\n",
              "         0.      ],\n",
              "       [ 1.      ,  1.      , 62.      , ...,  0.530904,  0.128548,\n",
              "         0.      ],\n",
              "       ...,\n",
              "       [ 1.      ,  0.      , 49.      , ...,  0.560632,  0.129843,\n",
              "         0.      ],\n",
              "       [ 1.      ,  1.      , 39.      , ...,  0.485972,  0.10669 ,\n",
              "         1.      ],\n",
              "       [ 1.      ,  1.      ,  7.      , ...,  0.556192,  0.088957,\n",
              "         0.      ]])"
            ]
          },
          "metadata": {}
        }
      ],
      "source": [
        "# Messidor features dataset\n",
        "X_diabetic = diabetic.iloc[:,:-1].values # x -> features (0-18)\n",
        "y_diabetic = diabetic.iloc[:,-1].values # y -> class label (19)\n",
        "display(X_diabetic)"
      ]
    },
    {
      "cell_type": "markdown",
      "metadata": {
        "id": "6ANdzFscYe_q"
      },
      "source": [
        "## Task 1.3 : Basic Statistics"
      ]
    },
    {
      "cell_type": "code",
      "execution_count": 6,
      "metadata": {
        "colab": {
          "base_uri": "https://localhost:8080/",
          "height": 248
        },
        "id": "MZ3rmCVO-aXu",
        "outputId": "322cfb97-3380-4a6f-bf98-6cc4048f529c"
      },
      "outputs": [
        {
          "output_type": "display_data",
          "data": {
            "text/plain": [
              "<Figure size 432x288 with 1 Axes>"
            ],
            "image/png": "[encoded data removed]"
          },
          "metadata": {}
        }
      ],
      "source": [
        "# Positive vs. Negative Examples for Hepatitis Dataset\n",
        "\n",
        "hep_died = np.sum(y_hepatitis == 1)/y_hepatitis.shape[0]\n",
        "\n",
        "plt.pie([hep_died, 1-hep_died], labels=['Died', 'Survived'], colors=[\"#47DBCD\", \"#9D2EC5\"], autopct='%1.2f%%')\n",
        "plt.axis('equal')\n",
        "plt.show()"
      ]
    },
    {
      "cell_type": "code",
      "execution_count": 7,
      "metadata": {
        "colab": {
          "base_uri": "https://localhost:8080/",
          "height": 254
        },
        "id": "Wr6i5yNV-oxM",
        "outputId": "d37e763a-0e20-4d9c-a46b-f7c77b0ef30f"
      },
      "outputs": [
        {
          "output_type": "display_data",
          "data": {
            "text/plain": [
              "<Figure size 432x288 with 1 Axes>"
            ],
            "image/png": "[encoded data removed]"
          },
          "metadata": {}
        }
      ],
      "source": [
        "# Positive vs. Negative Examples for Messidor Dataset\n",
        "\n",
        "diab_pos = np.sum(y_diabetic == 1)/y_diabetic.shape[0]\n",
        "\n",
        "plt.pie([diab_pos, 1-diab_pos], labels=['Signs of DR', 'No signs of DR'], colors=[\"#47DBCD\", \"#9D2EC5\"], autopct='%1.2f%%')\n",
        "plt.axis('equal')\n",
        "plt.show()"
      ]
    },
    {
      "cell_type": "code",
      "execution_count": 8,
      "metadata": {
        "colab": {
          "base_uri": "https://localhost:8080/",
          "height": 279
        },
        "id": "f-GluN8U3lSC",
        "outputId": "4877e671-00e7-48b8-8d8c-6a25426c087c"
      },
      "outputs": [
        {
          "output_type": "display_data",
          "data": {
            "text/plain": [
              "<Figure size 432x288 with 1 Axes>"
            ],
            "image/png": "[encoded data removed]"
          },
          "metadata": {
            "needs_background": "light"
          }
        }
      ],
      "source": [
        "# Age vs. Class for Hepatitis Dataset\n",
        "\n",
        "plt.clf()\n",
        "positive_trai = y_hepatitis==1\n",
        "negative_trai = y_hepatitis==2\n",
        "\n",
        "plt.plot(X_hepatitis[positive_trai,0],y_hepatitis[positive_trai],\"or\",label=\"Lethal examples\")\n",
        "plt.plot(X_hepatitis[negative_trai,0],y_hepatitis[negative_trai],\"ob\",label=\"Survivor examples\")\n",
        "\n",
        "plt.xlabel(\"Age\")\n",
        "plt.ylabel(\"Class (Patient Outcome)\")\n",
        "plt.legend(loc='best')\n",
        "plt.show()"
      ]
    },
    {
      "cell_type": "code",
      "execution_count": 9,
      "metadata": {
        "colab": {
          "base_uri": "https://localhost:8080/",
          "height": 279
        },
        "id": "LbGvfRiU5UEw",
        "outputId": "52b2d99f-55ba-4f7b-a219-4c333a05bd71"
      },
      "outputs": [
        {
          "output_type": "display_data",
          "data": {
            "text/plain": [
              "<Figure size 432x288 with 1 Axes>"
            ],
            "image/png": "[encoded data removed]"
          },
          "metadata": {
            "needs_background": "light"
          }
        }
      ],
      "source": [
        "# Exudate Information (at Confidence Level alpha=1) vs. Class for Messidor Dataset\n",
        "\n",
        "plt.clf()\n",
        "positive_trai = y_diabetic==1\n",
        "negative_trai = y_diabetic==0\n",
        "\n",
        "plt.plot(X_diabetic[positive_trai, 15],y_diabetic[positive_trai],\"or\",label=\"Positive diabetic examples\")\n",
        "plt.plot(X_diabetic[negative_trai, 15],y_diabetic[negative_trai],\"ob\",label=\"Negative diabetic examples\")\n",
        "\n",
        "plt.xlabel(\"Exudate Information\")\n",
        "plt.ylabel(\"Class (Signs of DR)\")\n",
        "plt.legend(loc='best')\n",
        "plt.show()"
      ]
    },
    {
      "cell_type": "markdown",
      "metadata": {
        "id": "49Pz3ndleF98"
      },
      "source": [
        "## Task 2.1 : K-Nearest Neighbour\n"
      ]
    },
    {
      "cell_type": "code",
      "execution_count": 10,
      "metadata": {
        "id": "3K1PZj3Ibc4e"
      },
      "outputs": [],
      "source": [
        "# Modified class collab KNN implemetation \n",
        "euclidean = lambda x1, x2: np.sqrt(np.sum((x1 - x2)**2, axis=-1)) # Euclidean Distance Function\n",
        "\n",
        "class KNN:\n",
        "\n",
        "    def __init__(self, K=1, dist_fn= euclidean):\n",
        "        self.dist_fn = dist_fn\n",
        "        self.K = K\n",
        "        return\n",
        "    \n",
        "    def fit(self, x, y):\n",
        "        ''' Store the training data using this method as it is a lazy learner'''\n",
        "        self.x = x\n",
        "        self.y = y\n",
        "        self.C = np.max(y) + 1\n",
        "        return self\n",
        "    \n",
        "    def predict(self, x_test):\n",
        "        ''' Makes a prediction using the stored training data and the test data given as argument'''\n",
        "        num_test = x_test.shape[0]\n",
        "        distances = self.dist_fn(self.x[None,:,:], x_test[:,None,:])\n",
        "        #ith-row of knns stores the indices of k closest training samples to the ith-test sample \n",
        "        knns = np.zeros((num_test, self.K), dtype=int)\n",
        "        #ith-row of y_prob has the probability distribution over C classes\n",
        "        y_prob = np.zeros((num_test, self.C))\n",
        "        for i in range(num_test):\n",
        "            knns[i,:] = np.argsort(distances[i])[:self.K]\n",
        "            y_prob[i,:] = np.bincount(self.y[knns[i,:]], minlength=self.C) #counts the number of instances of each class in the K-closest training samples\n",
        "        #simply divide by K to get a probability distribution\n",
        "        y_prob /= self.K\n",
        "        return y_prob, knns\n",
        "\n",
        "    # # Evaluating prediction accuracy on true and target labels\n",
        "    def evaluate_acc(self, X_train, y_train, X_test, y_test):\n",
        "        #test accuracy\n",
        "        y_test_prob, knns = self.fit(X_train, y_train).predict(X_test)\n",
        "        y_test_pred = np.argmax(y_test_prob, axis=-1)\n",
        "        test_acc = np.sum(y_test_pred == y_test)/y_test.shape[0]\n",
        "\n",
        "        #train accuracy  \n",
        "        y_train_prob, knns = self.fit(X_train, y_train).predict(X_train)\n",
        "        y_train_pred = np.argmax(y_train_prob, axis=-1)\n",
        "        train_acc = np.sum(y_train_pred==y_train)/y_train.shape[0]\n",
        "\n",
        "        return train_acc, test_acc"
      ]
    },
    {
      "cell_type": "markdown",
      "metadata": {
        "id": "Tjs968GeEGAF"
      },
      "source": [
        "## Task 2.2 : Decision Trees"
      ]
    },
    {
      "cell_type": "code",
      "execution_count": 33,
      "metadata": {
        "id": "0yi90bBsHrSf"
      },
      "outputs": [],
      "source": [
        "class Node:\n",
        "  def __init__(self, indices, parent):\n",
        "    self.indices = indices\n",
        "    self.left = None\n",
        "    self.right = None\n",
        "    self.feature = None\n",
        "    self.threshold = None\n",
        "\n",
        "    if parent:\n",
        "      self.data = parent.data\n",
        "      self.depth = parent.depth + 1\n",
        "      self.labels = parent.labels                                          # eg. [0, 1, 0, 0, ..., 1, 0]\n",
        "      class_count = np.bincount(self.labels[indices], minlength=3)         # eg. [35, 55]\n",
        "      self.class_probs = class_count / np.sum(class_count)                 # eg. [35/90, 55/90]"
      ]
    },
    {
      "cell_type": "code",
      "execution_count": 34,
      "metadata": {
        "id": "fnJURiQNNvqW"
      },
      "outputs": [],
      "source": [
        "def misclassification_cost(labels):\n",
        "  class_probs = np.bincount(labels) / len(labels)\n",
        "  return min(class_probs)\n",
        "\n",
        "def entropy_cost(labels):\n",
        "  class_probs = np.bincount(labels) / len(labels)\n",
        "  class_probs = class_probs[class_probs > 0]\n",
        "  return -np.sum(class_probs * np.log2(class_probs))\n",
        "\n",
        "def gini_cost(labels):\n",
        "  class_probs = np.bincount(labels) / len(labels)\n",
        "  return 1 - np.sum(np.square(class_probs))\n"
      ]
    },
    {
      "cell_type": "code",
      "execution_count": 35,
      "metadata": {
        "id": "8YgodpzeRBc2"
      },
      "outputs": [],
      "source": [
        "def greedy(node, cost_fn):\n",
        "  best_cost = np.inf\n",
        "  best_feature, best_value = None, None\n",
        "  num_instances, num_features = node.data.shape\n",
        "\n",
        "  data_sorted = np.sort(node.data[node.indices], axis=0)\n",
        "  candidates = (data_sorted[1:] + data_sorted[:-1]) / 2\n",
        "\n",
        "  for d in range(num_features):\n",
        "    data_d = node.data[node.indices, d]\n",
        "    for test in candidates[:,d]:\n",
        "      left_indices = node.indices[data_d <= test]\n",
        "      right_indices = node.indices[data_d > test]\n",
        "\n",
        "      if len(left_indices) == 0 or len(right_indices) == 0:                \n",
        "        continue\n",
        "\n",
        "      left_cost = cost_fn(node.labels[left_indices])\n",
        "      right_cost = cost_fn(node.labels[right_indices])\n",
        "      num_left, num_right = left_indices.shape[0], right_indices.shape[0]\n",
        "      cost = (num_left * left_cost + num_right * right_cost)/num_instances\n",
        "\n",
        "      if cost < best_cost:\n",
        "        best_cost = cost\n",
        "        best_feature = d\n",
        "        best_value = test\n",
        "\n",
        "  return best_cost, best_feature, best_value "
      ]
    },
    {
      "cell_type": "code",
      "execution_count": 36,
      "metadata": {
        "id": "Ir7axbExYL1R"
      },
      "outputs": [],
      "source": [
        "class DecisionTree:\n",
        "  def __init__(self, max_depth=3, min_leaf_instances=1, cost_fn=misclassification_cost):\n",
        "    self.max_depth = max_depth\n",
        "    self.root = None\n",
        "    self.num_classes = 2\n",
        "    self.min_leaf_instances = min_leaf_instances\n",
        "    self.cost_fn = cost_fn\n",
        "\n",
        "  def fit(self, data, labels):\n",
        "    self.data = data\n",
        "    self.labels = labels\n",
        "    self.root = Node(np.arange(data.shape[0]), None)\n",
        "    self.root.data = data\n",
        "    self.root.labels = labels\n",
        "    self.root.depth = 0\n",
        "    self._fit_tree(self.root)\n",
        "    return self\n",
        "\n",
        "  def _fit_tree(self, node):\n",
        "    if node.depth == self.max_depth or len(node.indices) <= self.min_leaf_instances:\n",
        "      return\n",
        "\n",
        "    cost, split_feature, split_value = greedy(node, self.cost_fn)\n",
        "    if np.isinf(cost): \n",
        "      return\n",
        "    \n",
        "    test = node.data[node.indices,split_feature] <= split_value\n",
        "    node.feature = split_feature\n",
        "    node.threshold = split_value\n",
        "  \n",
        "    left = Node(node.indices[test], node)\n",
        "    right = Node(node.indices[np.logical_not(test)], node)\n",
        "\n",
        "    self._fit_tree(left)\n",
        "    self._fit_tree(right)\n",
        "\n",
        "    node.left = left\n",
        "    node.right = right\n",
        "\n",
        "  def predict(self, data_test):\n",
        "    class_probs = np.zeros((data_test.shape[0], 3))\n",
        "    for n, x in enumerate(data_test):\n",
        "      node = self.root\n",
        "      while node.left:\n",
        "        if x[node.feature] <= node.threshold:\n",
        "          node = node.left\n",
        "        else:\n",
        "          node = node.right\n",
        "      class_probs[n,:] = node.class_probs\n",
        "    return class_probs\n",
        "\n",
        "  def evaluate_acc(self, X_train, y_train, X_test, y_test):\n",
        "    #train accuracy  \n",
        "    y_train_prob = self.fit(X_train, y_train).predict(X_train)\n",
        "    y_train_pred = np.argmax(y_train_prob, axis=-1)\n",
        "    train_acc = np.sum(y_train_pred==y_train)/y_train.shape[0]\n",
        "\n",
        "    #test accuracy\n",
        "    y_test_prob = self.fit(X_train, y_train).predict(X_test)\n",
        "    y_test_pred = np.argmax(y_test_prob, axis=-1)\n",
        "    test_acc = np.sum(y_test_pred == y_test)/y_test.shape[0]\n",
        "\n",
        "    return train_acc, test_acc"
      ]
    },
    {
      "cell_type": "markdown",
      "metadata": {
        "id": "gyPjYUR5Z1mM"
      },
      "source": [
        "## Task 3.1 : Hepatitis Experiments"
      ]
    },
    {
      "cell_type": "code",
      "execution_count": 60,
      "metadata": {
        "colab": {
          "base_uri": "https://localhost:8080/"
        },
        "id": "9ThchqhOEnkG",
        "outputId": "c19c4136-6ab7-43a0-d6b9-1ed63e31faf6"
      },
      "outputs": [
        {
          "output_type": "stream",
          "name": "stdout",
          "text": [
            "Total Number of rows in train: 64\n",
            "Total Number of rows in test: 16\n"
          ]
        }
      ],
      "source": [
        "# Split Training and Testing with sklearn\n",
        "X_train, X_test, y_train, y_test = train_test_split(X_hepatitis, y_hepatitis, test_size = 0.2, random_state=1, shuffle=True)\n",
        "print(\"Total Number of rows in train:\",X_train.shape[0])\n",
        "print(\"Total Number of rows in test:\",X_test.shape[0])"
      ]
    },
    {
      "cell_type": "code",
      "execution_count": 61,
      "metadata": {
        "colab": {
          "base_uri": "https://localhost:8080/"
        },
        "id": "vEuV7O1LeFDZ",
        "outputId": "be692d72-7229-4f08-b3b2-3b44b85a31f0"
      },
      "outputs": [
        {
          "output_type": "stream",
          "name": "stdout",
          "text": [
            "Training Accuracy for K=5: 0.84375\n",
            "Testing Accuracy for K=5: 0.75\n"
          ]
        }
      ],
      "source": [
        "# KNN on Hepatitis Dataset with K = 5\n",
        "\n",
        "model = KNN(5, dist_fn = euclidean)\n",
        "train_acc, test_acc = model.evaluate_acc(X_train, y_train, X_test, y_test)\n",
        "\n",
        "print(f'Training Accuracy for K=5: {train_acc}')\n",
        "print(f'Testing Accuracy for K=5: {test_acc}')"
      ]
    },
    {
      "cell_type": "code",
      "execution_count": 62,
      "metadata": {
        "colab": {
          "base_uri": "https://localhost:8080/"
        },
        "id": "TLscNvi8uEdr",
        "outputId": "a896c28b-f283-4d9d-fe5b-8ce73ed28cc2"
      },
      "outputs": [
        {
          "output_type": "stream",
          "name": "stdout",
          "text": [
            "Training Accuracy for max_depth=10: 1.0\n",
            "Testing Accuracy for max_depth=10: 0.75\n"
          ]
        }
      ],
      "source": [
        "# DT on Hepatitis Dataset with max_depth = 10\n",
        "\n",
        "tree = DecisionTree(max_depth=10, cost_fn=entropy_cost)\n",
        "train_acc, test_acc = tree.evaluate_acc(X_train, y_train, X_test, y_test)\n",
        "\n",
        "print(f'Training Accuracy for max_depth=10: {train_acc}')\n",
        "print(f'Testing Accuracy for max_depth=10: {test_acc}')"
      ]
    },
    {
      "cell_type": "code",
      "execution_count": 63,
      "metadata": {
        "colab": {
          "base_uri": "https://localhost:8080/",
          "height": 296
        },
        "id": "cI3m_jax3iXM",
        "outputId": "38ddc0d7-6fee-49d7-f1d0-bd4650191cde"
      },
      "outputs": [
        {
          "output_type": "stream",
          "name": "stdout",
          "text": [
            "best K = 9, train accuracy = 0.828125, test accuracy = 0.875\n"
          ]
        },
        {
          "output_type": "display_data",
          "data": {
            "text/plain": [
              "<Figure size 432x288 with 1 Axes>"
            ],
            "image/png": "[encoded data removed]"
          },
          "metadata": {
            "needs_background": "light"
          }
        }
      ],
      "source": [
        "def best_k(X_train, y_train, X_test, y_test):\n",
        "    model_choices=[]\n",
        "    train_accs = []\n",
        "    test_accs = []\n",
        "\n",
        "    # Iterate through loop to find best K value\n",
        "    for k in range(1,30):\n",
        "        knn = KNN(K=k) \n",
        "        model_choices.append(k)\n",
        "        train_acc, test_acc = knn.evaluate_acc(X_train, y_train, X_test, y_test)\n",
        "        train_accs.append(train_acc)\n",
        "        test_accs.append(test_acc)\n",
        "\n",
        "    best_valid_K = model_choices[test_accs.index(max(test_accs))]\n",
        "\n",
        "    return (model_choices, best_valid_K, train_accs, test_accs)\n",
        "\n",
        "model_choices, best_valid_K, train_accs, test_accs = best_k(X_train, y_train, X_test, y_test)\n",
        "print(f'best K = {best_valid_K}, train accuracy = {train_accs[best_valid_K-1]}, test accuracy = {test_accs[best_valid_K-1]}')\n",
        "plt.plot(model_choices, train_accs, color='#F3A0F2', label='training')\n",
        "plt.plot(model_choices, test_accs, color='#47DBCD', label='testing')\n",
        "plt.xlabel(\"K\")\n",
        "plt.ylabel(\"Accuracy\")\n",
        "plt.legend(loc='best')\n",
        "plt.show()"
      ]
    },
    {
      "cell_type": "code",
      "execution_count": 64,
      "metadata": {
        "colab": {
          "base_uri": "https://localhost:8080/",
          "height": 296
        },
        "id": "1YYHeQEkVVIh",
        "outputId": "acfb2969-0619-4186-b568-0486a4e2fe83"
      },
      "outputs": [
        {
          "output_type": "stream",
          "name": "stdout",
          "text": [
            "best d = 3, train accuracy = 0.96875, test accuracy = 0.8125\n"
          ]
        },
        {
          "output_type": "display_data",
          "data": {
            "text/plain": [
              "<Figure size 432x288 with 1 Axes>"
            ],
            "image/png": "[encoded data removed]"
          },
          "metadata": {
            "needs_background": "light"
          }
        }
      ],
      "source": [
        "def best_depth(X_train, y_train, X_test, y_test):\n",
        "  model_choices=[]\n",
        "  train_accs = []\n",
        "  test_accs = []\n",
        "\n",
        "  # Iterate through loop to find best depth value\n",
        "  for d in range(1,20):\n",
        "      tree = DecisionTree(max_depth=d, cost_fn=gini_cost) \n",
        "      model_choices.append(d)\n",
        "      train_acc, test_acc = tree.evaluate_acc(X_train, y_train, X_test, y_test)\n",
        "      train_accs.append(train_acc)\n",
        "      test_accs.append(test_acc)\n",
        "\n",
        "  best_valid_d = model_choices[test_accs.index(max(test_accs))]\n",
        "\n",
        "  return (model_choices, best_valid_d, train_accs, test_accs)\n",
        "\n",
        "model_choices, best_valid_d, train_accs, test_accs = best_depth(X_train, y_train, X_test, y_test)\n",
        "print(f'best d = {best_valid_d}, train accuracy = {train_accs[best_valid_d-1]}, test accuracy = {test_accs[best_valid_d-1]}')\n",
        "plt.plot(model_choices, train_accs, color='#F3A0F2', label='training')\n",
        "plt.plot(model_choices, test_accs, color='#47DBCD', label='testing')\n",
        "plt.xlabel(\"d\")\n",
        "plt.ylabel(\"Accuracy\")\n",
        "plt.legend(loc='best')\n",
        "plt.show()"
      ]
    },
    {
      "cell_type": "markdown",
      "metadata": {
        "id": "Wdey0kJG3gf4"
      },
      "source": [
        "to be put in still:"
      ]
    },
    {
      "cell_type": "code",
      "execution_count": null,
      "metadata": {
        "colab": {
          "base_uri": "https://localhost:8080/",
          "height": 279
        },
        "id": "55UlHZ3J46li",
        "outputId": "f15c3e85-7b62-415f-d2cd-916d98ff41a5"
      },
      "outputs": [
        {
          "data": {
            "image/png": "[encoded data removed]",
            "text/plain": [
              "<Figure size 432x288 with 1 Axes>"
            ]
          },
          "metadata": {},
          "output_type": "display_data"
        }
      ],
      "source": [
        "# Hepatitis KNN Plotting\n",
        "K = 5\n",
        "model = KNN(K, dist_fn = euclidean)\n",
        "y_prob, knns = model.fit(X_train, y_train).predict(X_test)\n",
        "y_pred = np.argmax(y_prob, axis=-1)\n",
        "correct = y_test == y_pred\n",
        "incorrect = np.logical_not(correct)\n",
        "\n",
        "#visualization of the points\n",
        "plt.scatter(X_train[:,0], y_train, c=y_train, marker='o', alpha=.2, label='Train')\n",
        "plt.scatter(X_test[correct,0], y_test[correct], marker='.', c=y_pred[correct], label='Correct')\n",
        "plt.scatter(X_test[incorrect,0], y_test[incorrect], marker='x', c=y_test[incorrect], label='Misclassified')\n",
        "\n",
        "plt.xlabel(\"Attributes\")\n",
        "plt.ylabel(\"Class\")\n",
        "plt.legend(loc='best')\n",
        "plt.show()"
      ]
    },
    {
      "cell_type": "code",
      "execution_count": null,
      "metadata": {
        "colab": {
          "base_uri": "https://localhost:8080/",
          "height": 235
        },
        "id": "_Wny1y6vsId6",
        "outputId": "a0249545-2518-41b2-a452-7c6e1f5ecc4e"
      },
      "outputs": [
        {
          "ename": "NameError",
          "evalue": "ignored",
          "output_type": "error",
          "traceback": [
            "\u001b[0;31m---------------------------------------------------------------------------\u001b[0m",
            "\u001b[0;31mNameError\u001b[0m                                 Traceback (most recent call last)",
            "\u001b[0;32m<ipython-input-13-05b3ab673909>\u001b[0m in \u001b[0;36m<module>\u001b[0;34m\u001b[0m\n\u001b[1;32m      1\u001b[0m \u001b[0mtree\u001b[0m \u001b[0;34m=\u001b[0m \u001b[0mDecisionTree\u001b[0m\u001b[0;34m(\u001b[0m\u001b[0mmax_depth\u001b[0m\u001b[0;34m=\u001b[0m\u001b[0;36m20\u001b[0m\u001b[0;34m,\u001b[0m \u001b[0mcost_fn\u001b[0m\u001b[0;34m=\u001b[0m\u001b[0mgini_cost\u001b[0m\u001b[0;34m)\u001b[0m\u001b[0;34m\u001b[0m\u001b[0;34m\u001b[0m\u001b[0m\n\u001b[1;32m      2\u001b[0m \u001b[0;34m\u001b[0m\u001b[0m\n\u001b[0;32m----> 3\u001b[0;31m \u001b[0mcorrect\u001b[0m \u001b[0;34m=\u001b[0m \u001b[0my_test\u001b[0m \u001b[0;34m==\u001b[0m \u001b[0my_pred\u001b[0m\u001b[0;34m\u001b[0m\u001b[0;34m\u001b[0m\u001b[0m\n\u001b[0m\u001b[1;32m      4\u001b[0m \u001b[0mincorrect\u001b[0m \u001b[0;34m=\u001b[0m \u001b[0mnp\u001b[0m\u001b[0;34m.\u001b[0m\u001b[0mlogical_not\u001b[0m\u001b[0;34m(\u001b[0m\u001b[0mcorrect\u001b[0m\u001b[0;34m)\u001b[0m\u001b[0;34m\u001b[0m\u001b[0;34m\u001b[0m\u001b[0m\n\u001b[1;32m      5\u001b[0m \u001b[0mplt\u001b[0m\u001b[0;34m.\u001b[0m\u001b[0mscatter\u001b[0m\u001b[0;34m(\u001b[0m\u001b[0mX_train\u001b[0m\u001b[0;34m[\u001b[0m\u001b[0;34m:\u001b[0m\u001b[0;34m,\u001b[0m\u001b[0;36m17\u001b[0m\u001b[0;34m]\u001b[0m\u001b[0;34m,\u001b[0m \u001b[0mX_train\u001b[0m\u001b[0;34m[\u001b[0m\u001b[0;34m:\u001b[0m\u001b[0;34m,\u001b[0m\u001b[0;36m14\u001b[0m\u001b[0;34m]\u001b[0m\u001b[0;34m,\u001b[0m \u001b[0mc\u001b[0m\u001b[0;34m=\u001b[0m\u001b[0my_train\u001b[0m\u001b[0;34m,\u001b[0m \u001b[0mmarker\u001b[0m\u001b[0;34m=\u001b[0m\u001b[0;34m'o'\u001b[0m\u001b[0;34m,\u001b[0m \u001b[0malpha\u001b[0m\u001b[0;34m=\u001b[0m\u001b[0;36m.2\u001b[0m\u001b[0;34m,\u001b[0m \u001b[0mlabel\u001b[0m\u001b[0;34m=\u001b[0m\u001b[0;34m'train'\u001b[0m\u001b[0;34m)\u001b[0m\u001b[0;34m\u001b[0m\u001b[0;34m\u001b[0m\u001b[0m\n",
            "\u001b[0;31mNameError\u001b[0m: name 'y_pred' is not defined"
          ]
        }
      ],
      "source": [
        "tree = DecisionTree(max_depth=20, cost_fn=gini_cost)\n",
        "\n",
        "correct = y_test == y_pred\n",
        "incorrect = np.logical_not(correct)\n",
        "plt.scatter(X_train[:,17], X_train[:,14], c=y_train, marker='o', alpha=.2, label='train')\n",
        "plt.scatter(X_test[correct,17], X_test[correct,14], marker='.', c=y_pred[correct], label='correct')\n",
        "plt.scatter(X_test[incorrect,17], X_test[incorrect,14], marker='x', c=y_test[incorrect], label='misclassified')\n",
        "plt.legend()\n",
        "plt.show()"
      ]
    },
    {
      "cell_type": "code",
      "execution_count": null,
      "metadata": {
        "colab": {
          "base_uri": "https://localhost:8080/"
        },
        "id": "K7tc4dtcruh8",
        "outputId": "09bfb6e0-953e-4218-9b93-9e9efc7c49cf"
      },
      "outputs": [
        {
          "data": {
            "text/plain": [
              "0.75"
            ]
          },
          "execution_count": 14,
          "metadata": {},
          "output_type": "execute_result"
        }
      ],
      "source": [
        "tree.evaluate_acc(X_train, y_train, X_test, y_test)"
      ]
    },
    {
      "cell_type": "markdown",
      "metadata": {
        "id": "hGlE3DV3rzgM"
      },
      "source": [
        "**Using Decision Trees:**"
      ]
    },
    {
      "cell_type": "markdown",
      "metadata": {
        "id": "oKUUPH_JaZTZ"
      },
      "source": [
        "## Task 3.2 : Testing K values\n",
        "\n",
        "Split the training data into 50% training data and 50% validation data.\n",
        "The run the KNN through a loop to find the best K value."
      ]
    },
    {
      "cell_type": "markdown",
      "metadata": {
        "id": "kwXW9S5I2rRK"
      },
      "source": [
        "## Task 3.3 : Maximum Tree Depth"
      ]
    },
    {
      "cell_type": "markdown",
      "metadata": {
        "id": "zSgmlIme2rZ_"
      },
      "source": [
        "## Task 3.4 : Testing Distance and Cost Functions"
      ]
    },
    {
      "cell_type": "code",
      "execution_count": null,
      "metadata": {
        "colab": {
          "base_uri": "https://localhost:8080/"
        },
        "id": "E-jhEhwHF_EG",
        "outputId": "756ba9d2-e878-4af5-b4b3-aa4be5834313"
      },
      "outputs": [
        {
          "name": "stdout",
          "output_type": "stream",
          "text": [
            "Manhattan Training Accuracy for K=1: 1.0\n",
            "Manhattan Testing Accuracy for K=1: 0.5\n",
            "Manhattan Training Accuracy for K=9: 0.828125\n",
            "Manhattan Testing Accuracy for K=9: 0.875\n",
            "Euclidean Training Accuracy for K=9: 0.828125\n",
            "Euclidean Testing Accuracy for K=9: 0.875\n"
          ]
        }
      ],
      "source": [
        "# Testing accuracy for Manhattan Distance Function\n",
        "manhattan = lambda x1, x2: np.sum(np.abs(x1 - x2), axis=-1)\n",
        "\n",
        "model = KNN(K=1, dist_fn = manhattan)\n",
        "y_prob, knns = model.fit(X_train, y_train).predict(X_test)\n",
        "test_acc,train_acc = model.evaluate_acc(X_test,y_test,y_train, X_train)\n",
        "\n",
        "print(f'Manhattan Training Accuracy for K=1: {train_acc}')\n",
        "print(f'Manhattan Testing Accuracy for K=1: {test_acc}')\n",
        "\n",
        "model = KNN(K=9, dist_fn = manhattan) # best k is 9\n",
        "y_prob, knns = model.fit(X_train, y_train).predict(X_test)\n",
        "test_acc,train_acc = model.evaluate_acc(X_test,y_test,y_train, X_train)\n",
        "\n",
        "print(f'Manhattan Training Accuracy for K=9: {train_acc}')\n",
        "print(f'Manhattan Testing Accuracy for K=9: {test_acc}')\n",
        "\n",
        "# Testing accuracy for Euclidean Distance Function\n",
        "\n",
        "model = KNN(K=9,dist_fn=euclidean) # best k is 9\n",
        "y_prob, knns = model.fit(X_train, y_train).predict(X_test)\n",
        "test_acc,train_acc = model.evaluate_acc(X_test,y_test,y_train, X_train)\n",
        "\n",
        "print(f'Euclidean Training Accuracy for K=9: {train_acc}')\n",
        "print(f'Euclidean Testing Accuracy for K=9: {test_acc}')\n"
      ]
    },
    {
      "cell_type": "markdown",
      "metadata": {
        "id": "Mqt3SkLX2rnF"
      },
      "source": [
        "## Task 3.5 : Decision Boundary Plots"
      ]
    },
    {
      "cell_type": "code",
      "execution_count": null,
      "metadata": {
        "colab": {
          "base_uri": "https://localhost:8080/",
          "height": 381
        },
        "id": "qF94dzm76t9j",
        "outputId": "97d7f6d6-26af-4092-d94f-7a90db34e0fb"
      },
      "outputs": [
        {
          "ename": "ValueError",
          "evalue": "ignored",
          "output_type": "error",
          "traceback": [
            "\u001b[0;31m---------------------------------------------------------------------------\u001b[0m",
            "\u001b[0;31mValueError\u001b[0m                                Traceback (most recent call last)",
            "\u001b[0;32m<ipython-input-174-ea63da7b1fc3>\u001b[0m in \u001b[0;36m<module>\u001b[0;34m\u001b[0m\n\u001b[1;32m     19\u001b[0m \u001b[0mmodel\u001b[0m\u001b[0;34m.\u001b[0m\u001b[0mfit\u001b[0m\u001b[0;34m(\u001b[0m\u001b[0mX\u001b[0m\u001b[0;34m,\u001b[0m \u001b[0my\u001b[0m\u001b[0;34m)\u001b[0m\u001b[0;34m\u001b[0m\u001b[0;34m\u001b[0m\u001b[0m\n\u001b[1;32m     20\u001b[0m \u001b[0;31m# make predictions for the grid\u001b[0m\u001b[0;34m\u001b[0m\u001b[0;34m\u001b[0m\u001b[0;34m\u001b[0m\u001b[0m\n\u001b[0;32m---> 21\u001b[0;31m \u001b[0myhat\u001b[0m \u001b[0;34m=\u001b[0m \u001b[0mmodel\u001b[0m\u001b[0;34m.\u001b[0m\u001b[0mpredict\u001b[0m\u001b[0;34m(\u001b[0m\u001b[0mgrid\u001b[0m\u001b[0;34m)\u001b[0m\u001b[0;34m\u001b[0m\u001b[0;34m\u001b[0m\u001b[0m\n\u001b[0m\u001b[1;32m     22\u001b[0m \u001b[0;31m# reshape the predictions back into a grid\u001b[0m\u001b[0;34m\u001b[0m\u001b[0;34m\u001b[0m\u001b[0;34m\u001b[0m\u001b[0m\n\u001b[1;32m     23\u001b[0m \u001b[0mzz\u001b[0m \u001b[0;34m=\u001b[0m \u001b[0myhat\u001b[0m\u001b[0;34m.\u001b[0m\u001b[0mreshape\u001b[0m\u001b[0;34m(\u001b[0m\u001b[0mxx\u001b[0m\u001b[0;34m.\u001b[0m\u001b[0mshape\u001b[0m\u001b[0;34m)\u001b[0m\u001b[0;34m\u001b[0m\u001b[0;34m\u001b[0m\u001b[0m\n",
            "\u001b[0;32m<ipython-input-165-ee251cd1eb6a>\u001b[0m in \u001b[0;36mpredict\u001b[0;34m(self, x_test)\u001b[0m\n\u001b[1;32m     19\u001b[0m         \u001b[0;34m''' Makes a prediction using the stored training data and the test data given as argument'''\u001b[0m\u001b[0;34m\u001b[0m\u001b[0;34m\u001b[0m\u001b[0m\n\u001b[1;32m     20\u001b[0m         \u001b[0mnum_test\u001b[0m \u001b[0;34m=\u001b[0m \u001b[0mx_test\u001b[0m\u001b[0;34m.\u001b[0m\u001b[0mshape\u001b[0m\u001b[0;34m[\u001b[0m\u001b[0;36m0\u001b[0m\u001b[0;34m]\u001b[0m\u001b[0;34m\u001b[0m\u001b[0;34m\u001b[0m\u001b[0m\n\u001b[0;32m---> 21\u001b[0;31m         \u001b[0mdistances\u001b[0m \u001b[0;34m=\u001b[0m \u001b[0mself\u001b[0m\u001b[0;34m.\u001b[0m\u001b[0mdist_fn\u001b[0m\u001b[0;34m(\u001b[0m\u001b[0mself\u001b[0m\u001b[0;34m.\u001b[0m\u001b[0mx\u001b[0m\u001b[0;34m[\u001b[0m\u001b[0;32mNone\u001b[0m\u001b[0;34m,\u001b[0m\u001b[0;34m:\u001b[0m\u001b[0;34m,\u001b[0m\u001b[0;34m:\u001b[0m\u001b[0;34m]\u001b[0m\u001b[0;34m,\u001b[0m \u001b[0mx_test\u001b[0m\u001b[0;34m[\u001b[0m\u001b[0;34m:\u001b[0m\u001b[0;34m,\u001b[0m\u001b[0;32mNone\u001b[0m\u001b[0;34m,\u001b[0m\u001b[0;34m:\u001b[0m\u001b[0;34m]\u001b[0m\u001b[0;34m)\u001b[0m\u001b[0;34m\u001b[0m\u001b[0;34m\u001b[0m\u001b[0m\n\u001b[0m\u001b[1;32m     22\u001b[0m         \u001b[0;31m#ith-row of knns stores the indices of k closest training samples to the ith-test sample\u001b[0m\u001b[0;34m\u001b[0m\u001b[0;34m\u001b[0m\u001b[0;34m\u001b[0m\u001b[0m\n\u001b[1;32m     23\u001b[0m         \u001b[0mknns\u001b[0m \u001b[0;34m=\u001b[0m \u001b[0mnp\u001b[0m\u001b[0;34m.\u001b[0m\u001b[0mzeros\u001b[0m\u001b[0;34m(\u001b[0m\u001b[0;34m(\u001b[0m\u001b[0mnum_test\u001b[0m\u001b[0;34m,\u001b[0m \u001b[0mself\u001b[0m\u001b[0;34m.\u001b[0m\u001b[0mK\u001b[0m\u001b[0;34m)\u001b[0m\u001b[0;34m,\u001b[0m \u001b[0mdtype\u001b[0m\u001b[0;34m=\u001b[0m\u001b[0mint\u001b[0m\u001b[0;34m)\u001b[0m\u001b[0;34m\u001b[0m\u001b[0;34m\u001b[0m\u001b[0m\n",
            "\u001b[0;32m<ipython-input-165-ee251cd1eb6a>\u001b[0m in \u001b[0;36m<lambda>\u001b[0;34m(x1, x2)\u001b[0m\n\u001b[1;32m      1\u001b[0m \u001b[0;31m# Modified class collab KNN implemetation\u001b[0m\u001b[0;34m\u001b[0m\u001b[0;34m\u001b[0m\u001b[0;34m\u001b[0m\u001b[0m\n\u001b[0;32m----> 2\u001b[0;31m \u001b[0meuclidean\u001b[0m \u001b[0;34m=\u001b[0m \u001b[0;32mlambda\u001b[0m \u001b[0mx1\u001b[0m\u001b[0;34m,\u001b[0m \u001b[0mx2\u001b[0m\u001b[0;34m:\u001b[0m \u001b[0mnp\u001b[0m\u001b[0;34m.\u001b[0m\u001b[0msqrt\u001b[0m\u001b[0;34m(\u001b[0m\u001b[0mnp\u001b[0m\u001b[0;34m.\u001b[0m\u001b[0msum\u001b[0m\u001b[0;34m(\u001b[0m\u001b[0;34m(\u001b[0m\u001b[0mx1\u001b[0m \u001b[0;34m-\u001b[0m \u001b[0mx2\u001b[0m\u001b[0;34m)\u001b[0m\u001b[0;34m**\u001b[0m\u001b[0;36m2\u001b[0m\u001b[0;34m,\u001b[0m \u001b[0maxis\u001b[0m\u001b[0;34m=\u001b[0m\u001b[0;34m-\u001b[0m\u001b[0;36m1\u001b[0m\u001b[0;34m)\u001b[0m\u001b[0;34m)\u001b[0m \u001b[0;31m# Euclidean Distance Function\u001b[0m\u001b[0;34m\u001b[0m\u001b[0;34m\u001b[0m\u001b[0m\n\u001b[0m\u001b[1;32m      3\u001b[0m \u001b[0;34m\u001b[0m\u001b[0m\n\u001b[1;32m      4\u001b[0m \u001b[0;32mclass\u001b[0m \u001b[0mKNN\u001b[0m\u001b[0;34m:\u001b[0m\u001b[0;34m\u001b[0m\u001b[0;34m\u001b[0m\u001b[0m\n\u001b[1;32m      5\u001b[0m \u001b[0;34m\u001b[0m\u001b[0m\n",
            "\u001b[0;31mValueError\u001b[0m: operands could not be broadcast together with shapes (1,80,20) (16200,1,2) "
          ]
        }
      ],
      "source": [
        "from sklearn.datasets import make_blobs\n",
        "from sklearn.linear_model import LogisticRegression\n",
        "\n",
        "\n",
        "# define bounds of the domain\n",
        "min1, max1 = X[:, 0].min()-1, X[:, 0].max()+1\n",
        "min2, max2 = X[:, 1].min()-1, X[:, 1].max()+1\n",
        "# define the x and y scale\n",
        "x1grid = np.arange(min1, max1, 0.1)\n",
        "x2grid = np.arange(min2, max2, 0.1)\n",
        "# create all of the lines and rows of the grid\n",
        "xx, yy = np.meshgrid(x1grid, x2grid)\n",
        "# flatten each grid to a vector\n",
        "r1, r2 = xx.flatten(), yy.flatten()\n",
        "r1, r2 = r1.reshape((len(r1), 1)), r2.reshape((len(r2), 1))\n",
        "# horizontal stack vectors to create x1,x2 input for the model\n",
        "grid = np.hstack((r1,r2))\n",
        "# fit the model\n",
        "model.fit(X, y)\n",
        "# make predictions for the grid\n",
        "yhat = model.predict(grid)\n",
        "# reshape the predictions back into a grid\n",
        "zz = yhat.reshape(xx.shape)\n",
        "# plot the grid of x, y and z values as a surface\n",
        "plt.contourf(xx, yy, zz, cmap='Paired')\n",
        "# create scatter plot for samples from each class\n",
        "for class_value in range(2):\n",
        "    # get row indexes for samples with this class\n",
        "    row_ix = np.where(y == class_value)\n",
        "    # create scatter of these samples\n",
        "    plt.scatter(X[row_ix, 0], X[row_ix, 1], cmap='Paired')"
      ]
    },
    {
      "cell_type": "markdown",
      "metadata": {
        "id": "vysEsQxP3CIf"
      },
      "source": [
        "## Task 3.6 : Decision Tree Key Features\n"
      ]
    },
    {
      "cell_type": "markdown",
      "metadata": {
        "id": "X_pky_L93Ima"
      },
      "source": [
        "## Task 3.7 : KNN Key Feautures"
      ]
    },
    {
      "cell_type": "markdown",
      "metadata": {
        "id": "KLsesbe1YqBt"
      },
      "source": [
        "# Dataset 2 : Messidor Features"
      ]
    },
    {
      "cell_type": "markdown",
      "metadata": {
        "id": "RTbuo0wFYwo1"
      },
      "source": [
        "## Task 1.1 Preprocessing"
      ]
    },
    {
      "cell_type": "code",
      "execution_count": null,
      "metadata": {
        "id": "NCgn19nOdgHd"
      },
      "outputs": [],
      "source": []
    },
    {
      "cell_type": "code",
      "execution_count": null,
      "metadata": {
        "id": "ErOjv6ZiTT7-"
      },
      "outputs": [],
      "source": []
    },
    {
      "cell_type": "markdown",
      "metadata": {
        "id": "ICbD1OsCe_9G"
      },
      "source": [
        "## Task 2 : K-Nearest Neighbour"
      ]
    },
    {
      "cell_type": "code",
      "execution_count": null,
      "metadata": {
        "colab": {
          "base_uri": "https://localhost:8080/",
          "height": 278
        },
        "id": "Dr3q1tOb5jT1",
        "outputId": "b02695dd-1ad0-46cc-e62a-a9681694a1b3"
      },
      "outputs": [
        {
          "data": {
            "image/png": "[encoded data removed]",
            "text/plain": [
              "<Figure size 432x288 with 1 Axes>"
            ]
          },
          "metadata": {},
          "output_type": "display_data"
        }
      ],
      "source": [
        "# Messidor KNN Plotting\n",
        "K = 5\n",
        "classifier = KNN(K)\n",
        "\n",
        "y_prob, knns = classifier.fit(X_train, y_train).predict(X_test)\n",
        "y_pred = np.argmax(y_prob, axis=-1)\n",
        "correct = y_test == y_pred\n",
        "incorrect = np.logical_not(correct)\n",
        "\n",
        "#visualization of the points\n",
        "plt.scatter(X_train[:,7], X_train[:,4], c=y_train, marker='o', alpha=.2, label='Train')\n",
        "plt.scatter(X_test[correct,7], X_test[correct,4], marker='.', c=y_pred[correct], label='Correct')\n",
        "plt.scatter(X_test[incorrect,7], X_test[incorrect,4], marker='x', c=y_test[incorrect], label='Misclassified')\n",
        "\n",
        "plt.xlabel(\"Attributes\")\n",
        "plt.ylabel(\"Class\")\n",
        "plt.legend(loc='best')\n",
        "plt.savefig(\"messidor_features_dist.png\", bbox_inches='tight', dpi=300)"
      ]
    },
    {
      "cell_type": "code",
      "execution_count": null,
      "metadata": {
        "colab": {
          "base_uri": "https://localhost:8080/"
        },
        "id": "_oiB3DNaXzJY",
        "outputId": "63266d67-30eb-42a8-f282-df6db2f79223"
      },
      "outputs": [
        {
          "name": "stdout",
          "output_type": "stream",
          "text": [
            "Training Accuracy at K = 5: 0.7735849056603774\n",
            "Testing Accuracy at K = 5: 0.5983606557377049\n"
          ]
        }
      ],
      "source": [
        "# Evaluating prediction accuracy on training data\n",
        "test_acc,train_acc = classifier.evaluate_acc(X_test,y_test,y_train, X_train)\n",
        "\n",
        "print(f'Training Accuracy at K = 5: {train_acc}')\n",
        "print(f'Testing Accuracy at K = 5: {test_acc}')\n",
        "\n"
      ]
    },
    {
      "cell_type": "markdown",
      "metadata": {
        "id": "GkiI_k8cD5Yt"
      },
      "source": [
        "## Task 2.2 : Decision Trees"
      ]
    },
    {
      "cell_type": "code",
      "execution_count": null,
      "metadata": {
        "id": "fNqyAMrDEAsw"
      },
      "outputs": [],
      "source": []
    },
    {
      "cell_type": "markdown",
      "metadata": {
        "id": "Q9VezKwV-taf"
      },
      "source": [
        "## Task 3.1 : Comparing Accuracy \n"
      ]
    },
    {
      "cell_type": "markdown",
      "metadata": {
        "id": "gt8r6IIR-ucq"
      },
      "source": [
        "## Task 3.2 : Testing K values\n",
        "\n",
        "Split the training data into 50% training data and 50% validation data.\n",
        "The run the KNN through a loop to find the best K value."
      ]
    },
    {
      "cell_type": "code",
      "execution_count": null,
      "metadata": {
        "colab": {
          "base_uri": "https://localhost:8080/",
          "height": 295
        },
        "id": "_itjWW9X-1vX",
        "outputId": "10b23768-8b18-4e20-f25a-4f6b3cfe7381"
      },
      "outputs": [
        {
          "name": "stdout",
          "output_type": "stream",
          "text": [
            "best K = 10, test accuracy = 0.5728597449908925\n"
          ]
        },
        {
          "data": {
            "image/png": "[encoded data removed]",
            "text/plain": [
              "<Figure size 432x288 with 1 Axes>"
            ]
          },
          "metadata": {},
          "output_type": "display_data"
        }
      ],
      "source": [
        "model_choices,valid_acc,best_valid_K,test_accuracy = best_k(X_train,y_train,X_test, y_test)\n",
        "print(f'best K = {best_valid_K}, test accuracy = {test_accuracy}')\n",
        "plt.plot(model_choices, valid_acc, marker='o', color='blue', label='validation')\n",
        "plt.plot(best_valid_K, test_accuracy, marker='*', color='red', label='testing')\n",
        "plt.xlabel(\"K\")\n",
        "plt.ylabel(\"Accuracy\")\n",
        "plt.legend(loc='best')\n",
        "plt.savefig('messidor_bestK.png',dpi=300,bbox_inches='tight')"
      ]
    },
    {
      "cell_type": "markdown",
      "metadata": {
        "id": "XVyE3xzN-uu6"
      },
      "source": [
        "## Task 3.3 : Maximum Tree Depth"
      ]
    },
    {
      "cell_type": "markdown",
      "metadata": {
        "id": "3XyIloty-vA4"
      },
      "source": [
        "## Task 3.4 : Testing Distance and Cost Functions"
      ]
    },
    {
      "cell_type": "code",
      "execution_count": null,
      "metadata": {
        "colab": {
          "base_uri": "https://localhost:8080/"
        },
        "id": "qtUN5BiKPF7-",
        "outputId": "79f0965f-fb43-439c-f38a-63cac47f4fea"
      },
      "outputs": [
        {
          "name": "stdout",
          "output_type": "stream",
          "text": [
            "Manhattan Training Accuracy for K=5: 0.7547169811320755\n",
            "Manhattan Testing Accuracy for K=5: 0.5983606557377049\n",
            "Manhattan Training Accuracy for K=9: 0.7547169811320755\n",
            "Manhattan Testing Accuracy for K=9: 0.5919854280510018\n",
            "Euclidean Training Accuracy for K=9: 0.7547169811320755\n",
            "Euclidean Testing Accuracy for K=9: 0.5801457194899818\n"
          ]
        }
      ],
      "source": [
        "# Testing accuracy for Manhattan Distance Function\n",
        "manhattan = lambda x1, x2: np.sum(np.abs(x1 - x2), axis=-1)\n",
        "\n",
        "model = KNN(K=5, dist_fn = manhattan)\n",
        "y_prob, knns = model.fit(X_train, y_train).predict(X_test)\n",
        "test_acc,train_acc = model.evaluate_acc(X_test,y_test,y_train, X_train)\n",
        "\n",
        "print(f'Manhattan Training Accuracy for K=5: {train_acc}')\n",
        "print(f'Manhattan Testing Accuracy for K=5: {test_acc}')\n",
        "\n",
        "model = KNN(K=9, dist_fn = manhattan) # best k is 9\n",
        "y_prob, knns = model.fit(X_train, y_train).predict(X_test)\n",
        "test_acc,train_acc = model.evaluate_acc(X_test,y_test,y_train, X_train)\n",
        "\n",
        "print(f'Manhattan Training Accuracy for K=9: {train_acc}')\n",
        "print(f'Manhattan Testing Accuracy for K=9: {test_acc}')\n",
        "\n",
        "# Testing accuracy for Euclidean Distance Function\n",
        "\n",
        "model = KNN(K=9,dist_fn=euclidean) # best k is 9\n",
        "y_prob, knns = model.fit(X_train, y_train).predict(X_test)\n",
        "test_acc,train_acc = model.evaluate_acc(X_test,y_test,y_train, X_train)\n",
        "\n",
        "print(f'Euclidean Training Accuracy for K=9: {train_acc}')\n",
        "print(f'Euclidean Testing Accuracy for K=9: {test_acc}')"
      ]
    },
    {
      "cell_type": "code",
      "execution_count": null,
      "metadata": {
        "id": "vfltlnwdPOYH"
      },
      "outputs": [],
      "source": [
        "# Testing Cost Funcitions "
      ]
    },
    {
      "cell_type": "markdown",
      "metadata": {
        "id": "Xh253Coe9_r-"
      },
      "source": [
        "## Task 3.5 : Decision Boundary Plots"
      ]
    },
    {
      "cell_type": "markdown",
      "metadata": {
        "id": "9yr2_xvg_M3F"
      },
      "source": [
        "## Task 3.6 : Decision Tree Key Features\n"
      ]
    },
    {
      "cell_type": "markdown",
      "metadata": {
        "id": "X5BljD_T_NkU"
      },
      "source": [
        "## Task 3.7 : KNN Key Features\n"
      ]
    }
  ],
  "metadata": {
    "colab": {
      "collapsed_sections": [],
      "provenance": [],
      "include_colab_link": true
    },
    "kernelspec": {
      "display_name": "Python 3",
      "name": "python3"
    },
    "language_info": {
      "name": "python"
    }
  },
  "nbformat": 4,
  "nbformat_minor": 0
}