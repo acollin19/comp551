{
  "nbformat": 4,
  "nbformat_minor": 0,
  "metadata": {
    "colab": {
      "provenance": [],
      "authorship_tag": "ABX9TyOwTAa1XbqzzdbL9L3/p62Z",
      "include_colab_link": true
    },
    "kernelspec": {
      "name": "python3",
      "display_name": "Python 3"
    },
    "language_info": {
      "name": "python"
    }
  },
  "cells": [
    {
      "cell_type": "markdown",
      "metadata": {
        "id": "view-in-github",
        "colab_type": "text"
      },
      "source": [
        "<a href=\"https://colab.research.google.com/github/acollin19/comp551_A1/blob/main/assignment1_group_24.ipynb\" target=\"_parent\"><img src=\"https://colab.research.google.com/assets/colab-badge.svg\" alt=\"Open In Colab\"/></a>"
      ]
    },
    {
      "cell_type": "markdown",
      "source": [
        "# Assignment 1\n",
        "\n",
        "## Process:\n",
        "### Dataset 1: Hepatitis\n",
        "* Task 1 : Preprocessing\n",
        "    1. Implemenmting KNN Class\n",
        "    2. Preprocessing\n",
        "    3. Distributions\n",
        "* Task 2 : Running KNN and DT\n",
        "    1. KNN\n",
        "    2. DT\n",
        "* Task 3 : Running Experiments\n",
        "    1. Compare accuracy\n",
        "    2. Different K values\n",
        "    3. Max tree depth\n",
        "    4. Different distance/costs\n",
        "    5. Plots\n",
        "    6. Key features in DT\n",
        "    7. Key features in KNN\n",
        "\n",
        "### Dataset 2: Messidor features\n",
        "* Task 1 : Preprocessing\n",
        "    1. Preprocessing\n",
        "    2. Distributions\n",
        "* Task 2 : Running KNN and DT\n",
        "    1. KNN\n",
        "    2. DT\n",
        "* Task 3 : Running Experiments\n",
        "    1. Compare accuracy\n",
        "    2. Different K values\n",
        "    3. Max tree depth\n",
        "    4. Different distance/costs\n",
        "    5. Plots\n",
        "    6. Key features in DT\n",
        "    7. Key features in KNN\n"
      ],
      "metadata": {
        "id": "VcIJvqUbXS0v"
      }
    },
    {
      "cell_type": "code",
      "execution_count": 49,
      "metadata": {
        "id": "5RIgjHnmXGkq"
      },
      "outputs": [],
      "source": [
        "import pandas as pd\n",
        "import numpy as np\n",
        "import math\n",
        "from math import sqrt\n",
        "from sklearn.model_selection import train_test_split\n",
        "import scipy.spatial\n",
        "from scipy.io import arff\n",
        "from collections import Counter\n",
        "import matplotlib.pyplot as plt\n",
        "import warnings\n",
        "warnings.filterwarnings('ignore')\n",
        "np.random.seed(1)"
      ]
    },
    {
      "cell_type": "markdown",
      "source": [
        "## Task 1.1 : Implementing KNN Class"
      ],
      "metadata": {
        "id": "797ZRKb1w5Tq"
      }
    },
    {
      "cell_type": "code",
      "source": [
        "# Modified class collab KNN implemetation \n",
        "euclidean = lambda x1, x2: np.sqrt(np.sum((x1 - x2)**2, axis=-1))\n",
        "manhattan = lambda x1, x2: np.sum(np.abs(x1 - x2), axis=-1)\n",
        "\n",
        "class KNN:\n",
        "\n",
        "    def __init__(self, K=1, dist_fn= euclidean):\n",
        "        self.dist_fn = dist_fn\n",
        "        self.K = K\n",
        "        return\n",
        "    \n",
        "    def fit(self, x, y):\n",
        "        ''' Store the training data using this method as it is a lazy learner'''\n",
        "        self.x = x\n",
        "        self.y = y\n",
        "        self.C = np.max(y) + 1\n",
        "        return self\n",
        "    \n",
        "    def predict(self, x_test):\n",
        "        ''' Makes a prediction using the stored training data and the test data given as argument'''\n",
        "        num_test = x_test.shape[0]\n",
        "        distances = self.dist_fn(self.x[None,:,:], x_test[:,None,:])\n",
        "        #ith-row of knns stores the indices of k closest training samples to the ith-test sample \n",
        "        knns = np.zeros((num_test, self.K), dtype=int)\n",
        "        #ith-row of y_prob has the probability distribution over C classes\n",
        "        y_prob = np.zeros((num_test, self.C))\n",
        "        for i in range(num_test):\n",
        "            knns[i,:] = np.argsort(distances[i])[:self.K]\n",
        "            y_prob[i,:] = np.bincount(self.y[knns[i,:]], minlength=self.C) #counts the number of instances of each class in the K-closest training samples\n",
        "        #simply divide by K to get a probability distribution\n",
        "        y_prob /= self.K\n",
        "        return y_prob, knns\n",
        "\n",
        "    # # Evaluating prediction accuracy on true and target labels\n",
        "    def evaluate_acc(self, X_test, y_test, y_train,X_train ):\n",
        "        #test accuracy\n",
        "        y_test_prob, knns = self.fit(X_train, y_train).predict(X_test)\n",
        "        y_test_pred = np.argmax(y_test_prob, axis=-1)\n",
        "        test_acc = np.sum(y_test_pred == y_test)/y_test.shape[0]\n",
        "\n",
        "        #train accuracy  \n",
        "        y_train_prob, knns = self.fit(X_train, y_train).predict(X_train)\n",
        "        y_train_pred = np.argmax(y_train_prob, axis=-1)\n",
        "        acc_train = np.sum(y_train_pred==y_train)/y_train.shape[0]\n",
        "\n",
        "        return (test_acc, acc_train)"
      ],
      "metadata": {
        "id": "3K1PZj3Ibc4e"
      },
      "execution_count": 50,
      "outputs": []
    },
    {
      "cell_type": "markdown",
      "source": [
        "## Task 1.2 : Preprocessing"
      ],
      "metadata": {
        "id": "wdKenWk_xEQe"
      }
    },
    {
      "cell_type": "code",
      "source": [
        "# Loading/cleaning datasets\n",
        "\n",
        "hepatitis = pd.read_csv(\"hepatitis.data\", header=None)\n",
        "hepatitis = hepatitis[(hepatitis != '?').all(axis=1)]\n",
        "hepatitis = hepatitis.dropna().reset_index(drop=True)\n",
        "hepatitis = hepatitis.apply(pd.to_numeric)\n",
        "hepatitis.columns = ['CLASS','AGE','SEX','STEROID','ANTIVIRAL','FATIGUE','MALAISE','ANOREXIA',\n",
        "            'LIVER BIG','LIVER FIRM','SPLEEN PALPABLE','SPIDERS','ASCITES','VARICES',\n",
        "            'BILIRUBIN','ALK PHOSPHATE','SGOT','ALBUMIN','PROTIME','HISTOLOGY']\n",
        "hepatitis.head()"
      ],
      "metadata": {
        "id": "ijGPLs2CXgwB",
        "colab": {
          "base_uri": "https://localhost:8080/",
          "height": 281
        },
        "outputId": "447d3206-4ef2-4b03-b111-3667679f1a02"
      },
      "execution_count": 51,
      "outputs": [
        {
          "output_type": "execute_result",
          "data": {
            "text/plain": [
              "   CLASS  AGE  SEX  STEROID  ANTIVIRAL  FATIGUE  MALAISE  ANOREXIA  LIVER BIG  \\\n",
              "0      2   34    1        2          2        2        2         2          2   \n",
              "1      2   39    1        1          1        2        2         2          1   \n",
              "2      2   32    1        2          1        1        2         2          2   \n",
              "3      2   41    1        2          1        1        2         2          2   \n",
              "4      2   30    1        2          2        1        2         2          2   \n",
              "\n",
              "   LIVER FIRM  SPLEEN PALPABLE  SPIDERS  ASCITES  VARICES  BILIRUBIN  \\\n",
              "0           2                2        2        2        2        0.9   \n",
              "1           1                2        2        2        2        1.3   \n",
              "2           1                2        1        2        2        1.0   \n",
              "3           1                2        2        2        2        0.9   \n",
              "4           1                2        2        2        2        2.2   \n",
              "\n",
              "   ALK PHOSPHATE  SGOT  ALBUMIN  PROTIME  HISTOLOGY  \n",
              "0             95    28      4.0       75          1  \n",
              "1             78    30      4.4       85          1  \n",
              "2             59   249      3.7       54          1  \n",
              "3             81    60      3.9       52          1  \n",
              "4             57   144      4.9       78          1  "
            ],
            "text/html": [
              "\n",
              "  <div id=\"df-be1e261f-db22-4176-8bda-3bc98197b86d\">\n",
              "    <div class=\"colab-df-container\">\n",
              "      <div>\n",
              "<style scoped>\n",
              "    .dataframe tbody tr th:only-of-type {\n",
              "        vertical-align: middle;\n",
              "    }\n",
              "\n",
              "    .dataframe tbody tr th {\n",
              "        vertical-align: top;\n",
              "    }\n",
              "\n",
              "    .dataframe thead th {\n",
              "        text-align: right;\n",
              "    }\n",
              "</style>\n",
              "<table border=\"1\" class=\"dataframe\">\n",
              "  <thead>\n",
              "    <tr style=\"text-align: right;\">\n",
              "      <th></th>\n",
              "      <th>CLASS</th>\n",
              "      <th>AGE</th>\n",
              "      <th>SEX</th>\n",
              "      <th>STEROID</th>\n",
              "      <th>ANTIVIRAL</th>\n",
              "      <th>FATIGUE</th>\n",
              "      <th>MALAISE</th>\n",
              "      <th>ANOREXIA</th>\n",
              "      <th>LIVER BIG</th>\n",
              "      <th>LIVER FIRM</th>\n",
              "      <th>SPLEEN PALPABLE</th>\n",
              "      <th>SPIDERS</th>\n",
              "      <th>ASCITES</th>\n",
              "      <th>VARICES</th>\n",
              "      <th>BILIRUBIN</th>\n",
              "      <th>ALK PHOSPHATE</th>\n",
              "      <th>SGOT</th>\n",
              "      <th>ALBUMIN</th>\n",
              "      <th>PROTIME</th>\n",
              "      <th>HISTOLOGY</th>\n",
              "    </tr>\n",
              "  </thead>\n",
              "  <tbody>\n",
              "    <tr>\n",
              "      <th>0</th>\n",
              "      <td>2</td>\n",
              "      <td>34</td>\n",
              "      <td>1</td>\n",
              "      <td>2</td>\n",
              "      <td>2</td>\n",
              "      <td>2</td>\n",
              "      <td>2</td>\n",
              "      <td>2</td>\n",
              "      <td>2</td>\n",
              "      <td>2</td>\n",
              "      <td>2</td>\n",
              "      <td>2</td>\n",
              "      <td>2</td>\n",
              "      <td>2</td>\n",
              "      <td>0.9</td>\n",
              "      <td>95</td>\n",
              "      <td>28</td>\n",
              "      <td>4.0</td>\n",
              "      <td>75</td>\n",
              "      <td>1</td>\n",
              "    </tr>\n",
              "    <tr>\n",
              "      <th>1</th>\n",
              "      <td>2</td>\n",
              "      <td>39</td>\n",
              "      <td>1</td>\n",
              "      <td>1</td>\n",
              "      <td>1</td>\n",
              "      <td>2</td>\n",
              "      <td>2</td>\n",
              "      <td>2</td>\n",
              "      <td>1</td>\n",
              "      <td>1</td>\n",
              "      <td>2</td>\n",
              "      <td>2</td>\n",
              "      <td>2</td>\n",
              "      <td>2</td>\n",
              "      <td>1.3</td>\n",
              "      <td>78</td>\n",
              "      <td>30</td>\n",
              "      <td>4.4</td>\n",
              "      <td>85</td>\n",
              "      <td>1</td>\n",
              "    </tr>\n",
              "    <tr>\n",
              "      <th>2</th>\n",
              "      <td>2</td>\n",
              "      <td>32</td>\n",
              "      <td>1</td>\n",
              "      <td>2</td>\n",
              "      <td>1</td>\n",
              "      <td>1</td>\n",
              "      <td>2</td>\n",
              "      <td>2</td>\n",
              "      <td>2</td>\n",
              "      <td>1</td>\n",
              "      <td>2</td>\n",
              "      <td>1</td>\n",
              "      <td>2</td>\n",
              "      <td>2</td>\n",
              "      <td>1.0</td>\n",
              "      <td>59</td>\n",
              "      <td>249</td>\n",
              "      <td>3.7</td>\n",
              "      <td>54</td>\n",
              "      <td>1</td>\n",
              "    </tr>\n",
              "    <tr>\n",
              "      <th>3</th>\n",
              "      <td>2</td>\n",
              "      <td>41</td>\n",
              "      <td>1</td>\n",
              "      <td>2</td>\n",
              "      <td>1</td>\n",
              "      <td>1</td>\n",
              "      <td>2</td>\n",
              "      <td>2</td>\n",
              "      <td>2</td>\n",
              "      <td>1</td>\n",
              "      <td>2</td>\n",
              "      <td>2</td>\n",
              "      <td>2</td>\n",
              "      <td>2</td>\n",
              "      <td>0.9</td>\n",
              "      <td>81</td>\n",
              "      <td>60</td>\n",
              "      <td>3.9</td>\n",
              "      <td>52</td>\n",
              "      <td>1</td>\n",
              "    </tr>\n",
              "    <tr>\n",
              "      <th>4</th>\n",
              "      <td>2</td>\n",
              "      <td>30</td>\n",
              "      <td>1</td>\n",
              "      <td>2</td>\n",
              "      <td>2</td>\n",
              "      <td>1</td>\n",
              "      <td>2</td>\n",
              "      <td>2</td>\n",
              "      <td>2</td>\n",
              "      <td>1</td>\n",
              "      <td>2</td>\n",
              "      <td>2</td>\n",
              "      <td>2</td>\n",
              "      <td>2</td>\n",
              "      <td>2.2</td>\n",
              "      <td>57</td>\n",
              "      <td>144</td>\n",
              "      <td>4.9</td>\n",
              "      <td>78</td>\n",
              "      <td>1</td>\n",
              "    </tr>\n",
              "  </tbody>\n",
              "</table>\n",
              "</div>\n",
              "      <button class=\"colab-df-convert\" onclick=\"convertToInteractive('df-be1e261f-db22-4176-8bda-3bc98197b86d')\"\n",
              "              title=\"Convert this dataframe to an interactive table.\"\n",
              "              style=\"display:none;\">\n",
              "        \n",
              "  <svg xmlns=\"http://www.w3.org/2000/svg\" height=\"24px\"viewBox=\"0 0 24 24\"\n",
              "       width=\"24px\">\n",
              "    <path d=\"M0 0h24v24H0V0z\" fill=\"none\"/>\n",
              "    <path d=\"M18.56 5.44l.94 2.06.94-2.06 2.06-.94-2.06-.94-.94-2.06-.94 2.06-2.06.94zm-11 1L8.5 8.5l.94-2.06 2.06-.94-2.06-.94L8.5 2.5l-.94 2.06-2.06.94zm10 10l.94 2.06.94-2.06 2.06-.94-2.06-.94-.94-2.06-.94 2.06-2.06.94z\"/><path d=\"M17.41 7.96l-1.37-1.37c-.4-.4-.92-.59-1.43-.59-.52 0-1.04.2-1.43.59L10.3 9.45l-7.72 7.72c-.78.78-.78 2.05 0 2.83L4 21.41c.39.39.9.59 1.41.59.51 0 1.02-.2 1.41-.59l7.78-7.78 2.81-2.81c.8-.78.8-2.07 0-2.86zM5.41 20L4 18.59l7.72-7.72 1.47 1.35L5.41 20z\"/>\n",
              "  </svg>\n",
              "      </button>\n",
              "      \n",
              "  <style>\n",
              "    .colab-df-container {\n",
              "      display:flex;\n",
              "      flex-wrap:wrap;\n",
              "      gap: 12px;\n",
              "    }\n",
              "\n",
              "    .colab-df-convert {\n",
              "      background-color: #E8F0FE;\n",
              "      border: none;\n",
              "      border-radius: 50%;\n",
              "      cursor: pointer;\n",
              "      display: none;\n",
              "      fill: #1967D2;\n",
              "      height: 32px;\n",
              "      padding: 0 0 0 0;\n",
              "      width: 32px;\n",
              "    }\n",
              "\n",
              "    .colab-df-convert:hover {\n",
              "      background-color: #E2EBFA;\n",
              "      box-shadow: 0px 1px 2px rgba(60, 64, 67, 0.3), 0px 1px 3px 1px rgba(60, 64, 67, 0.15);\n",
              "      fill: #174EA6;\n",
              "    }\n",
              "\n",
              "    [theme=dark] .colab-df-convert {\n",
              "      background-color: #3B4455;\n",
              "      fill: #D2E3FC;\n",
              "    }\n",
              "\n",
              "    [theme=dark] .colab-df-convert:hover {\n",
              "      background-color: #434B5C;\n",
              "      box-shadow: 0px 1px 3px 1px rgba(0, 0, 0, 0.15);\n",
              "      filter: drop-shadow(0px 1px 2px rgba(0, 0, 0, 0.3));\n",
              "      fill: #FFFFFF;\n",
              "    }\n",
              "  </style>\n",
              "\n",
              "      <script>\n",
              "        const buttonEl =\n",
              "          document.querySelector('#df-be1e261f-db22-4176-8bda-3bc98197b86d button.colab-df-convert');\n",
              "        buttonEl.style.display =\n",
              "          google.colab.kernel.accessAllowed ? 'block' : 'none';\n",
              "\n",
              "        async function convertToInteractive(key) {\n",
              "          const element = document.querySelector('#df-be1e261f-db22-4176-8bda-3bc98197b86d');\n",
              "          const dataTable =\n",
              "            await google.colab.kernel.invokeFunction('convertToInteractive',\n",
              "                                                     [key], {});\n",
              "          if (!dataTable) return;\n",
              "\n",
              "          const docLinkHtml = 'Like what you see? Visit the ' +\n",
              "            '<a target=\"_blank\" href=https://colab.research.google.com/notebooks/data_table.ipynb>data table notebook</a>'\n",
              "            + ' to learn more about interactive tables.';\n",
              "          element.innerHTML = '';\n",
              "          dataTable['output_type'] = 'display_data';\n",
              "          await google.colab.output.renderOutput(dataTable, element);\n",
              "          const docLink = document.createElement('div');\n",
              "          docLink.innerHTML = docLinkHtml;\n",
              "          element.appendChild(docLink);\n",
              "        }\n",
              "      </script>\n",
              "    </div>\n",
              "  </div>\n",
              "  "
            ]
          },
          "metadata": {},
          "execution_count": 51
        }
      ]
    },
    {
      "cell_type": "markdown",
      "source": [
        "## Task 1.3 : Distributions"
      ],
      "metadata": {
        "id": "6ANdzFscYe_q"
      }
    },
    {
      "cell_type": "code",
      "source": [
        "# Hepatitis Dataset\n",
        "X = hepatitis.iloc[:, hepatitis.columns != 0].values # x -> features (1-19)\n",
        "y = hepatitis.iloc[:, 0].values # y -> class label (0)"
      ],
      "metadata": {
        "id": "UKeR55aaYes2"
      },
      "execution_count": 52,
      "outputs": []
    },
    {
      "cell_type": "code",
      "source": [
        "# Split Training and Testing with sklearn\n",
        "X_train, X_test, y_train, y_test = train_test_split(X, y, test_size = 0.2, random_state=1, shuffle=True)\n",
        "print(\"Total Number of rows in train:\",X_train.shape[0])\n",
        "print(\"Total Number of rows in test:\",X_test.shape[0])"
      ],
      "metadata": {
        "colab": {
          "base_uri": "https://localhost:8080/"
        },
        "id": "9ThchqhOEnkG",
        "outputId": "a3758c8e-01e4-48fa-8aeb-de0588fa0c88"
      },
      "execution_count": 53,
      "outputs": [
        {
          "output_type": "stream",
          "name": "stdout",
          "text": [
            "Total Number of rows in train: 64\n",
            "Total Number of rows in test: 16\n"
          ]
        }
      ]
    },
    {
      "cell_type": "code",
      "source": [
        "plt.clf()\n",
        "positive_train = y_train==1\n",
        "negative_train = y_train==0\n",
        "\n",
        "positive_test = y_test==1\n",
        "negative_test = y_test==0\n",
        "\n",
        "plt.plot(X_train[positive_train,17],X_train[positive_train,14],\"or\",label=\"Positive training examples\")\n",
        "plt.plot(X_train[negative_train,17],X_train[negative_train,14],\"ob\",label=\"Negative training examples\")\n",
        "\n",
        "plt.plot(X_test[positive_test,17],X_test[positive_test,14],\"xr\",label=\"Positive testing examples\")\n",
        "plt.plot(X_test[negative_test,17],X_test[negative_test,14],\"xb\",label=\"Negative testing examples\")\n",
        "\n",
        "plt.xlabel(\"Attributes\")\n",
        "plt.ylabel(\"Class\")\n",
        "plt.legend(loc='best')\n",
        "plt.show()\n",
        "plt.savefig(\"train_test_scatterplot.png\", bbox_inches='tight', dpi=300)"
      ],
      "metadata": {
        "id": "f-GluN8U3lSC",
        "outputId": "c0626f73-820b-4771-f9bb-0e519bd449fc",
        "colab": {
          "base_uri": "https://localhost:8080/",
          "height": 298
        }
      },
      "execution_count": 54,
      "outputs": [
        {
          "output_type": "display_data",
          "data": {
            "text/plain": [
              "<Figure size 432x288 with 1 Axes>"
            ],
            "image/png": "[encoded data removed]"
          },
          "metadata": {
            "needs_background": "light"
          }
        },
        {
          "output_type": "display_data",
          "data": {
            "text/plain": [
              "<Figure size 432x288 with 0 Axes>"
            ]
          },
          "metadata": {}
        }
      ]
    },
    {
      "cell_type": "markdown",
      "source": [
        "## Task 2 : K-Nearest Neighbour\n"
      ],
      "metadata": {
        "id": "49Pz3ndleF98"
      }
    },
    {
      "cell_type": "code",
      "source": [
        "# Hepatitis KNN Plotting\n",
        "K = 5\n",
        "model = KNN(K)\n",
        "y_prob, knns = model.fit(X_train, y_train).predict(X_test)\n",
        "y_pred = np.argmax(y_prob, axis=-1)\n",
        "correct = y_test == y_pred\n",
        "incorrect = np.logical_not(correct)\n",
        "\n",
        "#visualization of the points\n",
        "plt.scatter(X_train[:,17], X_train[:,14], c=y_train, marker='o', alpha=.2, label='Train')\n",
        "plt.scatter(X_test[correct,17], X_test[correct,14], marker='.', c=y_pred[correct], label='Correct')\n",
        "plt.scatter(X_test[incorrect,17], X_test[incorrect,14], marker='x', c=y_test[incorrect], label='Misclassified')\n",
        "\n",
        "plt.xlabel(\"Attributes\")\n",
        "plt.ylabel(\"Class\")\n",
        "plt.legend(loc='best')\n",
        "plt.savefig(\"hepatitis_KNN.png\", bbox_inches='tight', dpi=300)"
      ],
      "metadata": {
        "id": "55UlHZ3J46li",
        "outputId": "cda40cdc-c715-4964-a8c0-9ad5aab88d65",
        "colab": {
          "base_uri": "https://localhost:8080/",
          "height": 282
        }
      },
      "execution_count": 55,
      "outputs": [
        {
          "output_type": "display_data",
          "data": {
            "text/plain": [
              "<Figure size 432x288 with 1 Axes>"
            ],
            "image/png": "[encoded data removed]"
          },
          "metadata": {
            "needs_background": "light"
          }
        }
      ]
    },
    {
      "cell_type": "code",
      "source": [
        "# Evaluating prediction accuracy on training data\n",
        "test_acc,train_acc = model.evaluate_acc(X_test,y_test,y_train, X_train)\n",
        "\n",
        "print(f'Training Accuracy: {train_acc}')\n",
        "print(f'Testing Accuracy: {test_acc}')\n"
      ],
      "metadata": {
        "colab": {
          "base_uri": "https://localhost:8080/"
        },
        "id": "vEuV7O1LeFDZ",
        "outputId": "bf37464b-77d7-4dd0-b0e8-8f70f23b893a"
      },
      "execution_count": 56,
      "outputs": [
        {
          "output_type": "stream",
          "name": "stdout",
          "text": [
            "Training Accuracy: 0.84375\n",
            "Testing Accuracy: 0.75\n"
          ]
        }
      ]
    },
    {
      "cell_type": "markdown",
      "source": [
        "## Task 2.2 : Decision Trees"
      ],
      "metadata": {
        "id": "Tjs968GeEGAF"
      }
    },
    {
      "cell_type": "code",
      "source": [],
      "metadata": {
        "id": "dUDLtC4VEFeh"
      },
      "execution_count": 56,
      "outputs": []
    },
    {
      "cell_type": "markdown",
      "source": [
        "## Task 3.1 : Comparing Accuracy \n",
        "\n",
        "Using KNN: \n",
        "Testing accuracy is 0.5625  \n",
        "\n",
        "Using Decision Trees: "
      ],
      "metadata": {
        "id": "gyPjYUR5Z1mM"
      }
    },
    {
      "cell_type": "code",
      "source": [],
      "metadata": {
        "id": "AiNrymIfZvC-"
      },
      "execution_count": 56,
      "outputs": []
    },
    {
      "cell_type": "markdown",
      "source": [
        "## Task 3.2 : Testing K values\n",
        "\n",
        "Split the training data into 50% training data and 50% validation data.\n",
        "The run the KNN through a loop to find the best K value."
      ],
      "metadata": {
        "id": "oKUUPH_JaZTZ"
      }
    },
    {
      "cell_type": "code",
      "source": [
        "def best_k(X_train,y_train,X_test, y_test):\n",
        "    # further split the training data into 50% training and 50% validation\n",
        "    x_train_tr, y_train_tr = X_train[:50], y_train[:50]\n",
        "    x_train_va, y_train_va = X_train[50:], y_train[50:]\n",
        "\n",
        "    model_choices=[]\n",
        "    valid_acc = []\n",
        "\n",
        "    n_valid = y_train_va.shape[0]\n",
        "\n",
        "    # Iterate through loop to find best K value\n",
        "    for k in range(1,11):\n",
        "        knn = KNN(K=k) \n",
        "        y_train_va_prob,_ = knn.fit(x_train_tr, y_train_tr).predict(x_train_va) \n",
        "        y_train_va_pred = np.argmax(y_train_va_prob,axis=-1)\n",
        "        accuracy = np.sum(y_train_va_pred == y_train_va)/n_valid\n",
        "        model_choices.append(k)\n",
        "        valid_acc.append(accuracy)\n",
        "\n",
        "    # use the best K to predict test data\n",
        "    best_valid_K = model_choices[valid_acc.index(max(valid_acc))]\n",
        "    knn = KNN(K=best_valid_K)\n",
        "    y_test_prob,_ = knn.fit(X_train, y_train).predict(X_test)\n",
        "    y_test_pred = np.argmax(y_test_prob, axis=-1)\n",
        "    test_accuracy = np.sum(y_test_pred == y_test)/y_test.shape[0]\n",
        "\n",
        "    return (model_choices,valid_acc,best_valid_K,test_accuracy)\n",
        "\n",
        "model_choices,valid_acc,best_valid_K,test_accuracy = best_k(X_train,y_train,X_test, y_test)\n",
        "print(f'best K = {best_valid_K}, test accuracy = {test_accuracy}')\n",
        "plt.plot(model_choices, valid_acc, marker='o', color='blue', label='validation')\n",
        "plt.plot(best_valid_K, test_accuracy, marker='*', color='red', label='testing')\n",
        "plt.xlabel(\"K\")\n",
        "plt.ylabel(\"Accuracy\")\n",
        "plt.legend(loc='best')\n",
        "plt.savefig('hepatitis_bestK.png',dpi=300,bbox_inches='tight')\n",
        "\n"
      ],
      "metadata": {
        "id": "cI3m_jax3iXM",
        "outputId": "8cceae5e-0102-45ee-889b-65e7c138eecd",
        "colab": {
          "base_uri": "https://localhost:8080/",
          "height": 295
        }
      },
      "execution_count": 57,
      "outputs": [
        {
          "output_type": "stream",
          "name": "stdout",
          "text": [
            "best K = 9, test accuracy = 0.875\n"
          ]
        },
        {
          "output_type": "display_data",
          "data": {
            "text/plain": [
              "<Figure size 432x288 with 1 Axes>"
            ],
            "image/png": "[encoded data removed]"
          },
          "metadata": {
            "needs_background": "light"
          }
        }
      ]
    },
    {
      "cell_type": "markdown",
      "source": [
        "## Task 3.3 : Maximum Tree Depth"
      ],
      "metadata": {
        "id": "kwXW9S5I2rRK"
      }
    },
    {
      "cell_type": "markdown",
      "source": [
        "## Task 3.4 : Testing Distance and Cost Functions"
      ],
      "metadata": {
        "id": "zSgmlIme2rZ_"
      }
    },
    {
      "cell_type": "markdown",
      "source": [
        "## Task 3.5 : Decision Boundary Plots"
      ],
      "metadata": {
        "id": "Mqt3SkLX2rnF"
      }
    },
    {
      "cell_type": "code",
      "source": [
        "# #we can make the grid finer by increasing the number of samples from 200 to higher value\n",
        "# x0v = np.linspace(np.min(X[:,0]), np.max(X[:,0]), 200)\n",
        "# x1v = np.linspace(np.min(X[:,1]), np.max(X[:,1]), 200)\n",
        "\n",
        "# # to features values as a mesh  \n",
        "# x0, x1 = np.meshgrid(x0v, x1v)\n",
        "# x_all = np.vstack((x0.ravel(),x1.ravel())).T\n",
        "\n",
        "# for k in [1, 5, 15]:\n",
        "#     print(k)\n",
        "#     model = KNN(K=k)\n",
        "\n",
        "#     y_train_prob = np.zeros((y_train.shape[0], C))\n",
        "#     y_train_prob[np.arange(y_train.shape[0]), y_train] = 1\n",
        "    \n",
        "#     y_prob, knns = model.fit(X_train, y_train).predict(X_test)\n",
        "#     y_pred = np.argmax(y_prob,axis=-1)    \n",
        "#     correct = y_test == y_pred\n",
        "#     incorrect = np.logical_not(correct)    \n",
        "    \n",
        "#     y_pred = np.argmax(y_prob,axis=-1)\n",
        "#     accuracy = np.sum(y_pred == y_test)/y_test.shape[0]\n",
        "#     acc = f'accuracy: {accuracy*100:.1f}.'\n",
        "#     print(acc)\n",
        "    \n",
        "\n",
        "#     #to get class probability of all the points in the 2D grid\n",
        "#     y_prob_all, _ = model.fit(X_train, y_train).predict(x_all)\n",
        "\n",
        "#     y_pred_all = np.zeros_like(y_prob_all)\n",
        "#     y_pred_all[np.arange(x_all.shape[0]), np.argmax(y_prob_all, axis=-1)] = 1    \n",
        "    \n",
        "#     plt.clf()\n",
        "#     plt.scatter(X_train[:,0], X_train[:,1], c=y_train_prob, marker='o', alpha=1)\n",
        "    \n",
        "#     plt.scatter(x_all[:,0], x_all[:,1], c=y_pred_all, marker='.', alpha=0.01)\n",
        "#     plt.ylabel('sepal length')\n",
        "#     plt.xlabel('sepal width')\n",
        "#     # plt.savefig('decision_boundaries_KNN'+str(k)+'.png', dpi=300, bbox_inches='tight') \n",
        "    \n",
        "    \n",
        "# plt.scatter(X_train[:,0], X_train[:,1], c=y_train_prob, marker='o', alpha=1)\n",
        "# plt.scatter(x_all[:,0], x_all[:,1], c=y_prob_all, marker='.', alpha=.01)\n",
        "# plt.ylabel('sepal length')\n",
        "# plt.xlabel('sepal width')\n",
        "# plt.show()"
      ],
      "metadata": {
        "id": "qF94dzm76t9j"
      },
      "execution_count": 58,
      "outputs": []
    },
    {
      "cell_type": "markdown",
      "source": [
        "## Task 3.6 : Decision Tree Key Features\n"
      ],
      "metadata": {
        "id": "vysEsQxP3CIf"
      }
    },
    {
      "cell_type": "markdown",
      "source": [
        "## Task 3.7 : KNN Key Feautures"
      ],
      "metadata": {
        "id": "X_pky_L93Ima"
      }
    },
    {
      "cell_type": "markdown",
      "source": [
        "# Dataset 2 : Messidor Features"
      ],
      "metadata": {
        "id": "KLsesbe1YqBt"
      }
    },
    {
      "cell_type": "markdown",
      "source": [
        "## Task 1.1 Preprocessing"
      ],
      "metadata": {
        "id": "RTbuo0wFYwo1"
      }
    },
    {
      "cell_type": "code",
      "source": [
        "data = arff.loadarff('messidor_features.arff')\n",
        "features = pd.DataFrame(data[0])\n",
        "features.to_csv(index=False)\n",
        "features = features[(features != '?').all(axis=1)]\n",
        "features = features.dropna().reset_index(drop=True)\n",
        "features = features.apply(pd.to_numeric)\n",
        "features.columns = [\"QUALITY\", \"PRESCREENING\", \"MA_1\", \"MA_2\", \"MA_3\", \"MA_4\", \"MA_5\", \"MA_6\",\n",
        "                    \"EXUDATES_8\", \"EXUDATES_9\", \"EXUDATES_10\", \"EXUDATES_11\", \"EXUDATES_12\", \"EXUDATES_13\", \"EXUDATES_14\", \"EXUDATES_15\",\n",
        "                    \"EUCLIDEAN_DIST\", \"OPTIC_DISC_DIAM\", \"AM_FM\", \"CLASS\"]\n",
        "features.head()\n"
      ],
      "metadata": {
        "colab": {
          "base_uri": "https://localhost:8080/",
          "height": 264
        },
        "id": "jUyRccvVXhWc",
        "outputId": "6a6c0558-16b0-4dc9-ebe8-bb106b2f2830"
      },
      "execution_count": 59,
      "outputs": [
        {
          "output_type": "execute_result",
          "data": {
            "text/plain": [
              "   QUALITY  PRESCREENING  MA_1  MA_2  MA_3  MA_4  MA_5  MA_6  EXUDATES_8  \\\n",
              "0      1.0           1.0  22.0  22.0  22.0  19.0  18.0  14.0   49.895756   \n",
              "1      1.0           1.0  24.0  24.0  22.0  18.0  16.0  13.0   57.709936   \n",
              "2      1.0           1.0  62.0  60.0  59.0  54.0  47.0  33.0   55.831441   \n",
              "3      1.0           1.0  55.0  53.0  53.0  50.0  43.0  31.0   40.467228   \n",
              "4      1.0           1.0  44.0  44.0  44.0  41.0  39.0  27.0   18.026254   \n",
              "\n",
              "   EXUDATES_9  EXUDATES_10  EXUDATES_11  EXUDATES_12  EXUDATES_13  \\\n",
              "0   17.775994     5.270920     0.771761     0.018632     0.006864   \n",
              "1   23.799994     3.325423     0.234185     0.003903     0.003903   \n",
              "2   27.993933    12.687485     4.852282     1.393889     0.373252   \n",
              "3   18.445954     9.118901     3.079428     0.840261     0.272434   \n",
              "4    8.570709     0.410381     0.000000     0.000000     0.000000   \n",
              "\n",
              "   EXUDATES_14  EXUDATES_15  EUCLIDEAN_DIST  OPTIC_DISC_DIAM  AM_FM  CLASS  \n",
              "0     0.003923     0.003923        0.486903         0.100025    1.0      0  \n",
              "1     0.003903     0.003903        0.520908         0.144414    0.0      0  \n",
              "2     0.041817     0.007744        0.530904         0.128548    0.0      1  \n",
              "3     0.007653     0.001531        0.483284         0.114790    0.0      0  \n",
              "4     0.000000     0.000000        0.475935         0.123572    0.0      1  "
            ],
            "text/html": [
              "\n",
              "  <div id=\"df-b84bc654-57ed-4a51-bf57-3f21842ac03a\">\n",
              "    <div class=\"colab-df-container\">\n",
              "      <div>\n",
              "<style scoped>\n",
              "    .dataframe tbody tr th:only-of-type {\n",
              "        vertical-align: middle;\n",
              "    }\n",
              "\n",
              "    .dataframe tbody tr th {\n",
              "        vertical-align: top;\n",
              "    }\n",
              "\n",
              "    .dataframe thead th {\n",
              "        text-align: right;\n",
              "    }\n",
              "</style>\n",
              "<table border=\"1\" class=\"dataframe\">\n",
              "  <thead>\n",
              "    <tr style=\"text-align: right;\">\n",
              "      <th></th>\n",
              "      <th>QUALITY</th>\n",
              "      <th>PRESCREENING</th>\n",
              "      <th>MA_1</th>\n",
              "      <th>MA_2</th>\n",
              "      <th>MA_3</th>\n",
              "      <th>MA_4</th>\n",
              "      <th>MA_5</th>\n",
              "      <th>MA_6</th>\n",
              "      <th>EXUDATES_8</th>\n",
              "      <th>EXUDATES_9</th>\n",
              "      <th>EXUDATES_10</th>\n",
              "      <th>EXUDATES_11</th>\n",
              "      <th>EXUDATES_12</th>\n",
              "      <th>EXUDATES_13</th>\n",
              "      <th>EXUDATES_14</th>\n",
              "      <th>EXUDATES_15</th>\n",
              "      <th>EUCLIDEAN_DIST</th>\n",
              "      <th>OPTIC_DISC_DIAM</th>\n",
              "      <th>AM_FM</th>\n",
              "      <th>CLASS</th>\n",
              "    </tr>\n",
              "  </thead>\n",
              "  <tbody>\n",
              "    <tr>\n",
              "      <th>0</th>\n",
              "      <td>1.0</td>\n",
              "      <td>1.0</td>\n",
              "      <td>22.0</td>\n",
              "      <td>22.0</td>\n",
              "      <td>22.0</td>\n",
              "      <td>19.0</td>\n",
              "      <td>18.0</td>\n",
              "      <td>14.0</td>\n",
              "      <td>49.895756</td>\n",
              "      <td>17.775994</td>\n",
              "      <td>5.270920</td>\n",
              "      <td>0.771761</td>\n",
              "      <td>0.018632</td>\n",
              "      <td>0.006864</td>\n",
              "      <td>0.003923</td>\n",
              "      <td>0.003923</td>\n",
              "      <td>0.486903</td>\n",
              "      <td>0.100025</td>\n",
              "      <td>1.0</td>\n",
              "      <td>0</td>\n",
              "    </tr>\n",
              "    <tr>\n",
              "      <th>1</th>\n",
              "      <td>1.0</td>\n",
              "      <td>1.0</td>\n",
              "      <td>24.0</td>\n",
              "      <td>24.0</td>\n",
              "      <td>22.0</td>\n",
              "      <td>18.0</td>\n",
              "      <td>16.0</td>\n",
              "      <td>13.0</td>\n",
              "      <td>57.709936</td>\n",
              "      <td>23.799994</td>\n",
              "      <td>3.325423</td>\n",
              "      <td>0.234185</td>\n",
              "      <td>0.003903</td>\n",
              "      <td>0.003903</td>\n",
              "      <td>0.003903</td>\n",
              "      <td>0.003903</td>\n",
              "      <td>0.520908</td>\n",
              "      <td>0.144414</td>\n",
              "      <td>0.0</td>\n",
              "      <td>0</td>\n",
              "    </tr>\n",
              "    <tr>\n",
              "      <th>2</th>\n",
              "      <td>1.0</td>\n",
              "      <td>1.0</td>\n",
              "      <td>62.0</td>\n",
              "      <td>60.0</td>\n",
              "      <td>59.0</td>\n",
              "      <td>54.0</td>\n",
              "      <td>47.0</td>\n",
              "      <td>33.0</td>\n",
              "      <td>55.831441</td>\n",
              "      <td>27.993933</td>\n",
              "      <td>12.687485</td>\n",
              "      <td>4.852282</td>\n",
              "      <td>1.393889</td>\n",
              "      <td>0.373252</td>\n",
              "      <td>0.041817</td>\n",
              "      <td>0.007744</td>\n",
              "      <td>0.530904</td>\n",
              "      <td>0.128548</td>\n",
              "      <td>0.0</td>\n",
              "      <td>1</td>\n",
              "    </tr>\n",
              "    <tr>\n",
              "      <th>3</th>\n",
              "      <td>1.0</td>\n",
              "      <td>1.0</td>\n",
              "      <td>55.0</td>\n",
              "      <td>53.0</td>\n",
              "      <td>53.0</td>\n",
              "      <td>50.0</td>\n",
              "      <td>43.0</td>\n",
              "      <td>31.0</td>\n",
              "      <td>40.467228</td>\n",
              "      <td>18.445954</td>\n",
              "      <td>9.118901</td>\n",
              "      <td>3.079428</td>\n",
              "      <td>0.840261</td>\n",
              "      <td>0.272434</td>\n",
              "      <td>0.007653</td>\n",
              "      <td>0.001531</td>\n",
              "      <td>0.483284</td>\n",
              "      <td>0.114790</td>\n",
              "      <td>0.0</td>\n",
              "      <td>0</td>\n",
              "    </tr>\n",
              "    <tr>\n",
              "      <th>4</th>\n",
              "      <td>1.0</td>\n",
              "      <td>1.0</td>\n",
              "      <td>44.0</td>\n",
              "      <td>44.0</td>\n",
              "      <td>44.0</td>\n",
              "      <td>41.0</td>\n",
              "      <td>39.0</td>\n",
              "      <td>27.0</td>\n",
              "      <td>18.026254</td>\n",
              "      <td>8.570709</td>\n",
              "      <td>0.410381</td>\n",
              "      <td>0.000000</td>\n",
              "      <td>0.000000</td>\n",
              "      <td>0.000000</td>\n",
              "      <td>0.000000</td>\n",
              "      <td>0.000000</td>\n",
              "      <td>0.475935</td>\n",
              "      <td>0.123572</td>\n",
              "      <td>0.0</td>\n",
              "      <td>1</td>\n",
              "    </tr>\n",
              "  </tbody>\n",
              "</table>\n",
              "</div>\n",
              "      <button class=\"colab-df-convert\" onclick=\"convertToInteractive('df-b84bc654-57ed-4a51-bf57-3f21842ac03a')\"\n",
              "              title=\"Convert this dataframe to an interactive table.\"\n",
              "              style=\"display:none;\">\n",
              "        \n",
              "  <svg xmlns=\"http://www.w3.org/2000/svg\" height=\"24px\"viewBox=\"0 0 24 24\"\n",
              "       width=\"24px\">\n",
              "    <path d=\"M0 0h24v24H0V0z\" fill=\"none\"/>\n",
              "    <path d=\"M18.56 5.44l.94 2.06.94-2.06 2.06-.94-2.06-.94-.94-2.06-.94 2.06-2.06.94zm-11 1L8.5 8.5l.94-2.06 2.06-.94-2.06-.94L8.5 2.5l-.94 2.06-2.06.94zm10 10l.94 2.06.94-2.06 2.06-.94-2.06-.94-.94-2.06-.94 2.06-2.06.94z\"/><path d=\"M17.41 7.96l-1.37-1.37c-.4-.4-.92-.59-1.43-.59-.52 0-1.04.2-1.43.59L10.3 9.45l-7.72 7.72c-.78.78-.78 2.05 0 2.83L4 21.41c.39.39.9.59 1.41.59.51 0 1.02-.2 1.41-.59l7.78-7.78 2.81-2.81c.8-.78.8-2.07 0-2.86zM5.41 20L4 18.59l7.72-7.72 1.47 1.35L5.41 20z\"/>\n",
              "  </svg>\n",
              "      </button>\n",
              "      \n",
              "  <style>\n",
              "    .colab-df-container {\n",
              "      display:flex;\n",
              "      flex-wrap:wrap;\n",
              "      gap: 12px;\n",
              "    }\n",
              "\n",
              "    .colab-df-convert {\n",
              "      background-color: #E8F0FE;\n",
              "      border: none;\n",
              "      border-radius: 50%;\n",
              "      cursor: pointer;\n",
              "      display: none;\n",
              "      fill: #1967D2;\n",
              "      height: 32px;\n",
              "      padding: 0 0 0 0;\n",
              "      width: 32px;\n",
              "    }\n",
              "\n",
              "    .colab-df-convert:hover {\n",
              "      background-color: #E2EBFA;\n",
              "      box-shadow: 0px 1px 2px rgba(60, 64, 67, 0.3), 0px 1px 3px 1px rgba(60, 64, 67, 0.15);\n",
              "      fill: #174EA6;\n",
              "    }\n",
              "\n",
              "    [theme=dark] .colab-df-convert {\n",
              "      background-color: #3B4455;\n",
              "      fill: #D2E3FC;\n",
              "    }\n",
              "\n",
              "    [theme=dark] .colab-df-convert:hover {\n",
              "      background-color: #434B5C;\n",
              "      box-shadow: 0px 1px 3px 1px rgba(0, 0, 0, 0.15);\n",
              "      filter: drop-shadow(0px 1px 2px rgba(0, 0, 0, 0.3));\n",
              "      fill: #FFFFFF;\n",
              "    }\n",
              "  </style>\n",
              "\n",
              "      <script>\n",
              "        const buttonEl =\n",
              "          document.querySelector('#df-b84bc654-57ed-4a51-bf57-3f21842ac03a button.colab-df-convert');\n",
              "        buttonEl.style.display =\n",
              "          google.colab.kernel.accessAllowed ? 'block' : 'none';\n",
              "\n",
              "        async function convertToInteractive(key) {\n",
              "          const element = document.querySelector('#df-b84bc654-57ed-4a51-bf57-3f21842ac03a');\n",
              "          const dataTable =\n",
              "            await google.colab.kernel.invokeFunction('convertToInteractive',\n",
              "                                                     [key], {});\n",
              "          if (!dataTable) return;\n",
              "\n",
              "          const docLinkHtml = 'Like what you see? Visit the ' +\n",
              "            '<a target=\"_blank\" href=https://colab.research.google.com/notebooks/data_table.ipynb>data table notebook</a>'\n",
              "            + ' to learn more about interactive tables.';\n",
              "          element.innerHTML = '';\n",
              "          dataTable['output_type'] = 'display_data';\n",
              "          await google.colab.output.renderOutput(dataTable, element);\n",
              "          const docLink = document.createElement('div');\n",
              "          docLink.innerHTML = docLinkHtml;\n",
              "          element.appendChild(docLink);\n",
              "        }\n",
              "      </script>\n",
              "    </div>\n",
              "  </div>\n",
              "  "
            ]
          },
          "metadata": {},
          "execution_count": 59
        }
      ]
    },
    {
      "cell_type": "markdown",
      "source": [
        "## Task 1.2 Distributions"
      ],
      "metadata": {
        "id": "tuspcH2zXuPI"
      }
    },
    {
      "cell_type": "code",
      "source": [
        "# Messidor features dataset\n",
        "X = features.iloc[:,:-1].values # x -> features (0-18)\n",
        "y = features.iloc[:,-1:].values # y -> class label (19)\n",
        "\n",
        "inds_hep = np.random.permutation(X.shape[0])\n",
        "X_train, y_train = X[inds_hep[:53]], np.ndarray.flatten(y[inds_hep[:53]])\n",
        "X_test, y_test = X[inds_hep[53:]], np.ndarray.flatten(y[inds_hep[53:]])\n",
        "# Split Training and Testing with sklearn\n",
        "#X_train, X_test, y_train, y_test = train_test_split(X, y, test_size = 0.2, random_state=1, shuffle=True)\n",
        "\n",
        "\n",
        "print(\"Total Number of rows in train:\",X_train.shape[0])\n",
        "print(\"Total Number of rows in test:\",X_test.shape[0])"
      ],
      "metadata": {
        "id": "jK9BkysEXhiu",
        "colab": {
          "base_uri": "https://localhost:8080/"
        },
        "outputId": "b7eb536d-388a-4ce3-984b-4c9f06be4cae"
      },
      "execution_count": 60,
      "outputs": [
        {
          "output_type": "stream",
          "name": "stdout",
          "text": [
            "Total Number of rows in train: 53\n",
            "Total Number of rows in test: 1098\n"
          ]
        }
      ]
    },
    {
      "cell_type": "code",
      "source": [
        "plt.clf()\n",
        "positive_train = y_train==1\n",
        "negative_train = y_train==0\n",
        "\n",
        "positive_test = y_test==1\n",
        "negative_test = y_test==0\n",
        "\n",
        "plt.plot(X_train[positive_train,7],X_train[positive_train,4],\"or\",label=\"Positive training examples\")\n",
        "plt.plot(X_train[negative_train,7],X_train[negative_train,4],\"ob\",label=\"Negative training examples\")\n",
        "\n",
        "plt.plot(X_test[positive_test,7],X_test[positive_test,4],\"xr\",label=\"Positive testing examples\")\n",
        "plt.plot(X_test[negative_test,7],X_test[negative_test,4],\"xb\",label=\"Negative testing examples\")\n",
        "\n",
        "plt.xlabel(\"Attributes\")\n",
        "plt.ylabel(\"Class\")\n",
        "plt.legend(loc='best')\n",
        "plt.show()\n",
        "plt.savefig(\"train_test_scatterplot.png\", bbox_inches='tight', dpi=300)"
      ],
      "metadata": {
        "id": "LbGvfRiU5UEw",
        "outputId": "2a0fdf02-c577-481e-9a3b-5a924d6daf5d",
        "colab": {
          "base_uri": "https://localhost:8080/",
          "height": 295
        }
      },
      "execution_count": 61,
      "outputs": [
        {
          "output_type": "display_data",
          "data": {
            "text/plain": [
              "<Figure size 432x288 with 1 Axes>"
            ],
            "image/png": "[encoded data removed]"
          },
          "metadata": {
            "needs_background": "light"
          }
        },
        {
          "output_type": "display_data",
          "data": {
            "text/plain": [
              "<Figure size 432x288 with 0 Axes>"
            ]
          },
          "metadata": {}
        }
      ]
    },
    {
      "cell_type": "code",
      "source": [],
      "metadata": {
        "id": "NCgn19nOdgHd"
      },
      "execution_count": 61,
      "outputs": []
    },
    {
      "cell_type": "code",
      "source": [],
      "metadata": {
        "id": "ErOjv6ZiTT7-"
      },
      "execution_count": 61,
      "outputs": []
    },
    {
      "cell_type": "markdown",
      "source": [
        "## Task 2 : K-Nearest Neighbour"
      ],
      "metadata": {
        "id": "ICbD1OsCe_9G"
      }
    },
    {
      "cell_type": "code",
      "source": [
        "# Messidor KNN Plotting\n",
        "K = 5\n",
        "classifier = KNN(K)\n",
        "\n",
        "y_prob, knns = classifier.fit(X_train, y_train).predict(X_test)\n",
        "y_pred = np.argmax(y_prob, axis=-1)\n",
        "correct = y_test == y_pred\n",
        "incorrect = np.logical_not(correct)\n",
        "\n",
        "#visualization of the points\n",
        "plt.scatter(X_train[:,7], X_train[:,4], c=y_train, marker='o', alpha=.2, label='Train')\n",
        "plt.scatter(X_test[correct,7], X_test[correct,4], marker='.', c=y_pred[correct], label='Correct')\n",
        "plt.scatter(X_test[incorrect,7], X_test[incorrect,4], marker='x', c=y_test[incorrect], label='Misclassified')\n",
        "\n",
        "plt.xlabel(\"Attributes\")\n",
        "plt.ylabel(\"Class\")\n",
        "plt.legend(loc='best')\n",
        "plt.savefig(\"messidor_features_dist.png\", bbox_inches='tight', dpi=300)"
      ],
      "metadata": {
        "id": "Dr3q1tOb5jT1",
        "outputId": "ac78e3f3-3e02-4ded-aa15-68a199abf955",
        "colab": {
          "base_uri": "https://localhost:8080/",
          "height": 278
        }
      },
      "execution_count": 65,
      "outputs": [
        {
          "output_type": "display_data",
          "data": {
            "text/plain": [
              "<Figure size 432x288 with 1 Axes>"
            ],
            "image/png": "[encoded data removed]"
          },
          "metadata": {
            "needs_background": "light"
          }
        }
      ]
    },
    {
      "cell_type": "code",
      "source": [
        "# Evaluating prediction accuracy on training data\n",
        "test_acc,train_acc = classifier.evaluate_acc(X_test,y_test,y_train, X_train)\n",
        "\n",
        "print(f'Training Accuracy: {train_acc}')\n",
        "print(f'Testing Accuracy: {test_acc}')\n",
        "\n"
      ],
      "metadata": {
        "colab": {
          "base_uri": "https://localhost:8080/"
        },
        "id": "_oiB3DNaXzJY",
        "outputId": "9a577f50-361b-4083-f90b-cfad5cc0f261"
      },
      "execution_count": 66,
      "outputs": [
        {
          "output_type": "stream",
          "name": "stdout",
          "text": [
            "Training Accuracy: 0.7735849056603774\n",
            "Testing Accuracy: 0.5983606557377049\n"
          ]
        }
      ]
    },
    {
      "cell_type": "markdown",
      "source": [
        "## Task 2.2 : Decision Trees"
      ],
      "metadata": {
        "id": "GkiI_k8cD5Yt"
      }
    },
    {
      "cell_type": "code",
      "source": [],
      "metadata": {
        "id": "fNqyAMrDEAsw"
      },
      "execution_count": 63,
      "outputs": []
    },
    {
      "cell_type": "markdown",
      "source": [
        "## Task 3.1 : Comparing Accuracy \n"
      ],
      "metadata": {
        "id": "Q9VezKwV-taf"
      }
    },
    {
      "cell_type": "markdown",
      "source": [
        "## Task 3.2 : Testing K values\n",
        "\n",
        "Split the training data into 50% training data and 50% validation data.\n",
        "The run the KNN through a loop to find the best K value."
      ],
      "metadata": {
        "id": "gt8r6IIR-ucq"
      }
    },
    {
      "cell_type": "code",
      "source": [
        "model_choices,valid_acc,best_valid_K,test_accuracy = best_k(X_train,y_train,X_test, y_test)\n",
        "print(f'best K = {best_valid_K}, test accuracy = {test_accuracy}')\n",
        "plt.plot(model_choices, valid_acc, marker='o', color='blue', label='validation')\n",
        "plt.plot(best_valid_K, test_accuracy, marker='*', color='red', label='testing')\n",
        "plt.xlabel(\"K\")\n",
        "plt.ylabel(\"Accuracy\")\n",
        "plt.legend(loc='best')\n",
        "plt.savefig('messidor_bestK.png',dpi=300,bbox_inches='tight')"
      ],
      "metadata": {
        "id": "_itjWW9X-1vX",
        "outputId": "18ab9447-b489-4498-8c92-c9363fca100e",
        "colab": {
          "base_uri": "https://localhost:8080/",
          "height": 295
        }
      },
      "execution_count": 68,
      "outputs": [
        {
          "output_type": "stream",
          "name": "stdout",
          "text": [
            "best K = 10, test accuracy = 0.5728597449908925\n"
          ]
        },
        {
          "output_type": "display_data",
          "data": {
            "text/plain": [
              "<Figure size 432x288 with 1 Axes>"
            ],
            "image/png": "[encoded data removed]"
          },
          "metadata": {
            "needs_background": "light"
          }
        }
      ]
    },
    {
      "cell_type": "markdown",
      "source": [
        "## Task 3.3 : Maximum Tree Depth"
      ],
      "metadata": {
        "id": "XVyE3xzN-uu6"
      }
    },
    {
      "cell_type": "markdown",
      "source": [
        "## Task 3.4 : Testing Distance and Cost Functions"
      ],
      "metadata": {
        "id": "3XyIloty-vA4"
      }
    },
    {
      "cell_type": "markdown",
      "source": [
        "## Task 3.5 : Decision Boundary Plots"
      ],
      "metadata": {
        "id": "Xh253Coe9_r-"
      }
    },
    {
      "cell_type": "markdown",
      "source": [
        "## Task 3.6 : Decision Tree Key Features\n"
      ],
      "metadata": {
        "id": "9yr2_xvg_M3F"
      }
    },
    {
      "cell_type": "markdown",
      "source": [
        "## Task 3.7 : KNN Key Features\n"
      ],
      "metadata": {
        "id": "X5BljD_T_NkU"
      }
    }
  ]
}