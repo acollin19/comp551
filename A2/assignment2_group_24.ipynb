{
  "nbformat": 4,
  "nbformat_minor": 0,
  "metadata": {
    "colab": {
      "provenance": [],
      "collapsed_sections": [],
      "authorship_tag": "ABX9TyMbdPGHQrq0PrXRzami3l90",
      "include_colab_link": true
    },
    "kernelspec": {
      "name": "python3",
      "display_name": "Python 3"
    },
    "language_info": {
      "name": "python"
    }
  },
  "cells": [
    {
      "cell_type": "markdown",
      "metadata": {
        "id": "view-in-github",
        "colab_type": "text"
      },
      "source": [
        "<a href=\"https://colab.research.google.com/github/acollin19/comp551/blob/main/A2/assignment2_group_24.ipynb\" target=\"_parent\"><img src=\"https://colab.research.google.com/assets/colab-badge.svg\" alt=\"Open In Colab\"/></a>"
      ]
    },
    {
      "cell_type": "markdown",
      "source": [
        "# Assignment 2\n",
        "\n",
        "## Process:\n",
        "\n",
        "### Task 1: Data Processing  \n",
        "\n",
        "\n",
        "1. IMDB Reviews\n",
        "2. 20 news groups: a multi-class labelled textual dataset\n",
        "\n",
        "\n",
        "### Task 2: Implement Logistic and Multiclass classifiers\n",
        "\n",
        "1. Logistic Regression\n",
        "2. Multiclass Regression\n",
        "3. Comparisons using ROC curve\n",
        "\n",
        "\n",
        "### Task 3: Running Experiments\n",
        "\n",
        "\n",
        "\n",
        "1.    Most positive/negative Z-scores\n",
        "2.   Implement:  \n",
        "    * Binary classification on the IMDB Reviews\n",
        "\n",
        "  *   Multi-class classification on the 20 news group dataset\n",
        "\n",
        "3. Binary classification AUROC on IMDB data\n",
        "  *   Logistic Regression \n",
        "  *   KNN\n",
        "\n",
        "4. Multiclass classification accuracy\n",
        "\n",
        "5. Compare Accuracy of Models (Plot)\n",
        "\n",
        "\n",
        "\n",
        "\n",
        "\n"
      ],
      "metadata": {
        "id": "3MPLXGJNqqK6"
      }
    },
    {
      "cell_type": "code",
      "execution_count": 14,
      "metadata": {
        "id": "zk8gZ35HpnLe"
      },
      "outputs": [],
      "source": [
        "import pandas as pd\n",
        "import numpy as np\n",
        "from sklearn.datasets import load_svmlight_file\n",
        "\n",
        "from sklearn.datasets import fetch_20newsgroups\n",
        "from sklearn.feature_extraction.text import CountVectorizer, TfidfTransformer\n",
        "\n",
        "# Multiclass Regression and ROC curve comparisons\n",
        "from sklearn import model_selection\n",
        "from matplotlib import pyplot as plt\n",
        "from sklearn.metrics import roc_curve, roc_auc_score\n",
        "from sklearn.linear_model import LogisticRegression as sk_LogisticRegression\n",
        "from sklearn.tree import DecisionTreeClassifier\n",
        "from sklearn.neighbors import KNeighborsClassifier"
      ]
    },
    {
      "cell_type": "code",
      "source": [
        "!curl -O https://ai.stanford.edu/~amaas/data/sentiment/aclImdb_v1.tar.gz\n",
        "!tar -xf aclImdb_v1.tar.gz\n",
        "!ls aclImdb\n",
        "!ls aclImdb/test\n",
        "!ls aclImdb/train"
      ],
      "metadata": {
        "colab": {
          "base_uri": "https://localhost:8080/"
        },
        "id": "CHwlrYyNIEVK",
        "outputId": "978cc53e-df54-41f2-99e7-34bd3bf3c01a"
      },
      "execution_count": null,
      "outputs": [
        {
          "output_type": "stream",
          "name": "stdout",
          "text": [
            "  % Total    % Received % Xferd  Average Speed   Time    Time     Time  Current\n",
            "                                 Dload  Upload   Total   Spent    Left  Speed\n",
            "100 80.2M  100 80.2M    0     0  45.1M      0  0:00:01  0:00:01 --:--:-- 45.1M\n",
            "imdbEr.txt  imdb.vocab\tREADME\ttest  train\n",
            "labeledBow.feat  neg  pos  urls_neg.txt  urls_pos.txt\n",
            "labeledBow.feat  pos\tunsupBow.feat  urls_pos.txt\n",
            "neg\t\t unsup\turls_neg.txt   urls_unsup.txt\n"
          ]
        }
      ]
    },
    {
      "cell_type": "code",
      "source": [
        "# IMDB train df\n",
        "X,Y = load_svmlight_file(\"labeledBow.feat\", multilabel = True, zero_based = True)\n"
      ],
      "metadata": {
        "id": "W8-TCF1wtOVN",
        "colab": {
          "base_uri": "https://localhost:8080/",
          "height": 191
        },
        "outputId": "7311393a-fe9f-460e-9d15-f894c50d2aca"
      },
      "execution_count": 1,
      "outputs": [
        {
          "output_type": "error",
          "ename": "NameError",
          "evalue": "ignored",
          "traceback": [
            "\u001b[0;31m---------------------------------------------------------------------------\u001b[0m",
            "\u001b[0;31mNameError\u001b[0m                                 Traceback (most recent call last)",
            "\u001b[0;32m<ipython-input-1-794b719106f3>\u001b[0m in \u001b[0;36m<module>\u001b[0;34m\u001b[0m\n\u001b[1;32m      1\u001b[0m \u001b[0;31m# IMDB train df\u001b[0m\u001b[0;34m\u001b[0m\u001b[0;34m\u001b[0m\u001b[0;34m\u001b[0m\u001b[0m\n\u001b[0;32m----> 2\u001b[0;31m \u001b[0mX\u001b[0m\u001b[0;34m,\u001b[0m\u001b[0mY\u001b[0m \u001b[0;34m=\u001b[0m \u001b[0mload_svmlight_file\u001b[0m\u001b[0;34m(\u001b[0m\u001b[0;34m\"labeledBow.feat\"\u001b[0m\u001b[0;34m,\u001b[0m \u001b[0mmultilabel\u001b[0m \u001b[0;34m=\u001b[0m \u001b[0;32mTrue\u001b[0m\u001b[0;34m,\u001b[0m \u001b[0mzero_based\u001b[0m \u001b[0;34m=\u001b[0m \u001b[0;32mTrue\u001b[0m\u001b[0;34m)\u001b[0m\u001b[0;34m\u001b[0m\u001b[0;34m\u001b[0m\u001b[0m\n\u001b[0m\u001b[1;32m      3\u001b[0m \u001b[0;34m\u001b[0m\u001b[0m\n",
            "\u001b[0;31mNameError\u001b[0m: name 'load_svmlight_file' is not defined"
          ]
        }
      ]
    },
    {
      "cell_type": "code",
      "source": [
        "# Loading 20 news group dataset\n",
        "categories=['rec.sport.hockey','sci.electronics','talk.politics.guns','sci.space']\n",
        "twenty_train = fetch_20newsgroups(subset='train', categories=categories, remove=(['headers', 'footers', 'quotes']), shuffle=True, random_state=42)\n"
      ],
      "metadata": {
        "id": "avXRl9Pq1YdN"
      },
      "execution_count": 8,
      "outputs": []
    },
    {
      "cell_type": "markdown",
      "source": [
        "1.1 : Text preprocessing, tokenizing and filtering of stopwords are all included in the CountVectorizer function"
      ],
      "metadata": {
        "id": "mpsPgK1HpYIL"
      }
    },
    {
      "cell_type": "code",
      "source": [
        "# Turn the text content into feature vectors\n",
        "count_vect = CountVectorizer() \n",
        "X_train_counts = count_vect.fit_transform(twenty_train.data) # builds a dict of features and transforms docs to feature vectors\n",
        "X_train_counts.shape\n",
        "\n",
        "# Occurences to frequences : TF_IDF\n",
        "\n",
        "tfidf_transformer = TfidfTransformer()\n",
        "X_train_tfidf = tfidf_transformer.fit_transform(X_train_counts)\n",
        "X_train_tfidf"
      ],
      "metadata": {
        "colab": {
          "base_uri": "https://localhost:8080/"
        },
        "id": "aQpmgOaTorEJ",
        "outputId": "fb112c7f-dac8-48fd-bcca-7efb6457dac9"
      },
      "execution_count": 13,
      "outputs": [
        {
          "output_type": "execute_result",
          "data": {
            "text/plain": [
              "<2330x31201 sparse matrix of type '<class 'numpy.float64'>'\n",
              "\twith 228398 stored elements in Compressed Sparse Row format>"
            ]
          },
          "metadata": {},
          "execution_count": 13
        }
      ]
    },
    {
      "cell_type": "code",
      "source": [
        "X = twenty_train.data # Test content\n",
        "\n",
        "# Turn the text content into feature vectors\n",
        "count_vect = CountVectorizer() \n",
        "X_train_counts = count_vect.fit_transform(twenty_train.data) # builds a dict of features and transforms docs to feature vectors\n",
        "X_train_counts.shape\n",
        "\n",
        "# Occurences to frequences : TF_IDF\n",
        "\n",
        "tfidf_transformer = TfidfTransformer()\n",
        "X_train_tfidf = tfidf_transformer.fit_transform(X_train_counts)\n",
        "X = X_train_tfidf\n",
        "\n",
        "y_cat = twenty_train.target\n",
        "# convert array of class indices to one-hot encoded array\n",
        "y = np.zeros((y_cat.size, y_cat.max() + 1))\n",
        "y[np.arange(y_cat.size), y_cat] = 1\n",
        "\n",
        "print(X)"
      ],
      "metadata": {
        "id": "fNeX7J3j7XHL",
        "colab": {
          "base_uri": "https://localhost:8080/"
        },
        "outputId": "7027591b-17d2-4691-e0d5-0c1f6f212dc1"
      },
      "execution_count": 19,
      "outputs": [
        {
          "output_type": "stream",
          "name": "stdout",
          "text": [
            "  (0, 30948)\t0.14040989982008775\n",
            "  (0, 30906)\t0.08405138460178864\n",
            "  (0, 30883)\t0.09530400819467387\n",
            "  (0, 30295)\t0.10290468881809638\n",
            "  (0, 30251)\t0.05264064004143937\n",
            "  (0, 28527)\t0.10189915843591614\n",
            "  (0, 28304)\t0.09697317574876095\n",
            "  (0, 28141)\t0.08274417530859261\n",
            "  (0, 28131)\t0.025242498432943575\n",
            "  (0, 27975)\t0.07298610652089194\n",
            "  (0, 27906)\t0.05419820732883213\n",
            "  (0, 27860)\t0.04363340430813677\n",
            "  (0, 27841)\t0.05366514697429806\n",
            "  (0, 27834)\t0.15692196174342432\n",
            "  (0, 27829)\t0.08962777594902022\n",
            "  (0, 27822)\t0.09928182630437254\n",
            "  (0, 27555)\t0.12458624583194353\n",
            "  (0, 26949)\t0.09928182630437254\n",
            "  (0, 26386)\t0.14441450882235457\n",
            "  (0, 26327)\t0.1334455497312062\n",
            "  (0, 26326)\t0.15800080004504655\n",
            "  (0, 26046)\t0.04679870001486382\n",
            "  (0, 26027)\t0.15800080004504655\n",
            "  (0, 25583)\t0.059145254902454356\n",
            "  (0, 24869)\t0.14004069997244845\n",
            "  :\t:\n",
            "  (2329, 30433)\t0.06815319170856916\n",
            "  (2329, 27883)\t0.21301289255201286\n",
            "  (2329, 26088)\t0.16672798990930832\n",
            "  (2329, 22608)\t0.2353383104271898\n",
            "  (2329, 20613)\t0.04767724465566593\n",
            "  (2329, 19638)\t0.2842172889836986\n",
            "  (2329, 18956)\t0.1593675602945682\n",
            "  (2329, 17791)\t0.14324581002331788\n",
            "  (2329, 17758)\t0.2400464577440715\n",
            "  (2329, 16060)\t0.21089882114893543\n",
            "  (2329, 16047)\t0.055149253840551825\n",
            "  (2329, 16000)\t0.25977779970544423\n",
            "  (2329, 14958)\t0.2842172889836986\n",
            "  (2329, 14423)\t0.2714060387072915\n",
            "  (2329, 13636)\t0.10131665353481777\n",
            "  (2329, 12755)\t0.11323037169677708\n",
            "  (2329, 11094)\t0.13813562038019717\n",
            "  (2329, 10689)\t0.37746975632202256\n",
            "  (2329, 10013)\t0.18537436226660256\n",
            "  (2329, 7644)\t0.21317436743926568\n",
            "  (2329, 7249)\t0.1875787506518855\n",
            "  (2329, 7153)\t0.07697579013900624\n",
            "  (2329, 4948)\t0.11218970381438816\n",
            "  (2329, 4803)\t0.048241049399280415\n",
            "  (2329, 4457)\t0.269921104219143\n"
          ]
        }
      ]
    },
    {
      "cell_type": "markdown",
      "source": [
        "## Logistic Regression Class"
      ],
      "metadata": {
        "id": "rUqXu5jLlL0O"
      }
    },
    {
      "cell_type": "code",
      "source": [
        "# From class Logistic Regression collab\n",
        "class LogisticRegression:\n",
        "    \n",
        "    def __init__(self, add_bias=True, learning_rate=.1, epsilon=1e-4, max_iters=1e5, verbose=False):\n",
        "        self.add_bias = add_bias\n",
        "        self.learning_rate = learning_rate\n",
        "        self.epsilon = epsilon                        #to get the tolerance for the norm of gradients \n",
        "        self.max_iters = max_iters                    #maximum number of iteration of gradient descent\n",
        "        self.verbose = verbose\n",
        "\n",
        "    def gradient(self, x, y):\n",
        "        N,D = x.shape\n",
        "        yh = logistic(np.dot(x, self.w))    # predictions  size N\n",
        "        grad = np.dot(x.T, yh - y)/N        # divide by N because cost is mean over N points\n",
        "        return grad\n",
        "        \n",
        "    def fit(self, x, y):\n",
        "        if x.ndim == 1:\n",
        "            x = x[:, None]\n",
        "        if self.add_bias:\n",
        "            N = x.shape[0]\n",
        "            x = np.column_stack([x,np.ones(N)])\n",
        "        N,D = x.shape\n",
        "        self.w = np.zeros(D)\n",
        "        g = np.inf \n",
        "        t = 0\n",
        "        # the code snippet below is for gradient descent\n",
        "        while np.linalg.norm(g) > self.epsilon and t < self.max_iters:\n",
        "            g = self.gradient(x, y)\n",
        "            self.w = self.w - self.learning_rate * g \n",
        "            t += 1\n",
        "        \n",
        "        if self.verbose:\n",
        "            print(f'terminated after {t} iterations, with norm of the gradient equal to {np.linalg.norm(g)}')\n",
        "            print(f'the weight found: {self.w}')\n",
        "        return self\n",
        "    \n",
        "    def predict(self, x):\n",
        "        if x.ndim == 1:\n",
        "            x = x[:, None]\n",
        "        Nt = x.shape[0]\n",
        "        if self.add_bias:\n",
        "            x = np.column_stack([x,np.ones(Nt)])\n",
        "        yh = logistic(np.dot(x,self.w))            #predict output\n",
        "        return yh\n",
        "\n",
        "# LogisticRegression.gradient = gradient  "
      ],
      "metadata": {
        "id": "yviSnmE3mQPo"
      },
      "execution_count": 22,
      "outputs": []
    },
    {
      "cell_type": "markdown",
      "source": [
        "## Multiclass Regression Class"
      ],
      "metadata": {
        "id": "7gEvPV8emgda"
      }
    },
    {
      "cell_type": "code",
      "source": [
        "# From class Multiclass Regression collab\n",
        "class Multinomial_logistic:\n",
        "    def __init__(self, nFeatures, nClasses):\n",
        "        self.W = np.random.rand(nFeatures, nClasses)\n",
        "\n",
        "    def predict(self, X):\n",
        "        y_pred = np.exp(np.matmul(X, self.W))\n",
        "        return y_pred / y_pred.sum(axis=1).reshape(X.shape[0], 1)\n",
        "\n",
        "    def grad(self, X, y):\n",
        "        return np.matmul(X.transpose(), self.predict(X) - y)\n",
        "\n",
        "    def ce(self, X, y):\n",
        "        return -np.sum(y * np.log(self.predict(X)))\n",
        "\n",
        "    # modify it to add stopping criteria (what can you think of?)\n",
        "    def fit(self, X, y, X_valid=None, y_valid=None, lr=0.005, niter=100):\n",
        "        losses_train = np.zeros(niter)\n",
        "        losses_valid = np.zeros(niter)\n",
        "        for i in range(niter):\n",
        "            self.W = self.W - lr * self.grad(X, y)\n",
        "            loss_train = self.ce(X, y)\n",
        "            losses_train[i] = loss_train\n",
        "            if X_valid is not None and y_valid is not None:\n",
        "                loss_valid = self.ce(X_valid, y_valid)\n",
        "                losses_valid[i] = loss_valid\n",
        "                print(f\"iter {i}: {loss_train:.3f}; {loss_valid:.3f}\")\n",
        "            else:\n",
        "                print(f\"iter {i}: {loss_train:.3f}\")\n",
        "        return losses_train, losses_valid\n",
        "\n",
        "    def check_grad(self, X, y):\n",
        "        N, C = y.shape\n",
        "        D = X.shape[1]\n",
        "\n",
        "        diff = np.zeros((D, C))\n",
        "\n",
        "        W = self.W.copy()\n",
        "\n",
        "        for i in range(D):\n",
        "            for j in range(C):\n",
        "                epsilon = np.zeros((D, C))\n",
        "                epsilon[i, j] = np.random.rand() * 1e-4\n",
        "\n",
        "                self.W = self.W + epsilon\n",
        "                J1 = self.ce(X, y)\n",
        "                self.W = W\n",
        "\n",
        "                self.W = self.W - epsilon\n",
        "                J2 = self.ce(X, y)\n",
        "                self.W = W\n",
        "\n",
        "                numeric_grad = (J1 - J2) / (2 * epsilon[i, j])\n",
        "                derived_grad = self.grad(X, y)[i, j]\n",
        "\n",
        "                diff[i, j] = np.square(derived_grad - numeric_grad).sum() / \\\n",
        "                             np.square(derived_grad + numeric_grad).sum()\n",
        "\n",
        "        # print(diff)\n",
        "        return diff.sum()\n",
        "\n",
        "    def evaluate(y, y_pred):\n",
        "      accuracy = sum(y_pred.argmax(axis=1) == y.argmax(axis=1))\n",
        "      accuracy = accuracy / y.shape[0]\n",
        "\n",
        "      return accuracy"
      ],
      "metadata": {
        "id": "zol2Q2ZEmfNI"
      },
      "execution_count": 23,
      "outputs": []
    },
    {
      "cell_type": "code",
      "source": [
        "# Applying Multiclass Regression on the 4-class prediction from the 20-news-group data\n",
        "\n",
        "# Split the data into training, validation, and testing\n",
        "X_train, X_test, y_train, y_test = model_selection.train_test_split(\n",
        "    X, y, test_size = 0.33, random_state=1, shuffle=True)\n",
        "\n",
        "X_train, X_valid, y_train, y_valid = model_selection.train_test_split(\n",
        "    X_train, y_train, test_size = 0.5, random_state=1, shuffle=True)\n"
      ],
      "metadata": {
        "id": "pNCIdH_Ws_a_"
      },
      "execution_count": 21,
      "outputs": []
    },
    {
      "cell_type": "markdown",
      "source": [
        "## Method comparison using ROC curve"
      ],
      "metadata": {
        "id": "Qgm175hZsNum"
      }
    },
    {
      "cell_type": "code",
      "source": [
        "models = [KNeighborsClassifier(),\n",
        "          DecisionTreeClassifier(),\n",
        "          sk_LogisticRegression()]\n",
        "\n",
        "perf = {}\n",
        "\n",
        "# our implementation is slow you may try sklearn version\n",
        "logitreg = LogisticRegression(max_iters=1e3)\n",
        "fit = logitreg.fit(X_train, y_train)\n",
        "y_test_prob = fit.predict(X_test)\n",
        "fpr, tpr, _ = roc_curve(y_test, y_test_prob)\n",
        "auroc = roc_auc_score(y_test, y_test_prob)\n",
        "perf[\"LogisticRegression (ours)\"] = {'fpr':fpr, 'tpr':tpr, 'auroc':auroc}\n",
        "\n",
        "for model in models:\n",
        "    fit = model.fit(X_train, y_train)\n",
        "    y_test_prob = fit.predict_proba(X_test)[:,1]\n",
        "    fpr, tpr, _ = roc_curve(y_test, y_test_prob)\n",
        "    auroc = roc_auc_score(y_test, y_test_prob)\n",
        "    if type(model).__name__ == \"LogisticRegression\":\n",
        "        perf[\"LogisticRegression (sklearn)\"] = {'fpr':fpr,'tpr':tpr,'auroc':auroc}\n",
        "    else:\n",
        "        perf[type(model).__name__] = {'fpr':fpr,'tpr':tpr,'auroc':auroc}\n",
        "\n",
        "\n",
        "plt.clf()\n",
        "i = 0\n",
        "for model_name, model_perf in perf.items():\n",
        "    plt.plot(model_perf['fpr'], model_perf['tpr'],label=model_name)\n",
        "    plt.text(0.4, i+0.1, model_name + ': AUC = '+ str(round(model_perf['auroc'],2)))\n",
        "    i += 0.1\n",
        "\n",
        "plt.plot([0, 1], [0, 1], color=\"navy\", lw=2, linestyle=\"--\")\n",
        "plt.xlim([0.0, 1.0])\n",
        "plt.ylim([0.0, 1.05])\n",
        "\n",
        "plt.xlabel(\"False Positive Rate\")\n",
        "plt.ylabel(\"True Positive Rate\")\n",
        "plt.title('ROC in predicting Titanic survivor')\n",
        "plt.legend(bbox_to_anchor=(1.04, 0.5), loc=\"upper left\")\n",
        "# plt.show()\n",
        "plt.savefig(\"roc_curve.png\", bbox_inches='tight', dpi=300)\n",
        "# plt.close()"
      ],
      "metadata": {
        "id": "mdb0OA4VsNLU"
      },
      "execution_count": null,
      "outputs": []
    }
  ]
}