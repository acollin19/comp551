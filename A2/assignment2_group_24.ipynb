{
  "nbformat": 4,
  "nbformat_minor": 0,
  "metadata": {
    "colab": {
      "provenance": [],
      "collapsed_sections": [],
      "authorship_tag": "ABX9TyPx+/QN3yNNlR33y1VghpFA",
      "include_colab_link": true
    },
    "kernelspec": {
      "name": "python3",
      "display_name": "Python 3"
    },
    "language_info": {
      "name": "python"
    }
  },
  "cells": [
    {
      "cell_type": "markdown",
      "metadata": {
        "id": "view-in-github",
        "colab_type": "text"
      },
      "source": [
        "<a href=\"https://colab.research.google.com/github/acollin19/comp551/blob/Angele/A2/assignment2_group_24.ipynb\" target=\"_parent\"><img src=\"https://colab.research.google.com/assets/colab-badge.svg\" alt=\"Open In Colab\"/></a>"
      ]
    },
    {
      "cell_type": "markdown",
      "source": [
        "# Assignment 2\n",
        "\n",
        "## Process:\n",
        "\n",
        "### Task 1: Data Processing  \n",
        "\n",
        "\n",
        "1. IMDB Reviews\n",
        "2. 20 news groups: a multi-class labelled textual dataset\n",
        "\n",
        "\n",
        "### Task 2: Implement Logistic and Multiclass classifiers\n",
        "\n",
        "1. Logistic Regression\n",
        "2. Multiclass Regression\n",
        "3. Comparisons using ROC curve\n",
        "\n",
        "\n",
        "### Task 3: Running Experiments\n",
        "\n",
        "\n",
        "\n",
        "1.    Most positive/negative Z-scores\n",
        "2.   Implement:  \n",
        "    * Binary classification on the IMDB Reviews\n",
        "\n",
        "  *   Multi-class classification on the 20 news group dataset\n",
        "\n",
        "3. Binary classification AUROC on IMDB data\n",
        "  *   Logistic Regression \n",
        "  *   KNN\n",
        "\n",
        "4. Multiclass classification accuracy\n",
        "\n",
        "5. Compare Accuracy of Models (Plot)\n",
        "\n",
        "\n",
        "\n",
        "\n",
        "\n"
      ],
      "metadata": {
        "id": "3MPLXGJNqqK6"
      }
    },
    {
      "cell_type": "code",
      "execution_count": 18,
      "metadata": {
        "id": "zk8gZ35HpnLe"
      },
      "outputs": [],
      "source": [
        "import pandas as pd\n",
        "import numpy as np\n",
        "from sklearn.datasets import load_svmlight_file\n",
        "from scipy.sparse import csr_matrix\n",
        "\n",
        "from sklearn.datasets import fetch_20newsgroups\n",
        "from sklearn.feature_extraction.text import CountVectorizer, TfidfTransformer\n",
        "\n",
        "# Multiclass Regression and ROC curve comparisons\n",
        "from sklearn import model_selection\n",
        "from matplotlib import pyplot as plt\n",
        "from sklearn.metrics import roc_curve, roc_auc_score\n",
        "from sklearn.linear_model import LogisticRegression as sk_LogisticRegression\n",
        "from sklearn.tree import DecisionTreeClassifier\n",
        "from sklearn.neighbors import KNeighborsClassifier\n",
        "from nltk import word_tokenize, download\n",
        "from nltk.corpus import stopwords\n"
      ]
    },
    {
      "cell_type": "code",
      "source": [
        "!curl -O https://ai.stanford.edu/~amaas/data/sentiment/aclImdb_v1.tar.gz\n",
        "!tar -xf aclImdb_v1.tar.gz\n",
        "!ls aclImdb\n",
        "!ls aclImdb/test\n",
        "!ls aclImdb/train\n"
      ],
      "metadata": {
        "colab": {
          "base_uri": "https://localhost:8080/"
        },
        "id": "CHwlrYyNIEVK",
        "outputId": "ff1b302b-ec39-4f59-f36f-82dbac9f9853"
      },
      "execution_count": 19,
      "outputs": [
        {
          "output_type": "stream",
          "name": "stdout",
          "text": [
            "  % Total    % Received % Xferd  Average Speed   Time    Time     Time  Current\n",
            "                                 Dload  Upload   Total   Spent    Left  Speed\n",
            "100 80.2M  100 80.2M    0     0  14.9M      0  0:00:05  0:00:05 --:--:-- 16.8M\n",
            "imdbEr.txt  imdb.vocab\tREADME\ttest  train\n",
            "labeledBow.feat  neg  pos  urls_neg.txt  urls_pos.txt\n",
            "labeledBow.feat  pos\tunsupBow.feat  urls_pos.txt\n",
            "neg\t\t unsup\turls_neg.txt   urls_unsup.txt\n"
          ]
        }
      ]
    },
    {
      "cell_type": "code",
      "source": [
        "# IMDB dataset preprocession\n",
        "IMDB_X_train, IMDB_y_train= load_svmlight_file('aclImdb/train/labeledBow.feat')\n",
        "IMDB_X_test, IMDB_y_test = load_svmlight_file('aclImdb/test/labeledBow.feat') \n",
        "\n",
        "print(IMDB_X_train)"
      ],
      "metadata": {
        "id": "RNMsl4tlfmJD",
        "outputId": "46544198-6c65-457f-e9d5-f13d3f454c19",
        "colab": {
          "base_uri": "https://localhost:8080/"
        }
      },
      "execution_count": 20,
      "outputs": [
        {
          "output_type": "stream",
          "name": "stdout",
          "text": [
            "  (0, 0)\t9.0\n",
            "  (0, 1)\t1.0\n",
            "  (0, 2)\t4.0\n",
            "  (0, 3)\t4.0\n",
            "  (0, 4)\t6.0\n",
            "  (0, 5)\t4.0\n",
            "  (0, 6)\t2.0\n",
            "  (0, 7)\t2.0\n",
            "  (0, 8)\t4.0\n",
            "  (0, 10)\t4.0\n",
            "  (0, 12)\t2.0\n",
            "  (0, 26)\t1.0\n",
            "  (0, 27)\t1.0\n",
            "  (0, 28)\t1.0\n",
            "  (0, 29)\t2.0\n",
            "  (0, 32)\t1.0\n",
            "  (0, 41)\t1.0\n",
            "  (0, 45)\t1.0\n",
            "  (0, 47)\t1.0\n",
            "  (0, 50)\t1.0\n",
            "  (0, 54)\t2.0\n",
            "  (0, 57)\t1.0\n",
            "  (0, 59)\t1.0\n",
            "  (0, 63)\t2.0\n",
            "  (0, 64)\t1.0\n",
            "  :\t:\n",
            "  (24999, 420)\t1.0\n",
            "  (24999, 421)\t1.0\n",
            "  (24999, 426)\t1.0\n",
            "  (24999, 427)\t1.0\n",
            "  (24999, 583)\t1.0\n",
            "  (24999, 585)\t1.0\n",
            "  (24999, 642)\t1.0\n",
            "  (24999, 679)\t2.0\n",
            "  (24999, 680)\t1.0\n",
            "  (24999, 1065)\t1.0\n",
            "  (24999, 1093)\t1.0\n",
            "  (24999, 1224)\t1.0\n",
            "  (24999, 1407)\t1.0\n",
            "  (24999, 1773)\t1.0\n",
            "  (24999, 3947)\t1.0\n",
            "  (24999, 4292)\t1.0\n",
            "  (24999, 4569)\t1.0\n",
            "  (24999, 4949)\t1.0\n",
            "  (24999, 5072)\t1.0\n",
            "  (24999, 5792)\t1.0\n",
            "  (24999, 5947)\t1.0\n",
            "  (24999, 9702)\t1.0\n",
            "  (24999, 12190)\t1.0\n",
            "  (24999, 12803)\t1.0\n",
            "  (24999, 15612)\t1.0\n"
          ]
        }
      ]
    },
    {
      "cell_type": "code",
      "source": [
        "# 1st element in tuple represents the file its in, 2nd element represents the index of word it represents in vocab, float represents frequency\n",
        "# want to remove the words that appear in less than 1% of all documents # only appear in 250 documents\n",
        "# want to remove the words that appear in more than 50% of all documents # appear in 12500 documents\n",
        "import scipy.sparse as sp\n",
        "sign = sum(IMDB_X_train.sign()) # 1 if the word appears in the text 0 if not\n",
        "good = (sign < 12500) - (sign < 250)\n",
        "indices = sp.find(good)\n",
        "\n",
        "IMDB_X_train = IMDB_X_train[:,indices[1]]\n",
        "IMDB_X_train.todense()\n",
        "print(IMDB_X_train)"
      ],
      "metadata": {
        "id": "CvVZpw-SLx6f",
        "outputId": "4062ccbb-c5f2-48d1-d1dc-e0d13273b46f",
        "colab": {
          "base_uri": "https://localhost:8080/"
        }
      },
      "execution_count": 21,
      "outputs": [
        {
          "output_type": "stream",
          "name": "stdout",
          "text": [
            "  (0, 2)\t1.0\n",
            "  (0, 5)\t1.0\n",
            "  (0, 14)\t1.0\n",
            "  (0, 18)\t1.0\n",
            "  (0, 20)\t1.0\n",
            "  (0, 23)\t1.0\n",
            "  (0, 27)\t2.0\n",
            "  (0, 30)\t1.0\n",
            "  (0, 32)\t1.0\n",
            "  (0, 36)\t2.0\n",
            "  (0, 37)\t1.0\n",
            "  (0, 39)\t1.0\n",
            "  (0, 41)\t2.0\n",
            "  (0, 43)\t1.0\n",
            "  (0, 45)\t1.0\n",
            "  (0, 51)\t1.0\n",
            "  (0, 73)\t1.0\n",
            "  (0, 79)\t1.0\n",
            "  (0, 89)\t1.0\n",
            "  (0, 95)\t1.0\n",
            "  (0, 98)\t1.0\n",
            "  (0, 109)\t1.0\n",
            "  (0, 113)\t1.0\n",
            "  (0, 115)\t1.0\n",
            "  (0, 123)\t1.0\n",
            "  :\t:\n",
            "  (24999, 176)\t1.0\n",
            "  (24999, 178)\t1.0\n",
            "  (24999, 206)\t1.0\n",
            "  (24999, 228)\t1.0\n",
            "  (24999, 240)\t1.0\n",
            "  (24999, 272)\t1.0\n",
            "  (24999, 277)\t1.0\n",
            "  (24999, 285)\t1.0\n",
            "  (24999, 310)\t1.0\n",
            "  (24999, 317)\t1.0\n",
            "  (24999, 320)\t1.0\n",
            "  (24999, 364)\t1.0\n",
            "  (24999, 393)\t1.0\n",
            "  (24999, 394)\t1.0\n",
            "  (24999, 399)\t1.0\n",
            "  (24999, 400)\t1.0\n",
            "  (24999, 556)\t1.0\n",
            "  (24999, 558)\t1.0\n",
            "  (24999, 615)\t1.0\n",
            "  (24999, 652)\t2.0\n",
            "  (24999, 653)\t1.0\n",
            "  (24999, 1038)\t1.0\n",
            "  (24999, 1066)\t1.0\n",
            "  (24999, 1195)\t1.0\n",
            "  (24999, 1369)\t1.0\n"
          ]
        }
      ]
    },
    {
      "cell_type": "markdown",
      "source": [
        "## Z-Score Function"
      ],
      "metadata": {
        "id": "3k6XRFDaHUqm"
      }
    },
    {
      "cell_type": "code",
      "source": [
        "from sklearn.utils.extmath import sparse\n",
        "# Z - Score\n",
        "def zscore(X,y):\n",
        "\n",
        "  N = X.shape[0]\n",
        "  std = (IMDB_y_train- y.mean()) / y.std()\n",
        "  z = np. abs(sp.csr_matrix.dot(sp.csr_matrix.transpose(X), std))\n",
        "\n",
        "  return z\n",
        "\n",
        "\n",
        "df = pd.DataFrame(IMDB_X_train.toarray())\n",
        "df.insert(loc=0, column=\"A\", value=IMDB_y_train)\n",
        "IMDB_X_train = sp.csr_matrix(df.values)\n",
        "IMDB_X_train.todense()\n",
        "IMDB_arr = IMDB_X_train.toarray()\n",
        "\n",
        "zscores = zscore(IMDB_X_train,IMDB_y_train)\n",
        "\n",
        "zindex = np.argsort(zscores)[::-1][:300]\n",
        "\n",
        "# get correct indexed feature set\n",
        "new_IMDB_X_train = IMDB_X_train[:,zindex]\n",
        "new_IMDB_X_test = IMDB_X_test[:,zindex]\n",
        "# new_IMDB_y_train = IMDB_y_train[zindex]\n",
        "# new_IMDB_y_test = IMDB_y_test[zindex]\n",
        "\n",
        "\n",
        "# get correct indexed word list\n",
        "vocab = pd.read_csv('aclImdb/imdb.vocab', names=['Words'])\n",
        "vocab = vocab['Words'].values\n",
        "word_list = vocab[indices[1]]\n",
        "word_list = [word_list[i] for i in zindex]\n",
        "\n",
        "# print(zscores.shape[0]) #1746"
      ],
      "metadata": {
        "id": "jKj3Uv9UHUKI"
      },
      "execution_count": 25,
      "outputs": []
    },
    {
      "cell_type": "code",
      "source": [
        "print(zindex)\n",
        "# print(zscores)\n",
        "print(new_IMDB_X_train.shape[0])\n",
        "\n",
        "\n",
        "# IMDB_y_train[IMDB_y_train <= 4] = -1.0\n",
        "# IMDB_y_train[IMDB_y_train >= 7] = 1.0\n",
        "# print(IMDB_y_train)\n"
      ],
      "metadata": {
        "id": "fGwIjJ5vSHOd",
        "outputId": "07e42c30-6734-4c5d-e9bb-a6744fa67726",
        "colab": {
          "base_uri": "https://localhost:8080/"
        }
      },
      "execution_count": 28,
      "outputs": [
        {
          "output_type": "stream",
          "name": "stdout",
          "text": [
            "[   0    1   21   52    3   58   30   15   28    8   12  215   14   27\n",
            "   90    2   13   89   11   17   10   54   63   86   84   46  131   91\n",
            "   35   33   18  108   72   36    5   69  343   70  402   66   56  200\n",
            "  284  348   51  124    7  338   26  344   42  319  196  397  125  242\n",
            "  165   61  303    9  272  149  154  478    6  104  117  204   40   62\n",
            "   22  101   98  179  129  198   81   64  434  191  184  174   25  100\n",
            "  367   48   57  382   19  113  559   24  412   65   38  114  134   99\n",
            "  199  468   49   93  119  269  187   92   16  245   37   20  414  220\n",
            "  484   96  171   79  162  169  315  254  285  235  597  464  243   31\n",
            "    4  123  236  160  248  384  251  151  504   60  148  735  227  318\n",
            "  257  573  221   53  132  788  346  106  831  217   80  723  487  141\n",
            "  298   34  287  136   29  153  168   39  166  845   45  321  330  264\n",
            "   94  164  363  265   44  246  150  556  463  195  226  274  186  449\n",
            "  147  183  441  109  666  362  317  192  308  709  300  228  872  232\n",
            "  241   74  500 1078  881  177  541  137  388  266  225  417  429  230\n",
            "  219  989  371  568  203  126   59  345  120  677  619  558  843  127\n",
            "  527  774  288  566  133  450 1154 1170  524  749  213   50  253  341\n",
            "  630  155  713  138  403  545  194  562  762  143  891   67  470  700\n",
            "  930  356  946  925  157  424  360  375  436 1240  743  350  121  409\n",
            "  494  536  561  866  506  110  390  262  433   71  928  379  426 1223\n",
            "  172  557  595   43  897  167  647  354  537  135  505  927  438 1054\n",
            "  359  306  567  637  361  495]\n",
            "25000\n"
          ]
        }
      ]
    },
    {
      "cell_type": "code",
      "source": [],
      "metadata": {
        "id": "S1u0JaPmMo_N",
        "outputId": "262ab2d1-52bb-4e28-a113-50e505ffdd35",
        "colab": {
          "base_uri": "https://localhost:8080/"
        }
      },
      "execution_count": 82,
      "outputs": [
        {
          "output_type": "execute_result",
          "data": {
            "text/plain": [
              "418"
            ]
          },
          "metadata": {},
          "execution_count": 82
        }
      ]
    },
    {
      "cell_type": "code",
      "source": [
        "# Loading 20 news group dataset\n",
        "categories=['rec.sport.hockey','sci.electronics','talk.politics.guns','sci.space']\n",
        "twenty_train = fetch_20newsgroups(subset='train', categories=categories, remove=(['headers', 'footers', 'quotes']), shuffle=True, random_state=42)\n",
        "\n",
        "'''\n",
        "Cleaning: \n",
        "- filter out rare words, stopwords, and words that are not relevant to any of the 4 class labels.\n",
        "- MI to select the top M ∈ [10, 100] feature words per class and take the union of all top feature words to train your multiclass model.\n",
        "\n",
        "'''\n",
        "\n",
        "download('punkt') #tokenizer, run once\n",
        "download('stopwords') #stopwords dictionary, run once\n",
        "\n",
        "# Tokenize, remove stopwords\n",
        "stop_words = stopwords.words('english')\n",
        "\n",
        "def preprocess(text):\n",
        "    text = text.lower()\n",
        "    doc = word_tokenize(text)\n",
        "    doc = [word for word in doc if word not in stop_words]\n",
        "    # Restricts string to alphabetic characters only\n",
        "    doc = [word for word in doc if word.isalpha()] \n",
        "    return doc\n",
        "\n",
        "# text and ground truth labels\n",
        "texts, y = twenty_train.data, twenty_train.target\n",
        "\n",
        "corpus = [preprocess(text) for text in texts]\n"
      ],
      "metadata": {
        "id": "avXRl9Pq1YdN",
        "colab": {
          "base_uri": "https://localhost:8080/"
        },
        "outputId": "42e001e7-6284-484f-9c1b-4b178343937f"
      },
      "execution_count": null,
      "outputs": [
        {
          "output_type": "stream",
          "name": "stderr",
          "text": [
            "[nltk_data] Downloading package punkt to /root/nltk_data...\n",
            "[nltk_data]   Package punkt is already up-to-date!\n",
            "[nltk_data] Downloading package stopwords to /root/nltk_data...\n",
            "[nltk_data]   Package stopwords is already up-to-date!\n"
          ]
        }
      ]
    },
    {
      "cell_type": "markdown",
      "source": [
        "# Task 1 : Data processing\n",
        "\n"
      ],
      "metadata": {
        "id": "sQE1MfRpbM2s"
      }
    },
    {
      "cell_type": "markdown",
      "source": [
        "## Task 1.2 : IMDB\n",
        "\n",
        " - X contain features based on the words in the movie reviews\n",
        " - y contain labels for whether the review sentiment is positive 1 or negative -1"
      ],
      "metadata": {
        "id": "kMcXOF5bbfbj"
      }
    },
    {
      "cell_type": "code",
      "source": [
        "# IMDB train df\n",
        "\n",
        "\n",
        "# QUESTION TO ANSWER: Do they make sense for calling a movie good and bad, respectively?\n"
      ],
      "metadata": {
        "id": "buYXwTcjbpWA"
      },
      "execution_count": null,
      "outputs": []
    },
    {
      "cell_type": "markdown",
      "source": [
        "## Task 1.2 : Twenty Train\n",
        "\n",
        "Text preprocessing, tokenizing and filtering of stopwords are all included in the CountVectorizer function\n"
      ],
      "metadata": {
        "id": "mpsPgK1HpYIL"
      }
    },
    {
      "cell_type": "code",
      "source": [
        "# Turn the text content into feature vectors\n",
        "count_vect = CountVectorizer() \n",
        "X_train_counts = count_vect.fit_transform(twenty_train.data) # builds a dict of features and transforms docs to feature vectors\n",
        "X_train_counts.shape\n",
        "\n",
        "# Occurences to frequences : TF_IDF\n",
        "\n",
        "tfidf_transformer = TfidfTransformer()\n",
        "X_train_tfidf = tfidf_transformer.fit_transform(X_train_counts)"
      ],
      "metadata": {
        "id": "aQpmgOaTorEJ"
      },
      "execution_count": null,
      "outputs": []
    },
    {
      "cell_type": "code",
      "source": [
        "X = twenty_train.data # Test content\n",
        "\n",
        "# Turn the text content into feature vectors\n",
        "count_vect = CountVectorizer() \n",
        "X_train_counts = count_vect.fit_transform(twenty_train.data) # builds a dict of features and transforms docs to feature vectors\n",
        "X_train_counts.shape\n",
        "\n",
        "# Occurences to frequences : TF_IDF\n",
        "\n",
        "tfidf_transformer = TfidfTransformer()\n",
        "X_train_tfidf = tfidf_transformer.fit_transform(X_train_counts)\n",
        "X = X_train_tfidf\n",
        "X.todense()\n",
        "twenty_train_arr = X.toarray()\n",
        "\n",
        "y_cat = twenty_train.target\n",
        "# convert array of class indices to one-hot encoded array\n",
        "y = np.zeros((y_cat.size, y_cat.max() + 1))\n",
        "y[np.arange(y_cat.size), y_cat] = 1\n",
        "\n",
        "#print(zscore(twenty_train_arr))"
      ],
      "metadata": {
        "id": "fNeX7J3j7XHL"
      },
      "execution_count": null,
      "outputs": []
    },
    {
      "cell_type": "markdown",
      "source": [
        "# Task 2 : Implementing Classes"
      ],
      "metadata": {
        "id": "hBsr2kCsa4xg"
      }
    },
    {
      "cell_type": "markdown",
      "source": [
        "## Task 2.1 : Logistic Regression Class"
      ],
      "metadata": {
        "id": "rUqXu5jLlL0O"
      }
    },
    {
      "cell_type": "code",
      "source": [
        "# Logistic function\n",
        "z = np.linspace(-5,5,100)\n",
        "logistic = lambda z: 1./ (1 + np.exp(-z))\n",
        "\n",
        "# From class Logistic Regression collab\n",
        "class LogisticRegression:\n",
        "    \n",
        "    def __init__(self, add_bias=True, learning_rate=.1, epsilon=1e-4, max_iters=1e5, verbose=False):\n",
        "        self.add_bias = add_bias\n",
        "        self.learning_rate = learning_rate\n",
        "        self.epsilon = epsilon                        #to get the tolerance for the norm of gradients \n",
        "        self.max_iters = max_iters                    #maximum number of iteration of gradient descent\n",
        "        self.verbose = verbose\n",
        "\n",
        "    def gradient(self, x, y):\n",
        "        N,D = x.shape\n",
        "        yh = logistic(np.dot(x, self.w))    # predictions  size N\n",
        "        grad = np.dot(x.T, yh - y)/N        # divide by N because cost is mean over N points\n",
        "        return grad\n",
        "        \n",
        "    def fit(self, x, y):\n",
        "        if x.ndim == 1:\n",
        "            x = x[:, None]\n",
        "        if self.add_bias:\n",
        "            N = x.shape[0]\n",
        "            x = np.column_stack([x,np.ones(N)])\n",
        "        N,D = x.shape\n",
        "        self.w = np.zeros(D)\n",
        "        g = np.inf \n",
        "        t = 0\n",
        "        # the code snippet below is for gradient descent\n",
        "        while np.linalg.norm(g) > self.epsilon and t < self.max_iters:\n",
        "            g = self.gradient(x, y)\n",
        "            self.w = self.w - self.learning_rate * g \n",
        "            t += 1\n",
        "        \n",
        "        if self.verbose:\n",
        "            print(f'terminated after {t} iterations, with norm of the gradient equal to {np.linalg.norm(g)}')\n",
        "            print(f'the weight found: {self.w}')\n",
        "        return self\n",
        "    \n",
        "    def predict(self, x):\n",
        "        if x.ndim == 1:\n",
        "            x = x[:, None]\n",
        "        Nt = x.shape[0]\n",
        "        if self.add_bias:\n",
        "            x = np.column_stack([x,np.ones(Nt)])\n",
        "        yh = logistic(np.dot(x,self.w))            #predict output\n",
        "        return yh\n",
        "\n",
        "# LogisticRegression.gradient = gradient  "
      ],
      "metadata": {
        "id": "yviSnmE3mQPo"
      },
      "execution_count": 111,
      "outputs": []
    },
    {
      "cell_type": "code",
      "source": [
        "# Applying Logistic Regression on the IMDB data\n",
        "\n",
        "model = LogisticRegression(verbose=True, add_bias=False)\n",
        "fit = model.fit(IMDB_X_train,IMDB_y_train).predict(IMDB_X_train)\n",
        "\n",
        "# plt.plot(X_train, y_train, '.', label='dataset')\n",
        "# plt.plot(X_train, prediction, 'g', alpha=.5, label='predictions')\n",
        "# plt.xlabel('x')\n",
        "# plt.ylabel(r'$y$')\n",
        "# plt.legend()\n",
        "# # plt.show()\n",
        "# plt.savefig('IMDB_prediction.png', bbox_inches=\"tight\", dpi=300)"
      ],
      "metadata": {
        "id": "LBTCwz2DcDwQ"
      },
      "execution_count": null,
      "outputs": []
    },
    {
      "cell_type": "code",
      "source": [
        "'''\n",
        "Check Gradient using small perturbation, \n",
        "monitor the cross-entropy as a function of iteration, \n",
        "and report your finding on both datasets\n",
        "'''\n",
        "# Initialize the gradient method of the LogisticRegression class with gradient function\n",
        "# LogisticRegression.gradient = gradient             "
      ],
      "metadata": {
        "id": "fcXaQvDWhBQJ"
      },
      "execution_count": null,
      "outputs": []
    },
    {
      "cell_type": "code",
      "source": [
        "# Extra - Applying KNN on IMDB\n",
        "knn = KNeighborsClassifier()\n",
        "knn.fit(IMDB_X_train[:,:89523], IMDB_y_train)\n",
        "\n",
        "pred = knn.predict(IMDB_X_test)[0]\n",
        "\n",
        "print(\"Test Prediction for 0 : \", pred)"
      ],
      "metadata": {
        "colab": {
          "base_uri": "https://localhost:8080/"
        },
        "id": "6yn6xQgIdCME",
        "outputId": "5a087b31-38bc-4740-ef41-a216f4287a51"
      },
      "execution_count": null,
      "outputs": [
        {
          "output_type": "stream",
          "name": "stdout",
          "text": [
            "Test Prediction for 0 :  4.0\n"
          ]
        }
      ]
    },
    {
      "cell_type": "markdown",
      "source": [
        "## Task 2.2 : Multiclass Regression Class"
      ],
      "metadata": {
        "id": "7gEvPV8emgda"
      }
    },
    {
      "cell_type": "code",
      "source": [
        "# From class Multiclass Regression collab\n",
        "class Multinomial_logistic:\n",
        "    def __init__(self, nFeatures, nClasses):\n",
        "        self.W = np.random.rand(nFeatures, nClasses)\n",
        "\n",
        "    def predict(self, X):\n",
        "        y_pred = np.exp(np.matmul(X, self.W))\n",
        "        return y_pred / y_pred.sum(axis=1).reshape(X.shape[0], 1)\n",
        "\n",
        "    def grad(self, X, y):\n",
        "        return np.matmul(X.transpose(), self.predict(X) - y)\n",
        "\n",
        "    def ce(self, X, y):\n",
        "        return -np.sum(y * np.log(self.predict(X)))\n",
        "\n",
        "    # modify it to add stopping criteria (what can you think of?)\n",
        "    def fit(self, X, y, X_valid=None, y_valid=None, lr=0.005, niter=100):\n",
        "        losses_train = np.zeros(niter)\n",
        "        losses_valid = np.zeros(niter)\n",
        "        for i in range(niter):\n",
        "            self.W = self.W - lr * self.grad(X, y)\n",
        "            loss_train = self.ce(X, y)\n",
        "            losses_train[i] = loss_train\n",
        "            if X_valid is not None and y_valid is not None:\n",
        "                loss_valid = self.ce(X_valid, y_valid)\n",
        "                losses_valid[i] = loss_valid\n",
        "                print(f\"iter {i}: {loss_train:.3f}; {loss_valid:.3f}\")\n",
        "            else:\n",
        "                print(f\"iter {i}: {loss_train:.3f}\")\n",
        "        return losses_train, losses_valid\n",
        "\n",
        "    def check_grad(self, X, y):\n",
        "        N, C = y.shape\n",
        "        D = X.shape[1]\n",
        "\n",
        "        diff = np.zeros((D, C))\n",
        "\n",
        "        W = self.W.copy()\n",
        "\n",
        "        for i in range(D):\n",
        "            for j in range(C):\n",
        "                epsilon = np.zeros((D, C))\n",
        "                epsilon[i, j] = np.random.rand() * 1e-4\n",
        "\n",
        "                self.W = self.W + epsilon\n",
        "                J1 = self.ce(X, y)\n",
        "                self.W = W\n",
        "\n",
        "                self.W = self.W - epsilon\n",
        "                J2 = self.ce(X, y)\n",
        "                self.W = W\n",
        "\n",
        "                numeric_grad = (J1 - J2) / (2 * epsilon[i, j])\n",
        "                derived_grad = self.grad(X, y)[i, j]\n",
        "\n",
        "                diff[i, j] = np.square(derived_grad - numeric_grad).sum() / \\\n",
        "                             np.square(derived_grad + numeric_grad).sum()\n",
        "\n",
        "        # print(diff)\n",
        "        return diff.sum()\n",
        "\n",
        "    def evaluate(self, y, y_pred):\n",
        "      accuracy = sum(y_pred.argmax(axis=1) == y.argmax(axis=1))\n",
        "      accuracy = accuracy / y.shape[0]\n",
        "\n",
        "      return accuracy"
      ],
      "metadata": {
        "id": "zol2Q2ZEmfNI"
      },
      "execution_count": null,
      "outputs": []
    },
    {
      "cell_type": "code",
      "source": [
        "# Applying Multiclass Regression on the 4-class prediction from the 20-news-group data\n",
        "\n",
        "# Split the data into training, validation, and testing\n",
        "X_train, X_test, y_train, y_test = model_selection.train_test_split(\n",
        "    X, y, test_size = 0.33, random_state=1, shuffle=True)\n",
        "\n",
        "X_train, X_valid, y_train, y_valid = model_selection.train_test_split(\n",
        "    X_train, y_train, test_size = 0.5, random_state=1, shuffle=True)\n",
        "\n",
        "#Create model object\n",
        "D = X.shape[1]\n",
        "C = y.shape[1]\n",
        "\n",
        "mlr = Multinomial_logistic(D, C)\n",
        "\n",
        "# check grad\n",
        "print(mlr.check_grad(X_train, y_train))\n",
        "\n"
      ],
      "metadata": {
        "id": "pNCIdH_Ws_a_"
      },
      "execution_count": null,
      "outputs": []
    },
    {
      "cell_type": "markdown",
      "source": [
        "## Task 2.3 : Method comparison using ROC curve"
      ],
      "metadata": {
        "id": "Qgm175hZsNum"
      }
    },
    {
      "cell_type": "code",
      "source": [
        "models = [KNeighborsClassifier(),\n",
        "          DecisionTreeClassifier(),\n",
        "          sk_LogisticRegression()]\n",
        "\n",
        "perf = {}\n",
        "\n",
        "# our implementation is slow you may try sklearn version\n",
        "logitreg = LogisticRegression(max_iters=1e3)\n",
        "fit = logitreg.fit(X_train, y_train)\n",
        "y_test_prob = fit.predict(X_test)\n",
        "fpr, tpr, _ = roc_curve(y_test, y_test_prob)\n",
        "auroc = roc_auc_score(y_test, y_test_prob)\n",
        "perf[\"LogisticRegression (ours)\"] = {'fpr':fpr, 'tpr':tpr, 'auroc':auroc}\n",
        "\n",
        "for model in models:\n",
        "    fit = model.fit(X_train, y_train)\n",
        "    y_test_prob = fit.predict_proba(X_test)[:,1]\n",
        "    fpr, tpr, _ = roc_curve(y_test, y_test_prob)\n",
        "    auroc = roc_auc_score(y_test, y_test_prob)\n",
        "    if type(model).__name__ == \"LogisticRegression\":\n",
        "        perf[\"LogisticRegression (sklearn)\"] = {'fpr':fpr,'tpr':tpr,'auroc':auroc}\n",
        "    else:\n",
        "        perf[type(model).__name__] = {'fpr':fpr,'tpr':tpr,'auroc':auroc}\n",
        "\n",
        "\n",
        "plt.clf()\n",
        "i = 0\n",
        "for model_name, model_perf in perf.items():\n",
        "    plt.plot(model_perf['fpr'], model_perf['tpr'],label=model_name)\n",
        "    plt.text(0.4, i+0.1, model_name + ': AUC = '+ str(round(model_perf['auroc'],2)))\n",
        "    i += 0.1\n",
        "\n",
        "plt.plot([0, 1], [0, 1], color=\"navy\", lw=2, linestyle=\"--\")\n",
        "plt.xlim([0.0, 1.0])\n",
        "plt.ylim([0.0, 1.05])\n",
        "\n",
        "plt.xlabel(\"False Positive Rate\")\n",
        "plt.ylabel(\"True Positive Rate\")\n",
        "plt.title('ROC in predicting Titanic survivor')\n",
        "plt.legend(bbox_to_anchor=(1.04, 0.5), loc=\"upper left\")\n",
        "# plt.show()\n",
        "plt.savefig(\"roc_curve.png\", bbox_inches='tight', dpi=300)\n",
        "# plt.close()"
      ],
      "metadata": {
        "id": "mdb0OA4VsNLU"
      },
      "execution_count": null,
      "outputs": []
    },
    {
      "cell_type": "markdown",
      "source": [
        "# Task 3 : Running Experiments"
      ],
      "metadata": {
        "id": "ROWGHspagVyk"
      }
    },
    {
      "cell_type": "markdown",
      "source": [
        "## Task 3.1 : Z-Scores\n",
        "Report top 10 features with most positive/negative z-scores on the IMDB data using simple linear regression on the movie rating scores."
      ],
      "metadata": {
        "id": "qYBoSlP8gZKP"
      }
    },
    {
      "cell_type": "markdown",
      "source": [
        "## Task 3.2.1: ROC and AUROC for Binary Classification"
      ],
      "metadata": {
        "id": "tmEUPQuRgl6Y"
      }
    },
    {
      "cell_type": "markdown",
      "source": [
        "## Task 3.2.2 : Classification Accuracy for Multi-class Prediction"
      ],
      "metadata": {
        "id": "yN7vFE2EgvTG"
      }
    }
  ]
}