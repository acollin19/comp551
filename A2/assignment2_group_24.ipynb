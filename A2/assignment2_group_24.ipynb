{
  "nbformat": 4,
  "nbformat_minor": 0,
  "metadata": {
    "colab": {
      "provenance": [],
      "collapsed_sections": [],
      "authorship_tag": "ABX9TyM7KRo1HKK3cTRVCFtkSMEd",
      "include_colab_link": true
    },
    "kernelspec": {
      "name": "python3",
      "display_name": "Python 3"
    },
    "language_info": {
      "name": "python"
    }
  },
  "cells": [
    {
      "cell_type": "markdown",
      "metadata": {
        "id": "view-in-github",
        "colab_type": "text"
      },
      "source": [
        "<a href=\"https://colab.research.google.com/github/acollin19/comp551/blob/Angele/A2/assignment2_group_24.ipynb\" target=\"_parent\"><img src=\"https://colab.research.google.com/assets/colab-badge.svg\" alt=\"Open In Colab\"/></a>"
      ]
    },
    {
      "cell_type": "markdown",
      "source": [
        "# Assignment 2\n",
        "\n",
        "## Process:\n",
        "\n",
        "### Task 1: Data Processing  \n",
        "\n",
        "\n",
        "1. IMDB Reviews\n",
        "2. 20 news groups: a multi-class labelled textual dataset\n",
        "\n",
        "\n",
        "### Task 2: Implement Logistic and Multiclass classifiers\n",
        "\n",
        "1. Logistic Regression\n",
        "2. Multiclass Regression\n",
        "3. Comparisons using ROC curve\n",
        "\n",
        "\n",
        "### Task 3: Running Experiments\n",
        "\n",
        "\n",
        "\n",
        "1.    Most positive/negative Z-scores\n",
        "2.   Implement:  \n",
        "    * Binary classification on the IMDB Reviews\n",
        "\n",
        "  *   Multi-class classification on the 20 news group dataset\n",
        "\n",
        "3. Binary classification AUROC on IMDB data\n",
        "  *   Logistic Regression \n",
        "  *   KNN\n",
        "\n",
        "4. Multiclass classification accuracy\n",
        "\n",
        "5. Compare Accuracy of Models (Plot)\n",
        "\n",
        "\n",
        "\n",
        "\n",
        "\n"
      ],
      "metadata": {
        "id": "3MPLXGJNqqK6"
      }
    },
    {
      "cell_type": "code",
      "execution_count": 110,
      "metadata": {
        "id": "zk8gZ35HpnLe"
      },
      "outputs": [],
      "source": [
        "import pandas as pd\n",
        "import numpy as np\n",
        "from sklearn.datasets import load_svmlight_file\n",
        "from scipy.sparse import csr_matrix\n",
        "import scipy.sparse as sp\n",
        "\n",
        "\n",
        "from sklearn.datasets import fetch_20newsgroups\n",
        "from sklearn.feature_extraction.text import CountVectorizer, TfidfTransformer\n",
        "\n",
        "# Multiclass Regression and ROC curve comparisons\n",
        "from sklearn import model_selection\n",
        "from matplotlib import pyplot as plt\n",
        "from sklearn.metrics import roc_curve, roc_auc_score\n",
        "from sklearn.linear_model import LogisticRegression as sk_LogisticRegression\n",
        "from sklearn.tree import DecisionTreeClassifier\n",
        "from sklearn.neighbors import KNeighborsClassifier\n",
        "from nltk import word_tokenize, download\n",
        "from nltk.corpus import stopwords\n"
      ]
    },
    {
      "cell_type": "code",
      "source": [
        "!curl -O https://ai.stanford.edu/~amaas/data/sentiment/aclImdb_v1.tar.gz\n",
        "!tar -xf aclImdb_v1.tar.gz\n",
        "!ls aclImdb\n",
        "!ls aclImdb/test\n",
        "!ls aclImdb/train\n"
      ],
      "metadata": {
        "colab": {
          "base_uri": "https://localhost:8080/"
        },
        "id": "CHwlrYyNIEVK",
        "outputId": "b31623a9-63d7-4caf-fb59-47f940f72c30"
      },
      "execution_count": 121,
      "outputs": [
        {
          "output_type": "stream",
          "name": "stdout",
          "text": [
            "  % Total    % Received % Xferd  Average Speed   Time    Time     Time  Current\n",
            "                                 Dload  Upload   Total   Spent    Left  Speed\n",
            "100 80.2M  100 80.2M    0     0  12.3M      0  0:00:06  0:00:06 --:--:-- 17.5M\n",
            "imdbEr.txt  imdb.vocab\tREADME\ttest  train\n",
            "labeledBow.feat  neg  pos  urls_neg.txt  urls_pos.txt\n",
            "labeledBow.feat  pos\tunsupBow.feat  urls_pos.txt\n",
            "neg\t\t unsup\turls_neg.txt   urls_unsup.txt\n"
          ]
        }
      ]
    },
    {
      "cell_type": "code",
      "source": [
        "# IMDB dataset preprocession\n",
        "IMDB_X_train, IMDB_y_train= load_svmlight_file('aclImdb/train/labeledBow.feat')\n",
        "IMDB_X_test, IMDB_y_test = load_svmlight_file('aclImdb/test/labeledBow.feat') \n"
      ],
      "metadata": {
        "id": "RNMsl4tlfmJD"
      },
      "execution_count": 157,
      "outputs": []
    },
    {
      "cell_type": "markdown",
      "source": [
        "# Task 1 : Data processing\n",
        "\n"
      ],
      "metadata": {
        "id": "sQE1MfRpbM2s"
      }
    },
    {
      "cell_type": "markdown",
      "source": [
        "## Task 1.1 : IMDB\n",
        "\n",
        " - X contain features based on the words in the movie reviews\n",
        " - y contain labels for whether the review score"
      ],
      "metadata": {
        "id": "kMcXOF5bbfbj"
      }
    },
    {
      "cell_type": "code",
      "source": [
        "# 1st element in tuple represents the file its in, 2nd element represents the index of word it represents in vocab, float represents frequency\n",
        "# want to remove the words that appear in less than 1% of all documents # only appear in 250 documents\n",
        "# want to remove the words that appear in more than 50% of all documents # appear in 12500 documents\n",
        "sign = sum(IMDB_X_train.sign()) # 1 if the word appears in the text 0 if not\n",
        "good = ((sign < 12500) - (sign < 250))\n",
        "indices = sp.find(good)\n",
        "\n",
        "IMDB_X_train = IMDB_X_train[:,indices[1]]\n",
        "IMDB_X_test = IMDB_X_test[:,indices[1]]\n",
        "IMDB_X_train.todense()\n",
        "\n",
        "print(indices[1])\n",
        "print(IMDB_X_train.shape[0])\n",
        "\n"
      ],
      "metadata": {
        "id": "CvVZpw-SLx6f",
        "outputId": "eba88707-4deb-4b5e-c0c8-a511688a0a7d",
        "colab": {
          "base_uri": "https://localhost:8080/"
        }
      },
      "execution_count": 158,
      "outputs": [
        {
          "output_type": "stream",
          "name": "stdout",
          "text": [
            "[  21   23   27 ... 1958 1967 1980]\n",
            "25000\n"
          ]
        },
        {
          "output_type": "stream",
          "name": "stderr",
          "text": [
            "/usr/local/lib/python3.7/dist-packages/scipy/sparse/compressed.py:291: SparseEfficiencyWarning: Comparing a sparse matrix with a scalar greater than zero using < is inefficient, try using >= instead.\n",
            "  warn(bad_scalar_msg, SparseEfficiencyWarning)\n"
          ]
        }
      ]
    },
    {
      "cell_type": "markdown",
      "source": [
        "## Z-Score Function"
      ],
      "metadata": {
        "id": "3k6XRFDaHUqm"
      }
    },
    {
      "cell_type": "code",
      "source": [
        "from sklearn.utils.extmath import sparse\n",
        "# Z - Score\n",
        "def zscore(X,y):\n",
        "\n",
        "  N = X.shape[0]\n",
        "  std = (IMDB_y_train- y.mean()) / y.std()\n",
        "  z = np. abs(sp.csr_matrix.dot(sp.csr_matrix.transpose(X), std))\n",
        "\n",
        "  return z\n",
        "\n",
        "df = pd.DataFrame(IMDB_X_train.toarray())\n",
        "df.insert(loc=0, column=\"A\", value=IMDB_y_train)\n",
        "IMDB_X_train = sp.csr_matrix(df.values)\n",
        "IMDB_X_train.todense()\n",
        "IMDB_arr = IMDB_X_train.toarray()\n",
        "\n",
        "zscores = zscore(IMDB_X_train,IMDB_y_train)\n",
        "\n",
        "highestzindex = np.argsort(zscores)[-200:][::-1] # top 200 highest z scores\n",
        "lowestzindex = np.argsort(zscores)[:200][::1] # worst 200 highest z scores\n",
        "zindex = np.concatenate((highestzindex, lowestzindex))\n",
        "\n",
        "# # get correct indexed feature set\n",
        "new_IMDB_X_train = IMDB_X_train[:,zindex].toarray()\n",
        "new_IMDB_X_test = IMDB_X_test[:,zindex].toarray()\n",
        "\n",
        "# # get correct indexed word list\n",
        "data = open('aclImdb/imdb.vocab')\n",
        "vocab = data.read().split('\\n')\n",
        "\n",
        "word_list = [vocab[i]for i in indices[1]]\n",
        "word_list = [word_list[i] for i in zindex]\n",
        "\n"
      ],
      "metadata": {
        "id": "jKj3Uv9UHUKI"
      },
      "execution_count": 159,
      "outputs": []
    },
    {
      "cell_type": "code",
      "source": [
        "# Loading 20 news group dataset\n",
        "categories=['rec.sport.hockey','sci.electronics','talk.politics.guns','sci.space']\n",
        "twenty_train = fetch_20newsgroups(subset='train', categories=categories, remove=(['headers', 'footers', 'quotes']), shuffle=True, random_state=42)\n",
        "\n",
        "'''\n",
        "Cleaning: \n",
        "- filter out rare words, stopwords, and words that are not relevant to any of the 4 class labels.\n",
        "- MI to select the top M ∈ [10, 100] feature words per class and take the union of all top feature words to train your multiclass model.\n",
        "\n",
        "'''\n",
        "\n",
        "download('punkt') #tokenizer, run once\n",
        "download('stopwords') #stopwords dictionary, run once\n",
        "\n",
        "# Tokenize, remove stopwords\n",
        "stop_words = stopwords.words('english')\n",
        "\n",
        "def preprocess(text):\n",
        "    text = text.lower()\n",
        "    doc = word_tokenize(text)\n",
        "    doc = [word for word in doc if word not in stop_words]\n",
        "    # Restricts string to alphabetic characters only\n",
        "    doc = [word for word in doc if word.isalpha()] \n",
        "    return doc\n",
        "\n",
        "# text and ground truth labels\n",
        "texts, y = twenty_train.data, twenty_train.target\n",
        "\n",
        "corpus = [preprocess(text) for text in texts]\n"
      ],
      "metadata": {
        "id": "avXRl9Pq1YdN",
        "colab": {
          "base_uri": "https://localhost:8080/"
        },
        "outputId": "3cc2b154-21d8-41dd-e20c-d4df7241f545"
      },
      "execution_count": 137,
      "outputs": [
        {
          "output_type": "stream",
          "name": "stderr",
          "text": [
            "[nltk_data] Downloading package punkt to /root/nltk_data...\n",
            "[nltk_data]   Unzipping tokenizers/punkt.zip.\n",
            "[nltk_data] Downloading package stopwords to /root/nltk_data...\n",
            "[nltk_data]   Unzipping corpora/stopwords.zip.\n"
          ]
        }
      ]
    },
    {
      "cell_type": "markdown",
      "source": [
        "## Task 1.2 : Twenty Train\n",
        "\n",
        "Text preprocessing, tokenizing and filtering of stopwords are all included in the CountVectorizer function\n"
      ],
      "metadata": {
        "id": "mpsPgK1HpYIL"
      }
    },
    {
      "cell_type": "code",
      "source": [
        "# Turn the text content into feature vectors\n",
        "count_vect = CountVectorizer() \n",
        "X_train_counts = count_vect.fit_transform(twenty_train.data) # builds a dict of features and transforms docs to feature vectors\n",
        "X_train_counts.shape\n",
        "\n",
        "# Occurences to frequences : TF_IDF\n",
        "\n",
        "tfidf_transformer = TfidfTransformer()\n",
        "X_train_tfidf = tfidf_transformer.fit_transform(X_train_counts)"
      ],
      "metadata": {
        "id": "aQpmgOaTorEJ"
      },
      "execution_count": null,
      "outputs": []
    },
    {
      "cell_type": "code",
      "source": [
        "X = twenty_train.data # Test content\n",
        "\n",
        "# Turn the text content into feature vectors\n",
        "count_vect = CountVectorizer() \n",
        "X_train_counts = count_vect.fit_transform(twenty_train.data) # builds a dict of features and transforms docs to feature vectors\n",
        "X_train_counts.shape\n",
        "\n",
        "# Occurences to frequences : TF_IDF\n",
        "\n",
        "tfidf_transformer = TfidfTransformer()\n",
        "X_train_tfidf = tfidf_transformer.fit_transform(X_train_counts)\n",
        "X = X_train_tfidf\n",
        "X.todense()\n",
        "twenty_train_arr = X.toarray()\n",
        "\n",
        "y_cat = twenty_train.target\n",
        "# convert array of class indices to one-hot encoded array\n",
        "y = np.zeros((y_cat.size, y_cat.max() + 1))\n",
        "y[np.arange(y_cat.size), y_cat] = 1\n",
        "\n",
        "#print(zscore(twenty_train_arr))"
      ],
      "metadata": {
        "id": "fNeX7J3j7XHL"
      },
      "execution_count": null,
      "outputs": []
    },
    {
      "cell_type": "markdown",
      "source": [
        "# Task 2 : Implementing Classes"
      ],
      "metadata": {
        "id": "hBsr2kCsa4xg"
      }
    },
    {
      "cell_type": "markdown",
      "source": [
        "## Task 2.1 : Logistic Regression Class"
      ],
      "metadata": {
        "id": "rUqXu5jLlL0O"
      }
    },
    {
      "cell_type": "code",
      "source": [
        "# Logistic function\n",
        "z = np.linspace(-5,5,100)\n",
        "logistic = lambda z: 1./ (1 + np.exp(-z))\n",
        "\n",
        "# From class Logistic Regression collab\n",
        "class LogisticRegression:\n",
        "    \n",
        "    def __init__(self, add_bias=True, learning_rate=.1, epsilon=1e-4, max_iters=1e5, verbose=False):\n",
        "        self.add_bias = add_bias\n",
        "        self.learning_rate = learning_rate\n",
        "        self.epsilon = epsilon                        #to get the tolerance for the norm of gradients \n",
        "        self.max_iters = max_iters                    #maximum number of iteration of gradient descent\n",
        "        self.verbose = verbose\n",
        "\n",
        "    def gradient(self, x, y):\n",
        "        N,D = x.shape\n",
        "        yh = logistic(np.dot(x, self.w))    # predictions  size N\n",
        "        grad = np.dot(x.T, yh - y)/N        # divide by N because cost is mean over N points\n",
        "        return grad\n",
        "        \n",
        "    def fit(self, x, y):\n",
        "        if x.ndim == 1:\n",
        "            x = x[:, None]\n",
        "        if self.add_bias:\n",
        "            N = x.shape[0]\n",
        "            x = np.column_stack([x,np.ones(N)])\n",
        "        N,D = x.shape\n",
        "        self.w = np.zeros(D)\n",
        "        g = np.inf \n",
        "        t = 0\n",
        "        # the code snippet below is for gradient descent\n",
        "        while np.linalg.norm(g) > self.epsilon and t < self.max_iters:\n",
        "            g = self.gradient(x, y)\n",
        "            self.w = self.w - self.learning_rate * g \n",
        "            t += 1\n",
        "        \n",
        "        if self.verbose:\n",
        "            print(f'terminated after {t} iterations, with norm of the gradient equal to {np.linalg.norm(g)}')\n",
        "            print(f'the weight found: {self.w}')\n",
        "        return self\n",
        "    \n",
        "    def predict(self, x):\n",
        "        if x.ndim == 1:\n",
        "            x = x[:, None]\n",
        "        Nt = x.shape[0]\n",
        "        if self.add_bias:\n",
        "            x = np.column_stack([x,np.ones(Nt)])\n",
        "        yh = logistic(np.dot(x,self.w))            #predict output\n",
        "        return yh\n",
        "\n",
        " "
      ],
      "metadata": {
        "id": "yviSnmE3mQPo"
      },
      "execution_count": 160,
      "outputs": []
    },
    {
      "cell_type": "markdown",
      "source": [
        "### Evaluation using Logistic Regression\n"
      ],
      "metadata": {
        "id": "lsz4yb9KIdEr"
      }
    },
    {
      "cell_type": "code",
      "source": [
        "# Applying Logistic Regression on the IMDB data\n",
        "\n",
        "model = LogisticRegression(verbose=True, add_bias=False, max_iters=1e3,learning_rate=.3,epsilon=1e-4)\n",
        "fit = model.fit(new_IMDB_X_train,IMDB_y_train)\n",
        "\n",
        "y_train_pred = fit.predict(new_IMDB_X_train)\n",
        "y_test_pred = fit.predict(new_IMDB_X_test)\n",
        "\n",
        "# Threshold probabilities\n",
        "y_train_pred = (y_train_pred > 0.5).astype(int)\n",
        "y_test_pred = (y_test_pred > 0.5).astype(int)\n",
        "\n",
        "# Accuracy = correctly classified / total classified\n",
        "acc_train = sum(y_train_pred==IMDB_y_train)/len(IMDB_y_train)\n",
        "acc_test = sum(y_test_pred==IMDB_y_test)/len(IMDB_y_test)\n",
        "print(f\"train accuracy: {acc_train:.3f}; test accuracy: {acc_test:.3f}\")\n",
        "\n",
        "# Confusion Matrix\n",
        "from sklearn.metrics import confusion_matrix\n",
        "confusion_matrix(IMDB_y_test,y_test_pred)\n",
        "\n",
        "# Gradient\n",
        "gradient = model.gradient(new_IMDB_X_train, IMDB_y_train) \n",
        "gradient"
      ],
      "metadata": {
        "id": "LBTCwz2DcDwQ",
        "outputId": "51010f79-8b20-4e01-b4ae-4cc6a8f512ea",
        "colab": {
          "base_uri": "https://localhost:8080/"
        }
      },
      "execution_count": 163,
      "outputs": [
        {
          "output_type": "stream",
          "name": "stdout",
          "text": [
            "terminated after 1000 iterations, with norm of the gradient equal to 42.51171188835378\n",
            "the weight found: [1.09639257e+04 5.84688510e+02 2.54310996e+02 1.77795216e+03\n",
            " 6.45762198e+02 5.20358772e+02 8.16358506e+02 5.56851816e+02\n",
            " 1.01987488e+03 9.05044932e+02 4.16083020e+01 8.63735832e+02\n",
            " 8.56740312e+02 4.41650130e+02 1.69965503e+03 1.08501841e+03\n",
            " 4.36310184e+02 9.71410806e+02 8.10772800e+02 9.99420912e+02\n",
            " 5.72478930e+02 3.73910646e+02 2.71754592e+02 2.74778658e+02\n",
            " 5.93410422e+02 1.60945692e+02 4.07053728e+02 5.70635364e+02\n",
            " 5.85528912e+02 9.67324602e+02 2.19439884e+02 3.45621948e+02\n",
            " 6.98542866e+02 1.26771859e+03 3.55798524e+02 2.83179540e+01\n",
            " 3.58450482e+02 2.02767240e+01 3.76512498e+02 4.31778456e+02\n",
            " 1.03133628e+02 1.64820414e+02 3.53978220e+01 5.46247194e+02\n",
            " 1.91883120e+02 1.19484773e+03 4.02821040e+01 8.05296480e+02\n",
            " 1.37085918e+02 5.31364686e+02 5.00988480e+01 1.15674048e+02\n",
            " 3.34527780e+01 2.84642868e+02 8.16740280e+01 2.26232424e+02\n",
            " 5.20097262e+02 5.84753100e+01 1.14290690e+03 1.58401026e+02\n",
            " 2.42098410e+02 2.37273876e+02 2.32272000e+01 1.19808922e+03\n",
            " 2.57949336e+02 2.14696488e+02 1.95749364e+02 5.66443728e+02\n",
            " 5.11504638e+02 8.05522398e+02 3.40521588e+02 2.67862326e+02\n",
            " 2.12515338e+02 1.93381890e+02 1.22393892e+02 3.95776014e+02\n",
            " 4.76473026e+02 1.08055920e+02 1.29978636e+02 2.07163014e+02\n",
            " 2.14783872e+02 7.98685080e+02 2.66565840e+02 1.20405384e+02\n",
            " 4.62079620e+02 4.49958264e+02 4.55490600e+01 8.56143510e+02\n",
            " 2.34846072e+02 2.01420660e+01 7.98337362e+02 1.09556478e+02\n",
            " 4.01676564e+02 6.44612274e+02 2.33537760e+02 1.95145440e+02\n",
            " 3.36381972e+02 1.26521664e+02 9.74713620e+01 4.66831620e+02\n",
            " 3.65953368e+02 2.15475510e+02 8.69171400e+01 2.00574966e+02\n",
            " 3.06445632e+02 9.02744148e+02 9.49459320e+01 6.00790404e+02\n",
            " 8.36556726e+02 4.63764180e+01 1.67415462e+02 9.27911460e+01\n",
            " 2.88251358e+02 2.07320064e+02 3.96785244e+02 1.60160904e+02\n",
            " 2.07968208e+02 1.24870932e+02 1.49557716e+02 1.37172336e+02\n",
            " 1.03094472e+02 2.54097720e+01 9.31754700e+01 9.97340160e+01\n",
            " 6.38858196e+02 1.29416735e+03 2.18067192e+02 1.53482304e+02\n",
            " 1.64241168e+02 9.87618420e+01 5.50169520e+01 1.48693794e+02\n",
            " 1.73686188e+02 8.57227980e+01 4.53017334e+02 2.27506668e+02\n",
            " 1.73206560e+01 1.60455198e+02 1.21594860e+02 1.45777572e+02\n",
            " 2.93459520e+01 1.62255444e+02 5.15694918e+02 2.52697554e+02\n",
            " 1.54843560e+01 6.52058940e+01 2.66240334e+02 1.38161340e+01\n",
            " 1.65495912e+02 3.82792182e+02 6.52247760e+01 8.62871280e+01\n",
            " 1.94664228e+02 1.24631436e+02 6.69252264e+02 8.75882340e+01\n",
            " 2.47129158e+02 6.92402922e+02 1.75209924e+02 1.59896214e+02\n",
            " 6.29827962e+02 2.02496250e+02 5.69560260e+01 5.08427094e+02\n",
            " 7.63428360e+01 7.27544280e+01 1.39297260e+02 3.09108798e+02\n",
            " 1.65056676e+02 1.04793456e+02 1.38457218e+02 5.50571232e+02\n",
            " 1.04497896e+02 2.20186356e+02 3.46620960e+01 8.67554760e+01\n",
            " 1.82514174e+02 1.56003216e+02 9.67690020e+01 1.50690990e+02\n",
            " 4.94476860e+01 2.22598692e+02 1.51267050e+02 5.08398360e+01\n",
            " 3.04591866e+02 2.76172200e+01 1.04025480e+02 1.16326866e+02\n",
            " 1.45890402e+02 8.11911660e+01 2.46168420e+01 8.27633340e+01\n",
            " 1.53591060e+02 1.60358760e+01 1.14038814e+02 1.07318046e+02\n",
            " 3.89169468e+02 4.32548460e+01 9.12303000e+00 1.63958400e+01\n",
            " 4.08405600e+01 2.50467960e+01 2.70390180e+01 1.88781060e+01\n",
            " 3.14555100e+01 1.43175960e+01 1.59377760e+01 2.56108560e+01\n",
            " 1.65738540e+01 1.46896440e+01 1.56017460e+01 6.73515240e+01\n",
            " 3.51039240e+01 1.92501540e+01 2.01622560e+01 1.69818900e+01\n",
            " 1.55297400e+01 6.09908160e+01 1.75699680e+01 1.98262200e+01\n",
            " 3.60520320e+01 4.52570460e+01 3.08314500e+01 5.31659280e+01\n",
            " 2.88392280e+01 5.20978080e+01 5.95146360e+01 4.27487820e+01\n",
            " 4.10325720e+01 1.79180100e+01 1.86260700e+01 3.16355220e+01\n",
            " 3.08314320e+01 1.73179440e+01 2.13335808e+02 2.41826880e+01\n",
            " 1.62378000e+01 1.76659860e+01 3.78162360e+01 2.59228800e+01\n",
            " 1.68978720e+01 2.25985380e+01 2.75430600e+01 5.17257600e+01\n",
            " 6.94757400e+01 1.72459080e+01 3.92803680e+01 4.36368540e+01\n",
            " 1.79659860e+01 5.30579040e+01 2.50107720e+01 1.66338780e+01\n",
            " 1.51817160e+01 1.42096080e+01 5.91306240e+01 3.09154740e+01\n",
            " 3.58839840e+01 2.10743760e+01 1.95142020e+01 2.00422140e+01\n",
            " 1.89141360e+01 2.21905020e+01 4.69492680e+01 1.65738780e+01\n",
            " 4.12005720e+01 1.88781360e+01 1.62978480e+01 2.92472940e+01\n",
            " 3.33636960e+01 3.41197800e+01 2.18184660e+01 6.76035780e+01\n",
            " 2.41826700e+01 1.44496440e+01 1.74739200e+01 1.86861180e+01\n",
            " 3.10234320e+01 1.35255420e+01 1.90460940e+01 3.75881640e+01\n",
            " 2.07142800e+01 1.39935960e+01 6.08707620e+01 1.73058960e+01\n",
            " 1.74139080e+01 1.70418660e+01 2.52147780e+01 4.31928600e+01\n",
            " 2.16384540e+01 1.76060040e+01 2.67870300e+01 2.61389580e+01\n",
            " 1.53016680e+01 1.90437222e+02 2.45667840e+01 2.03183100e+01\n",
            " 9.08141820e+01 2.86832460e+01 1.12704540e+02 1.91061780e+01\n",
            " 1.95262260e+01 1.69459380e+01 1.77500280e+01 1.68186732e+02\n",
            " 3.31717500e+01 3.45998160e+01 2.15423580e+01 1.70899560e+01\n",
            " 1.82179860e+01 1.49416200e+01 1.39696080e+01 2.69670600e+01\n",
            " 3.69041700e+01 4.13086620e+01 1.68378300e+01 1.75460100e+01\n",
            " 4.99496280e+01 2.29706160e+01 1.26470172e+02 1.71619680e+01\n",
            " 1.53857700e+01 1.97902620e+01 1.50376260e+01 4.06724880e+01\n",
            " 2.40146280e+01 1.83261000e+01 2.09062800e+01 6.28150680e+01\n",
            " 1.68858300e+01 3.33876720e+01 3.65080200e+01 1.40056200e+01\n",
            " 1.55536800e+01 4.08165630e+02 1.76059080e+01 2.13143220e+01\n",
            " 2.27184780e+01 1.94662320e+01 2.04622260e+01 1.79060580e+01\n",
            " 2.80950780e+01 2.92832100e+01 4.92774420e+01 3.25116900e+01\n",
            " 1.50496200e+01 1.49897340e+01 3.46118040e+01 1.82779800e+01\n",
            " 1.48936020e+01 2.05942380e+01 1.67539320e+01 3.90282960e+01\n",
            " 1.24441956e+02 2.19025080e+01 3.09275160e+01 2.25984600e+01\n",
            " 2.12063040e+01 1.71619800e+01 4.02645600e+01 3.84162240e+01\n",
            " 2.00421720e+01 1.53137760e+01 5.19538680e+01 5.07055920e+01\n",
            " 2.19023760e+01 2.79631920e+01 1.03187592e+02 1.68259500e+01\n",
            " 8.48133960e+01 2.65108860e+01 2.19983820e+01 2.16263400e+01\n",
            " 1.68499560e+01 2.67869160e+01 3.95323380e+01 1.79660820e+01\n",
            " 2.90312490e+02 1.57336800e+01 2.90071620e+01 2.50347180e+01\n",
            " 4.01444040e+01 2.37507300e+01 5.91185220e+01 2.22385620e+01\n",
            " 2.55387720e+01 3.31956240e+01 1.78819140e+01 2.86951200e+01\n",
            " 2.82150660e+01 3.05674980e+01 2.35227120e+01 1.58298540e+01\n",
            " 2.16865080e+01 3.10353780e+01 1.69698060e+01 1.83139560e+01\n",
            " 1.72938420e+01 1.98826110e+02 1.93940760e+01 4.40690100e+01]\n",
            "train accuracy: 0.204; test accuracy: 0.201\n"
          ]
        },
        {
          "output_type": "execute_result",
          "data": {
            "text/plain": [
              "array([-3.654368e+01, -1.948640e+00, -8.475200e-01, -5.925920e+00,\n",
              "       -2.152360e+00, -1.734280e+00, -2.720840e+00, -1.855920e+00,\n",
              "       -3.399160e+00, -3.016440e+00, -1.386400e-01, -2.878760e+00,\n",
              "       -2.855520e+00, -1.472040e+00, -5.664920e+00, -3.616360e+00,\n",
              "       -1.454240e+00, -3.237640e+00, -2.702240e+00, -3.331000e+00,\n",
              "       -1.908080e+00, -1.246200e+00, -9.057200e-01, -9.158000e-01,\n",
              "       -1.977840e+00, -5.364000e-01, -1.356720e+00, -1.901880e+00,\n",
              "       -1.951520e+00, -3.224080e+00, -7.313600e-01, -1.151920e+00,\n",
              "       -2.328240e+00, -4.225280e+00, -1.185840e+00, -9.436000e-02,\n",
              "       -1.194680e+00, -6.756000e-02, -1.254880e+00, -1.439080e+00,\n",
              "       -3.437200e-01, -5.493600e-01, -1.179600e-01, -1.820640e+00,\n",
              "       -6.395200e-01, -3.982400e+00, -1.342400e-01, -2.684040e+00,\n",
              "       -4.569200e-01, -1.771000e+00, -1.669600e-01, -3.855200e-01,\n",
              "       -1.114800e-01, -9.487200e-01, -2.722000e-01, -7.540400e-01,\n",
              "       -1.733480e+00, -1.948800e-01, -3.809280e+00, -5.279600e-01,\n",
              "       -8.069200e-01, -7.908400e-01, -7.740000e-02, -3.993200e+00,\n",
              "       -8.597200e-01, -7.155600e-01, -6.524400e-01, -1.887920e+00,\n",
              "       -1.704840e+00, -2.684760e+00, -1.134960e+00, -8.927600e-01,\n",
              "       -7.083200e-01, -6.445200e-01, -4.079200e-01, -1.319120e+00,\n",
              "       -1.588080e+00, -3.601600e-01, -4.332000e-01, -6.904800e-01,\n",
              "       -7.158800e-01, -2.662000e+00, -8.884400e-01, -4.013200e-01,\n",
              "       -1.540080e+00, -1.499680e+00, -1.518000e-01, -2.853480e+00,\n",
              "       -7.827200e-01, -6.712000e-02, -2.660840e+00, -3.651600e-01,\n",
              "       -1.338760e+00, -2.148480e+00, -7.783600e-01, -6.504000e-01,\n",
              "       -1.121160e+00, -4.216800e-01, -3.248800e-01, -1.555920e+00,\n",
              "       -1.219720e+00, -7.181600e-01, -2.896800e-01, -6.685200e-01,\n",
              "       -1.021360e+00, -3.008800e+00, -3.164400e-01, -2.002400e+00,\n",
              "       -2.788200e+00, -1.545600e-01, -5.580000e-01, -3.092800e-01,\n",
              "       -9.607200e-01, -6.910000e-01, -1.322480e+00, -5.338000e-01,\n",
              "       -6.931600e-01, -4.162000e-01, -4.984800e-01, -4.572000e-01,\n",
              "       -3.436000e-01, -8.468000e-02, -3.105600e-01, -3.324000e-01,\n",
              "       -2.129280e+00, -4.313400e+00, -7.268000e-01, -5.115600e-01,\n",
              "       -5.474000e-01, -3.291600e-01, -1.833600e-01, -4.956000e-01,\n",
              "       -5.788800e-01, -2.857200e-01, -1.509880e+00, -7.582800e-01,\n",
              "       -5.772000e-02, -5.348000e-01, -4.052800e-01, -4.858800e-01,\n",
              "       -9.780000e-02, -5.408000e-01, -1.718800e+00, -8.422400e-01,\n",
              "       -5.160000e-02, -2.173200e-01, -8.873600e-01, -4.604000e-02,\n",
              "       -5.516000e-01, -1.275840e+00, -2.174000e-01, -2.876000e-01,\n",
              "       -6.488000e-01, -4.154000e-01, -2.230600e+00, -2.919200e-01,\n",
              "       -8.236800e-01, -2.307760e+00, -5.839600e-01, -5.329200e-01,\n",
              "       -2.099200e+00, -6.749200e-01, -1.898400e-01, -1.694560e+00,\n",
              "       -2.544400e-01, -2.424800e-01, -4.642800e-01, -1.030240e+00,\n",
              "       -5.501200e-01, -3.492800e-01, -4.614800e-01, -1.835040e+00,\n",
              "       -3.482800e-01, -7.338800e-01, -1.155200e-01, -2.891600e-01,\n",
              "       -6.083200e-01, -5.199600e-01, -3.225200e-01, -5.022400e-01,\n",
              "       -1.648000e-01, -7.419200e-01, -5.041600e-01, -1.694400e-01,\n",
              "       -1.015200e+00, -9.204000e-02, -3.467200e-01, -3.877200e-01,\n",
              "       -4.862400e-01, -2.706000e-01, -8.204000e-02, -2.758400e-01,\n",
              "       -5.119200e-01, -5.344000e-02, -3.800800e-01, -3.576800e-01,\n",
              "       -1.297080e+00, -1.441600e-01, -3.040000e-02, -5.464000e-02,\n",
              "       -1.361200e-01, -8.348000e-02, -9.012000e-02, -6.292000e-02,\n",
              "       -1.048400e-01, -4.772000e-02, -5.312000e-02, -8.536000e-02,\n",
              "       -5.524000e-02, -4.896000e-02, -5.200000e-02, -2.244800e-01,\n",
              "       -1.170000e-01, -6.416000e-02, -6.720000e-02, -5.660000e-02,\n",
              "       -5.176000e-02, -2.032800e-01, -5.856000e-02, -6.608000e-02,\n",
              "       -1.201600e-01, -1.508400e-01, -1.027600e-01, -1.772000e-01,\n",
              "       -9.612000e-02, -1.736400e-01, -1.983600e-01, -1.424800e-01,\n",
              "       -1.367600e-01, -5.972000e-02, -6.208000e-02, -1.054400e-01,\n",
              "       -1.027600e-01, -5.772000e-02, -7.110400e-01, -8.060000e-02,\n",
              "       -5.412000e-02, -5.888000e-02, -1.260400e-01, -8.640000e-02,\n",
              "       -5.632000e-02, -7.532000e-02, -9.180000e-02, -1.724000e-01,\n",
              "       -2.315600e-01, -5.748000e-02, -1.309200e-01, -1.454400e-01,\n",
              "       -5.988000e-02, -1.768400e-01, -8.336000e-02, -5.544000e-02,\n",
              "       -5.060000e-02, -4.736000e-02, -1.970800e-01, -1.030400e-01,\n",
              "       -1.196000e-01, -7.024000e-02, -6.504000e-02, -6.680000e-02,\n",
              "       -6.304000e-02, -7.396000e-02, -1.564800e-01, -5.524000e-02,\n",
              "       -1.373200e-01, -6.292000e-02, -5.432000e-02, -9.748000e-02,\n",
              "       -1.112000e-01, -1.137200e-01, -7.272000e-02, -2.253200e-01,\n",
              "       -8.060000e-02, -4.816000e-02, -5.824000e-02, -6.228000e-02,\n",
              "       -1.034000e-01, -4.508000e-02, -6.348000e-02, -1.252800e-01,\n",
              "       -6.904000e-02, -4.664000e-02, -2.028800e-01, -5.768000e-02,\n",
              "       -5.804000e-02, -5.680000e-02, -8.404000e-02, -1.439600e-01,\n",
              "       -7.212000e-02, -5.868000e-02, -8.928000e-02, -8.712000e-02,\n",
              "       -5.100000e-02, -6.347200e-01, -8.188000e-02, -6.772000e-02,\n",
              "       -3.026800e-01, -9.560000e-02, -3.756400e-01, -6.368000e-02,\n",
              "       -6.508000e-02, -5.648000e-02, -5.916000e-02, -5.605600e-01,\n",
              "       -1.105600e-01, -1.153200e-01, -7.180000e-02, -5.696000e-02,\n",
              "       -6.072000e-02, -4.980000e-02, -4.656000e-02, -8.988000e-02,\n",
              "       -1.230000e-01, -1.376800e-01, -5.612000e-02, -5.848000e-02,\n",
              "       -1.664800e-01, -7.656000e-02, -4.215200e-01, -5.720000e-02,\n",
              "       -5.128000e-02, -6.596000e-02, -5.012000e-02, -1.355600e-01,\n",
              "       -8.004000e-02, -6.108000e-02, -6.968000e-02, -2.093600e-01,\n",
              "       -5.628000e-02, -1.112800e-01, -1.216800e-01, -4.668000e-02,\n",
              "       -5.184000e-02, -1.360400e+00, -5.868000e-02, -7.104000e-02,\n",
              "       -7.572000e-02, -6.488000e-02, -6.820000e-02, -5.968000e-02,\n",
              "       -9.364000e-02, -9.760000e-02, -1.642400e-01, -1.083600e-01,\n",
              "       -5.016000e-02, -4.996000e-02, -1.153600e-01, -6.092000e-02,\n",
              "       -4.964000e-02, -6.864000e-02, -5.584000e-02, -1.300800e-01,\n",
              "       -4.147600e-01, -7.300000e-02, -1.030800e-01, -7.532000e-02,\n",
              "       -7.068000e-02, -5.720000e-02, -1.342000e-01, -1.280400e-01,\n",
              "       -6.680000e-02, -5.104000e-02, -1.731600e-01, -1.690000e-01,\n",
              "       -7.300000e-02, -9.320000e-02, -3.439200e-01, -5.608000e-02,\n",
              "       -2.826800e-01, -8.836000e-02, -7.332000e-02, -7.208000e-02,\n",
              "       -5.616000e-02, -8.928000e-02, -1.317600e-01, -5.988000e-02,\n",
              "       -9.676000e-01, -5.244000e-02, -9.668000e-02, -8.344000e-02,\n",
              "       -1.338000e-01, -7.916000e-02, -1.970400e-01, -7.412000e-02,\n",
              "       -8.512000e-02, -1.106400e-01, -5.960000e-02, -9.564000e-02,\n",
              "       -9.404000e-02, -1.018800e-01, -7.840000e-02, -5.276000e-02,\n",
              "       -7.228000e-02, -1.034400e-01, -5.656000e-02, -6.104000e-02,\n",
              "       -5.764000e-02, -6.626800e-01, -6.464000e-02, -1.468800e-01])"
            ]
          },
          "metadata": {},
          "execution_count": 163
        }
      ]
    },
    {
      "cell_type": "code",
      "source": [
        "from sklearn.model_selection import cross_val_score, cross_val_predict\n",
        "# Cross Validation Scores\n",
        "clf_lr = sk_LogisticRegression()\n",
        "scores = cross_val_score(clf_lr, new_IMDB_X_train, IMDB_y_train, cv=10, n_jobs=4)\n",
        "scores"
      ],
      "metadata": {
        "colab": {
          "base_uri": "https://localhost:8080/"
        },
        "id": "5YCMsJD7OLYN",
        "outputId": "cc2b7c66-f7a0-437c-b36c-776eb09afd6c"
      },
      "execution_count": 167,
      "outputs": [
        {
          "output_type": "execute_result",
          "data": {
            "text/plain": [
              "array([0.8164, 0.8064, 0.8132, 0.818 , 0.794 , 0.82  , 0.7936, 0.808 ,\n",
              "       0.7936, 0.8048])"
            ]
          },
          "metadata": {},
          "execution_count": 167
        }
      ]
    },
    {
      "cell_type": "markdown",
      "source": [
        "## Task 2.2 : Multiclass Regression Class"
      ],
      "metadata": {
        "id": "7gEvPV8emgda"
      }
    },
    {
      "cell_type": "code",
      "source": [
        "# From class Multiclass Regression collab\n",
        "class Multinomial_logistic:\n",
        "    def __init__(self, nFeatures, nClasses):\n",
        "        self.W = np.random.rand(nFeatures, nClasses)\n",
        "\n",
        "    def predict(self, X):\n",
        "        y_pred = np.exp(np.matmul(X, self.W))\n",
        "        return y_pred / y_pred.sum(axis=1).reshape(X.shape[0], 1)\n",
        "\n",
        "    def grad(self, X, y):\n",
        "        return np.matmul(X.transpose(), self.predict(X) - y)\n",
        "\n",
        "    def ce(self, X, y):\n",
        "        return -np.sum(y * np.log(self.predict(X)))\n",
        "\n",
        "    # modify it to add stopping criteria (what can you think of?)\n",
        "    def fit(self, X, y, X_valid=None, y_valid=None, lr=0.005, niter=100):\n",
        "        losses_train = np.zeros(niter)\n",
        "        losses_valid = np.zeros(niter)\n",
        "        for i in range(niter):\n",
        "            self.W = self.W - lr * self.grad(X, y)\n",
        "            loss_train = self.ce(X, y)\n",
        "            losses_train[i] = loss_train\n",
        "            if X_valid is not None and y_valid is not None:\n",
        "                loss_valid = self.ce(X_valid, y_valid)\n",
        "                losses_valid[i] = loss_valid\n",
        "                print(f\"iter {i}: {loss_train:.3f}; {loss_valid:.3f}\")\n",
        "            else:\n",
        "                print(f\"iter {i}: {loss_train:.3f}\")\n",
        "        return losses_train, losses_valid\n",
        "\n",
        "    def check_grad(self, X, y):\n",
        "        N, C = y.shape\n",
        "        D = X.shape[1]\n",
        "\n",
        "        diff = np.zeros((D, C))\n",
        "\n",
        "        W = self.W.copy()\n",
        "\n",
        "        for i in range(D):\n",
        "            for j in range(C):\n",
        "                epsilon = np.zeros((D, C))\n",
        "                epsilon[i, j] = np.random.rand() * 1e-4\n",
        "\n",
        "                self.W = self.W + epsilon\n",
        "                J1 = self.ce(X, y)\n",
        "                self.W = W\n",
        "\n",
        "                self.W = self.W - epsilon\n",
        "                J2 = self.ce(X, y)\n",
        "                self.W = W\n",
        "\n",
        "                numeric_grad = (J1 - J2) / (2 * epsilon[i, j])\n",
        "                derived_grad = self.grad(X, y)[i, j]\n",
        "\n",
        "                diff[i, j] = np.square(derived_grad - numeric_grad).sum() / \\\n",
        "                             np.square(derived_grad + numeric_grad).sum()\n",
        "\n",
        "        # print(diff)\n",
        "        return diff.sum()\n",
        "\n",
        "    def evaluate(self, y, y_pred):\n",
        "      accuracy = sum(y_pred.argmax(axis=1) == y.argmax(axis=1))\n",
        "      accuracy = accuracy / y.shape[0]\n",
        "\n",
        "      return accuracy"
      ],
      "metadata": {
        "id": "zol2Q2ZEmfNI"
      },
      "execution_count": null,
      "outputs": []
    },
    {
      "cell_type": "markdown",
      "source": [
        "### Evaluation using Multiclass Regression"
      ],
      "metadata": {
        "id": "T4uSeUfEIQPn"
      }
    },
    {
      "cell_type": "code",
      "source": [
        "# Applying Multiclass Regression on the 4-class prediction from the 20-news-group data\n",
        "\n",
        "# Split the data into training, validation, and testing\n",
        "X_train, X_test, y_train, y_test = model_selection.train_test_split(\n",
        "    X, y, test_size = 0.33, random_state=1, shuffle=True)\n",
        "\n",
        "X_train, X_valid, y_train, y_valid = model_selection.train_test_split(\n",
        "    X_train, y_train, test_size = 0.5, random_state=1, shuffle=True)\n",
        "\n",
        "#Create model object\n",
        "D = X.shape[1]\n",
        "C = y.shape[1]\n",
        "\n",
        "mlr = Multinomial_logistic(D, C)\n",
        "\n",
        "# check grad\n",
        "print(mlr.check_grad(X_train, y_train))\n",
        "\n"
      ],
      "metadata": {
        "id": "pNCIdH_Ws_a_"
      },
      "execution_count": null,
      "outputs": []
    },
    {
      "cell_type": "markdown",
      "source": [
        "## Task 2.3 : Method comparison using ROC curve"
      ],
      "metadata": {
        "id": "Qgm175hZsNum"
      }
    },
    {
      "cell_type": "code",
      "source": [
        "models = [KNeighborsClassifier(),\n",
        "          DecisionTreeClassifier(),\n",
        "          sk_LogisticRegression()]\n",
        "\n",
        "perf = {}\n",
        "\n",
        "# our implementation is slow you may try sklearn version\n",
        "logitreg = sk_LogisticRegression()\n",
        "fit = logitreg.fit(new_IMDB_X_train, IMDB_y_train)\n",
        "y_test_prob = fit.predict(new_IMDB_X_test)\n",
        "fpr, tpr, _ = roc_curve(IMDB_y_test, y_test_prob)\n",
        "auroc = roc_auc_score(IMDB_y_test, y_test_prob)\n",
        "perf[\"LogisticRegression (ours)\"] = {'fpr':fpr, 'tpr':tpr, 'auroc':auroc}\n",
        "\n",
        "for model in models:\n",
        "    fit = model.fit(new_IMDB_X_train, IMDB_y_train)\n",
        "    y_test_prob = fit.predict_proba(new_IMDB_X_test)[:,1]\n",
        "    fpr, tpr, _ = roc_curve(IMDB_y_test, y_test_prob)\n",
        "    auroc = roc_auc_score(IMDB_y_test, y_test_prob)\n",
        "    if type(model).__name__ == \"LogisticRegression\":\n",
        "        perf[\"LogisticRegression (sklearn)\"] = {'fpr':fpr,'tpr':tpr,'auroc':auroc}\n",
        "    else:\n",
        "        perf[type(model).__name__] = {'fpr':fpr,'tpr':tpr,'auroc':auroc}\n",
        "\n",
        "\n",
        "plt.clf()\n",
        "i = 0\n",
        "for model_name, model_perf in perf.items():\n",
        "    plt.plot(model_perf['fpr'], model_perf['tpr'],label=model_name)\n",
        "    plt.text(0.4, i+0.1, model_name + ': AUC = '+ str(round(model_perf['auroc'],2)))\n",
        "    i += 0.1\n",
        "\n",
        "plt.plot([0, 1], [0, 1], color=\"navy\", lw=2, linestyle=\"--\")\n",
        "plt.xlim([0.0, 1.0])\n",
        "plt.ylim([0.0, 1.05])\n",
        "\n",
        "plt.xlabel(\"False Positive Rate\")\n",
        "plt.ylabel(\"True Positive Rate\")\n",
        "plt.title('ROC in predicting Titanic survivor')\n",
        "plt.legend(bbox_to_anchor=(1.04, 0.5), loc=\"upper left\")\n",
        "plt.show()\n",
        "# plt.savefig(\"roc_curve.png\", bbox_inches='tight', dpi=300)\n",
        "# plt.close()"
      ],
      "metadata": {
        "id": "mdb0OA4VsNLU",
        "colab": {
          "base_uri": "https://localhost:8080/",
          "height": 615
        },
        "outputId": "8e51811c-48e6-4572-c4c8-f4badbb659dd"
      },
      "execution_count": 103,
      "outputs": [
        {
          "output_type": "stream",
          "name": "stderr",
          "text": [
            "/usr/local/lib/python3.7/dist-packages/sklearn/linear_model/_logistic.py:818: ConvergenceWarning: lbfgs failed to converge (status=1):\n",
            "STOP: TOTAL NO. of ITERATIONS REACHED LIMIT.\n",
            "\n",
            "Increase the number of iterations (max_iter) or scale the data as shown in:\n",
            "    https://scikit-learn.org/stable/modules/preprocessing.html\n",
            "Please also refer to the documentation for alternative solver options:\n",
            "    https://scikit-learn.org/stable/modules/linear_model.html#logistic-regression\n",
            "  extra_warning_msg=_LOGISTIC_SOLVER_CONVERGENCE_MSG,\n"
          ]
        },
        {
          "output_type": "error",
          "ename": "ValueError",
          "evalue": "ignored",
          "traceback": [
            "\u001b[0;31m---------------------------------------------------------------------------\u001b[0m",
            "\u001b[0;31mValueError\u001b[0m                                Traceback (most recent call last)",
            "\u001b[0;32m<ipython-input-103-918555e8d978>\u001b[0m in \u001b[0;36m<module>\u001b[0;34m\u001b[0m\n\u001b[1;32m      9\u001b[0m \u001b[0mfit\u001b[0m \u001b[0;34m=\u001b[0m \u001b[0mlogitreg\u001b[0m\u001b[0;34m.\u001b[0m\u001b[0mfit\u001b[0m\u001b[0;34m(\u001b[0m\u001b[0mnew_IMDB_X_train\u001b[0m\u001b[0;34m,\u001b[0m \u001b[0mIMDB_y_train\u001b[0m\u001b[0;34m)\u001b[0m\u001b[0;34m\u001b[0m\u001b[0;34m\u001b[0m\u001b[0m\n\u001b[1;32m     10\u001b[0m \u001b[0my_test_prob\u001b[0m \u001b[0;34m=\u001b[0m \u001b[0mfit\u001b[0m\u001b[0;34m.\u001b[0m\u001b[0mpredict\u001b[0m\u001b[0;34m(\u001b[0m\u001b[0mnew_IMDB_X_test\u001b[0m\u001b[0;34m)\u001b[0m\u001b[0;34m\u001b[0m\u001b[0;34m\u001b[0m\u001b[0m\n\u001b[0;32m---> 11\u001b[0;31m \u001b[0mfpr\u001b[0m\u001b[0;34m,\u001b[0m \u001b[0mtpr\u001b[0m\u001b[0;34m,\u001b[0m \u001b[0m_\u001b[0m \u001b[0;34m=\u001b[0m \u001b[0mroc_curve\u001b[0m\u001b[0;34m(\u001b[0m\u001b[0mIMDB_y_test\u001b[0m\u001b[0;34m,\u001b[0m \u001b[0my_test_prob\u001b[0m\u001b[0;34m)\u001b[0m\u001b[0;34m\u001b[0m\u001b[0;34m\u001b[0m\u001b[0m\n\u001b[0m\u001b[1;32m     12\u001b[0m \u001b[0mauroc\u001b[0m \u001b[0;34m=\u001b[0m \u001b[0mroc_auc_score\u001b[0m\u001b[0;34m(\u001b[0m\u001b[0mIMDB_y_test\u001b[0m\u001b[0;34m,\u001b[0m \u001b[0my_test_prob\u001b[0m\u001b[0;34m)\u001b[0m\u001b[0;34m\u001b[0m\u001b[0;34m\u001b[0m\u001b[0m\n\u001b[1;32m     13\u001b[0m \u001b[0mperf\u001b[0m\u001b[0;34m[\u001b[0m\u001b[0;34m\"LogisticRegression (ours)\"\u001b[0m\u001b[0;34m]\u001b[0m \u001b[0;34m=\u001b[0m \u001b[0;34m{\u001b[0m\u001b[0;34m'fpr'\u001b[0m\u001b[0;34m:\u001b[0m\u001b[0mfpr\u001b[0m\u001b[0;34m,\u001b[0m \u001b[0;34m'tpr'\u001b[0m\u001b[0;34m:\u001b[0m\u001b[0mtpr\u001b[0m\u001b[0;34m,\u001b[0m \u001b[0;34m'auroc'\u001b[0m\u001b[0;34m:\u001b[0m\u001b[0mauroc\u001b[0m\u001b[0;34m}\u001b[0m\u001b[0;34m\u001b[0m\u001b[0;34m\u001b[0m\u001b[0m\n",
            "\u001b[0;32m/usr/local/lib/python3.7/dist-packages/sklearn/metrics/_ranking.py\u001b[0m in \u001b[0;36mroc_curve\u001b[0;34m(y_true, y_score, pos_label, sample_weight, drop_intermediate)\u001b[0m\n\u001b[1;32m    961\u001b[0m     \"\"\"\n\u001b[1;32m    962\u001b[0m     fps, tps, thresholds = _binary_clf_curve(\n\u001b[0;32m--> 963\u001b[0;31m         \u001b[0my_true\u001b[0m\u001b[0;34m,\u001b[0m \u001b[0my_score\u001b[0m\u001b[0;34m,\u001b[0m \u001b[0mpos_label\u001b[0m\u001b[0;34m=\u001b[0m\u001b[0mpos_label\u001b[0m\u001b[0;34m,\u001b[0m \u001b[0msample_weight\u001b[0m\u001b[0;34m=\u001b[0m\u001b[0msample_weight\u001b[0m\u001b[0;34m\u001b[0m\u001b[0;34m\u001b[0m\u001b[0m\n\u001b[0m\u001b[1;32m    964\u001b[0m     )\n\u001b[1;32m    965\u001b[0m \u001b[0;34m\u001b[0m\u001b[0m\n",
            "\u001b[0;32m/usr/local/lib/python3.7/dist-packages/sklearn/metrics/_ranking.py\u001b[0m in \u001b[0;36m_binary_clf_curve\u001b[0;34m(y_true, y_score, pos_label, sample_weight)\u001b[0m\n\u001b[1;32m    729\u001b[0m     \u001b[0my_type\u001b[0m \u001b[0;34m=\u001b[0m \u001b[0mtype_of_target\u001b[0m\u001b[0;34m(\u001b[0m\u001b[0my_true\u001b[0m\u001b[0;34m)\u001b[0m\u001b[0;34m\u001b[0m\u001b[0;34m\u001b[0m\u001b[0m\n\u001b[1;32m    730\u001b[0m     \u001b[0;32mif\u001b[0m \u001b[0;32mnot\u001b[0m \u001b[0;34m(\u001b[0m\u001b[0my_type\u001b[0m \u001b[0;34m==\u001b[0m \u001b[0;34m\"binary\"\u001b[0m \u001b[0;32mor\u001b[0m \u001b[0;34m(\u001b[0m\u001b[0my_type\u001b[0m \u001b[0;34m==\u001b[0m \u001b[0;34m\"multiclass\"\u001b[0m \u001b[0;32mand\u001b[0m \u001b[0mpos_label\u001b[0m \u001b[0;32mis\u001b[0m \u001b[0;32mnot\u001b[0m \u001b[0;32mNone\u001b[0m\u001b[0;34m)\u001b[0m\u001b[0;34m)\u001b[0m\u001b[0;34m:\u001b[0m\u001b[0;34m\u001b[0m\u001b[0;34m\u001b[0m\u001b[0m\n\u001b[0;32m--> 731\u001b[0;31m         \u001b[0;32mraise\u001b[0m \u001b[0mValueError\u001b[0m\u001b[0;34m(\u001b[0m\u001b[0;34m\"{0} format is not supported\"\u001b[0m\u001b[0;34m.\u001b[0m\u001b[0mformat\u001b[0m\u001b[0;34m(\u001b[0m\u001b[0my_type\u001b[0m\u001b[0;34m)\u001b[0m\u001b[0;34m)\u001b[0m\u001b[0;34m\u001b[0m\u001b[0;34m\u001b[0m\u001b[0m\n\u001b[0m\u001b[1;32m    732\u001b[0m \u001b[0;34m\u001b[0m\u001b[0m\n\u001b[1;32m    733\u001b[0m     \u001b[0mcheck_consistent_length\u001b[0m\u001b[0;34m(\u001b[0m\u001b[0my_true\u001b[0m\u001b[0;34m,\u001b[0m \u001b[0my_score\u001b[0m\u001b[0;34m,\u001b[0m \u001b[0msample_weight\u001b[0m\u001b[0;34m)\u001b[0m\u001b[0;34m\u001b[0m\u001b[0;34m\u001b[0m\u001b[0m\n",
            "\u001b[0;31mValueError\u001b[0m: multiclass format is not supported"
          ]
        }
      ]
    },
    {
      "cell_type": "markdown",
      "source": [
        "# Task 3 : Running Experiments"
      ],
      "metadata": {
        "id": "ROWGHspagVyk"
      }
    },
    {
      "cell_type": "markdown",
      "source": [
        "## Task 3.1 : Z-Scores\n",
        "Report top 10 features with most positive/negative z-scores on the IMDB data using simple linear regression on the movie rating scores.  \n",
        "\n",
        "QUESTION TO ANSWER: Do they make sense for calling a movie good and bad, respectively?\n",
        "\n",
        "\n",
        "ANSWER: The top features with the most positive z-scores do partially make sense as it includes words like 'talents', 'naturally' which are generally used with a positive connotation. \n",
        "However, the top features with the most negative don't make sense in terms of calling a movie bad as it includes words such as 'who', 'he' which dont reveal any information as to if a movie is good or bad.\n",
        "\n",
        "\n"
      ],
      "metadata": {
        "id": "qYBoSlP8gZKP"
      }
    },
    {
      "cell_type": "code",
      "source": [
        "posindexesZ = np.argsort(zindex)[-10:][::-1] # highest-lowest\n",
        "negindexesZ = np.argsort(zindex)[:10][::1] # lowest-highest\n",
        "\n",
        "pos = [word_list[i] for i in posindexesZ]\n",
        "neg = [word_list[i] for i in negindexesZ]\n",
        "\n",
        "print(pos)\n",
        "print(zscores[np.argsort(zscores)[-10:][::-1]])\n",
        "print(neg)\n",
        "print(zscores[np.argsort(zscores)[:10][::1]])\n"
      ],
      "metadata": {
        "colab": {
          "base_uri": "https://localhost:8080/"
        },
        "id": "YjVakIxdCRRm",
        "outputId": "4bc9f26b-2dab-4855-b7d5-d71e94fa3733"
      },
      "execution_count": 144,
      "outputs": [
        {
          "output_type": "stream",
          "name": "stdout",
          "text": [
            "['received', 'discover', 'noticed', 'naturally', 'talents', 'concerned', 'empty', 'witty', 'hits', 'mixed']\n",
            "[86660.19703991  6723.9998858   5727.76839835  4812.51525205\n",
            "  3854.64022019  3589.98336753  3306.88369965  2937.47021926\n",
            "  2800.26686171  2558.4542105 ]\n",
            "['he', 'his', '!', 'by', 'an', 'who', 'they', 'from', 'so', 'like']\n",
            "[0.01938606 0.11033901 0.20391138 0.38087843 0.44247534 0.55575687\n",
            " 0.74857896 0.75157918 0.75452171 0.83523927]\n"
          ]
        }
      ]
    },
    {
      "cell_type": "markdown",
      "source": [
        "## Extra Experiemnts: Linear Regression for predicting ratings in the IMDB data"
      ],
      "metadata": {
        "id": "tmEUPQuRgl6Y"
      }
    },
    {
      "cell_type": "code",
      "source": [
        "from sklearn.linear_model import LinearRegression\n",
        "LinR = LinearRegression()\n",
        "  \n",
        "LinR.fit(new_IMDB_X_train, IMDB_y_train)\n",
        "print(LinR.score(new_IMDB_X_test, IMDB_y_test))\n",
        "\n",
        "true_w = -4\n",
        "plt.clf()\n",
        "plt.plot(new_IMDB_X_train, IMDB_y_train, '.')\n",
        "w_closedform = model.w\n",
        "plt.plot(new_IMDB_X_train, true_w*new_IMDB_X_train, 'b-', label='true model')\n",
        "plt.plot(new_IMDB_X_train, new_IMDB_X_train*w_closedform, 'g--', label='closed-form')\n",
        "plt.xlabel('x')\n",
        "plt.ylabel(r'$y=xw$')\n",
        "plt.legend()\n",
        "plt.savefig(\"linear_fit_closedform.png\",bbox_inches='tight', dpi=300)\n",
        "\n"
      ],
      "metadata": {
        "colab": {
          "base_uri": "https://localhost:8080/",
          "height": 1000
        },
        "id": "h3HJD4xiFGou",
        "outputId": "7533bed8-e7a0-458a-89e9-6077b73778d3"
      },
      "execution_count": 146,
      "outputs": [
        {
          "output_type": "stream",
          "name": "stdout",
          "text": [
            "-1.9338009241607796\n"
          ]
        },
        {
          "output_type": "stream",
          "name": "stderr",
          "text": [
            "/usr/local/lib/python3.7/dist-packages/ipykernel_launcher.py:16: UserWarning: Creating legend with loc=\"best\" can be slow with large amounts of data.\n",
            "  app.launch_new_instance()\n",
            "/usr/local/lib/python3.7/dist-packages/IPython/core/pylabtools.py:128: UserWarning: Creating legend with loc=\"best\" can be slow with large amounts of data.\n",
            "  fig.canvas.print_figure(bytes_io, **kw)\n"
          ]
        },
        {
          "output_type": "display_data",
          "data": {
            "text/plain": [
              "<Figure size 432x288 with 1 Axes>"
            ],
            "image/png": "[encoded data removed]"
          },
          "metadata": {
            "needs_background": "light"
          }
        }
      ]
    }
  ]
}